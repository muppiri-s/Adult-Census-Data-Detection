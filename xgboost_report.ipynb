{
 "cells": [
  {
   "cell_type": "code",
   "execution_count": 1,
   "metadata": {
    "execution": {
     "iopub.execute_input": "2025-01-18T23:44:50.390920Z",
     "iopub.status.busy": "2025-01-18T23:44:50.382355Z",
     "iopub.status.idle": "2025-01-18T23:44:50.404080Z",
     "shell.execute_reply": "2025-01-18T23:44:50.404647Z"
    },
    "papermill": {
     "duration": 0.050835,
     "end_time": "2025-01-18T23:44:50.404918",
     "exception": false,
     "start_time": "2025-01-18T23:44:50.354083",
     "status": "completed"
    },
    "tags": [
     "hide-input"
    ]
   },
   "outputs": [
    {
     "data": {
      "text/markdown": [
       "# XGBoost Training Report by SageMaker Debugger\n",
       "\t\t\t\t\t\t\t\t\t\t\t\t\t\t\t\t\t\t\t Created on 2025-01-18 23:44:50 \n",
       "\n",
       "The SageMaker Debugger `CreateXgboostReport` built-in rule auto-generates this report. This report provides a summary of the XGBoost model training evaluation results, insights of the model performance, and interactive graphs.\n",
       "\n",
       " **Legal disclaimer:** In this report, plots and and recommendations are provided for informational purposes only and are not definitive. You are responsible for making your own independent assessment of the information.\n",
       "]\n",
       "For more information, see the following documentation:\n",
       "\n",
       "* [Amazon SageMaker Developer Guide](https://docs.aws.amazon.com/sagemaker/latest/dg/train-debugger.html)\n",
       "\n",
       "If you want to use the notebook that generated this report, you need to install the following libraries:\n",
       "\n",
       "* [SageMaker Debugger Client Library Github](https://github.com/awslabs/sagemaker-debugger)\n",
       "* [The Bokeh Python Visualization Tool](http://docs.bokeh.org/en/0.11.0/docs/installation.html)\n"
      ],
      "text/plain": [
       "<IPython.core.display.Markdown object>"
      ]
     },
     "metadata": {},
     "output_type": "display_data"
    }
   ],
   "source": [
    "import datetime\n",
    "from IPython.display import display, Markdown\n",
    "\n",
    "timestamp = datetime.datetime.now().replace(microsecond=0)\n",
    "\n",
    "s = f\"# XGBoost Training Report by SageMaker Debugger\\n\\\n",
    "\\t\\t\\t\\t\\t\\t\\t\\t\\t\\t\\t\\t\\t\\t\\t\\t\\t\\t\\t Created on {timestamp} \\n\\\n",
    "\\n\\\n",
    "The SageMaker Debugger `CreateXgboostReport` built-in rule auto-generates this report. This report provides a summary of the XGBoost model training evaluation results, insights of the model performance, and interactive graphs.\\n\\\n",
    "\\n\\\n",
    " **Legal disclaimer:** In this report, plots and and recommendations are provided for informational purposes only and are not definitive. You are responsible for making your own independent assessment of the information.\\n]\\\n",
    "\\n\\\n",
    "For more information, see the following documentation:\\n\\\n",
    "\\n\\\n",
    "* [Amazon SageMaker Developer Guide](https://docs.aws.amazon.com/sagemaker/latest/dg/train-debugger.html)\\n\\\n",
    "\\n\\\n",
    "If you want to use the notebook that generated this report, you need to install the following libraries:\\n\\\n",
    "\\n\\\n",
    "* [SageMaker Debugger Client Library Github](https://github.com/awslabs/sagemaker-debugger)\\n\\\n",
    "* [The Bokeh Python Visualization Tool](http://docs.bokeh.org/en/0.11.0/docs/installation.html)\\n\\\n",
    "\"\n",
    "display(Markdown(s))"
   ]
  },
  {
   "cell_type": "code",
   "execution_count": 2,
   "metadata": {
    "execution": {
     "iopub.execute_input": "2025-01-18T23:44:50.460883Z",
     "iopub.status.busy": "2025-01-18T23:44:50.459699Z",
     "iopub.status.idle": "2025-01-18T23:44:50.461953Z",
     "shell.execute_reply": "2025-01-18T23:44:50.462454Z"
    },
    "papermill": {
     "duration": 0.029859,
     "end_time": "2025-01-18T23:44:50.462620",
     "exception": false,
     "start_time": "2025-01-18T23:44:50.432761",
     "status": "completed"
    },
    "tags": [
     "parameters",
     "hide-input"
    ]
   },
   "outputs": [],
   "source": [
    "# set your plotting frequency\n",
    "plot_step = -1\n",
    "# set the path to your trial data (debug_data_path)\n",
    "s3_path = \"\"\n",
    "path = \"\"\n",
    "\n",
    "is_regression = None\n",
    "is_classification = None"
   ]
  },
  {
   "cell_type": "code",
   "execution_count": 3,
   "id": "26fc3e5b",
   "metadata": {
    "execution": {
     "iopub.execute_input": "2025-01-18T23:44:50.514074Z",
     "iopub.status.busy": "2025-01-18T23:44:50.511453Z",
     "iopub.status.idle": "2025-01-18T23:44:50.515071Z",
     "shell.execute_reply": "2025-01-18T23:44:50.515585Z"
    },
    "papermill": {
     "duration": 0.031538,
     "end_time": "2025-01-18T23:44:50.515822",
     "exception": false,
     "start_time": "2025-01-18T23:44:50.484284",
     "status": "completed"
    },
    "tags": [
     "injected-parameters"
    ]
   },
   "outputs": [],
   "source": [
    "# Parameters\n",
    "path = \"/opt/ml/processing/input/tensors\"\n",
    "plot_step = 995\n",
    "s3_path = \"s3://sagemaker-us-east-2-905417999094/demo-sagemaker-xgboost-adult-income-prediction/xgboost_model/sagemaker-xgboost-2025-01-18-23-41-46-286/debug-output\"\n"
   ]
  },
  {
   "cell_type": "markdown",
   "metadata": {
    "papermill": {
     "duration": 0.02818,
     "end_time": "2025-01-18T23:44:50.601787",
     "exception": false,
     "start_time": "2025-01-18T23:44:50.573607",
     "status": "completed"
    },
    "tags": []
   },
   "source": [
    "The following parameters are the default values auto-generated by the `CreateXgboostReport` built-in rule.\n",
    "\n",
    "- `path (str)` - The local path where Debugger has saved output tensors in the training container.\n",
    "- `plot_step (int)` - The step for which the rule has created the training report.\n",
    "- `s3_path (str)` -  The S3 bucket URI where Debugger has saved the output tensors."
   ]
  },
  {
   "cell_type": "code",
   "execution_count": 4,
   "metadata": {
    "execution": {
     "iopub.execute_input": "2025-01-18T23:44:50.665828Z",
     "iopub.status.busy": "2025-01-18T23:44:50.664725Z",
     "iopub.status.idle": "2025-01-18T23:44:50.669787Z",
     "shell.execute_reply": "2025-01-18T23:44:50.670486Z"
    },
    "papermill": {
     "duration": 0.043187,
     "end_time": "2025-01-18T23:44:50.670761",
     "exception": false,
     "start_time": "2025-01-18T23:44:50.627574",
     "status": "completed"
    },
    "tags": [
     "hide-input",
     "hide-output"
    ]
   },
   "outputs": [],
   "source": [
    "import os\n",
    "if not os.path.exists(\"/opt/ml/config/processingjobconfig.json\"):\n",
    "    path = s3_path\n",
    "    ! pip install smdebug \n",
    "    ! pip install matplotlib\n",
    "    ! pip install scipy\n",
    "    "
   ]
  },
  {
   "cell_type": "code",
   "execution_count": 5,
   "metadata": {
    "execution": {
     "iopub.execute_input": "2025-01-18T23:44:50.731948Z",
     "iopub.status.busy": "2025-01-18T23:44:50.730939Z",
     "iopub.status.idle": "2025-01-18T23:44:50.733958Z",
     "shell.execute_reply": "2025-01-18T23:44:50.733270Z"
    },
    "papermill": {
     "duration": 0.032833,
     "end_time": "2025-01-18T23:44:50.734096",
     "exception": false,
     "start_time": "2025-01-18T23:44:50.701263",
     "status": "completed"
    },
    "tags": [
     "hide-input",
     "hide-output"
    ]
   },
   "outputs": [],
   "source": [
    "if path == \"\":\n",
    "    assert False, \"Path cannot be empty\""
   ]
  },
  {
   "cell_type": "code",
   "execution_count": 6,
   "metadata": {
    "execution": {
     "iopub.execute_input": "2025-01-18T23:44:50.829148Z",
     "iopub.status.busy": "2025-01-18T23:44:50.826198Z",
     "iopub.status.idle": "2025-01-18T23:44:51.614496Z",
     "shell.execute_reply": "2025-01-18T23:44:51.614905Z"
    },
    "papermill": {
     "duration": 0.859115,
     "end_time": "2025-01-18T23:44:51.615097",
     "exception": false,
     "start_time": "2025-01-18T23:44:50.755982",
     "status": "completed"
    },
    "tags": [
     "hide-output",
     "hide-input"
    ]
   },
   "outputs": [
    {
     "name": "stdout",
     "output_type": "stream",
     "text": [
      "[2025-01-18 23:44:51.212 ip-10-0-133-47.us-east-2.compute.internal:66 INFO utils.py:27] RULE_JOB_STOP_SIGNAL_FILENAME: None\n"
     ]
    },
    {
     "name": "stdout",
     "output_type": "stream",
     "text": [
      "[2025-01-18 23:44:51.259 ip-10-0-133-47.us-east-2.compute.internal:66 INFO local_trial.py:35] Loading trial tensors at path /opt/ml/processing/input/tensors\n"
     ]
    }
   ],
   "source": [
    "import re\n",
    "from smdebug.trials import create_trial\n",
    "trial = create_trial(path)\n",
    "tensor_names = trial.tensor_names() # Load all tensor names"
   ]
  },
  {
   "cell_type": "code",
   "execution_count": 7,
   "metadata": {
    "execution": {
     "iopub.execute_input": "2025-01-18T23:44:51.669720Z",
     "iopub.status.busy": "2025-01-18T23:44:51.666627Z",
     "iopub.status.idle": "2025-01-18T23:44:51.672801Z",
     "shell.execute_reply": "2025-01-18T23:44:51.673230Z"
    },
    "papermill": {
     "duration": 0.035077,
     "end_time": "2025-01-18T23:44:51.673378",
     "exception": false,
     "start_time": "2025-01-18T23:44:51.638301",
     "status": "completed"
    },
    "tags": [
     "hide-input"
    ]
   },
   "outputs": [
    {
     "data": {
      "text/markdown": [
       "### Table of Contents\n",
       "- [Distribution of True Labels of the Dataset](#section1)\n",
       "- [Loss vs Step Graph](#section2)\n",
       "- [Feature Importance](#section3)\n",
       "\n",
       "- [Confusion Matrix](#section4)\n",
       "- [Evaluation of the Confusion Matrix](#section4-1)\n",
       "- [Accuracy Rate of Each Diagonal Element over Iteration](#section4-2)\n",
       "\n",
       "- [Receiver Operating Characteristic Curve](#section5)\n",
       "\n",
       "- [Distribution of Residuals at Last Saved Step](#section6)\n"
      ],
      "text/plain": [
       "<IPython.core.display.Markdown object>"
      ]
     },
     "metadata": {},
     "output_type": "display_data"
    }
   ],
   "source": [
    "from IPython.display import display, Markdown\n",
    "\n",
    "SUPPORTED_OBJECTIVES = [\"reg:squarederror\", \"binary:logistic\", \"multi:softmax\"]\n",
    "objective_metric = None\n",
    "if 'hyperparameters/objective' in tensor_names:\n",
    "    objective_metric = trial.tensor('hyperparameters/objective').value(0)[0]\n",
    "\n",
    "    \n",
    "if plot_step == 0:\n",
    "    ERROR_MESSAGE = \"### This report renders graphs with metrics collected every five steps.\\n\\\n",
    "### Please consider running training for more than five rounds.\"\n",
    "    display(Markdown(ERROR_MESSAGE))\n",
    "    \n",
    "ERROR_MESSAGE = f\"### Hyperparameter Objective must be reg:squarederror, binary:logistic or multi:softmax\\n\\\n",
    "### This report currently does not support the objective: {objective_metric}\\n\\\n",
    "### Some of the graphs maybe missing.\\n\\\n",
    "\"    \n",
    "\n",
    "s=\"### Table of Contents\\n\\\n",
    "- [Distribution of True Labels of the Dataset](#section1)\\n\\\n",
    "- [Loss vs Step Graph](#section2)\\n\\\n",
    "- [Feature Importance](#section3)\\n\\\n",
    "\"\n",
    "\n",
    "classfication_specific_graphs=\"\\n\\\n",
    "- [Confusion Matrix](#section4)\\n\\\n",
    "- [Evaluation of the Confusion Matrix](#section4-1)\\n\\\n",
    "- [Accuracy Rate of Each Diagonal Element over Iteration](#section4-2)\\n\\\n",
    "\"\n",
    "binary_classification_specific_graphs=\"\\n\\\n",
    "- [Receiver Operating Characteristic Curve](#section5)\\n\\\n",
    "\"\n",
    "if objective_metric in [\"binary:logistic\", \"multi:softmax\"]:\n",
    "    s +=classfication_specific_graphs\n",
    "if objective_metric in [\"binary:logistic\"]:\n",
    "    s += binary_classification_specific_graphs\n",
    "    \n",
    "s+=\"\\n\\\n",
    "- [Distribution of Residuals at Last Saved Step](#section6)\\n\\\n",
    "\"\n",
    "\n",
    "regression_specific_graphs = \"\\n\\\n",
    "- [Absolute Validation Error per Label Bin over Iteration](#section7)\\n\\\n",
    "- [Mean Absolute Validation Error per Label Bin](#section8)\\n\\\n",
    "\"\n",
    "    \n",
    "if objective_metric in [\"reg:squarederror\"]:\n",
    "    s+=regression_specific_graphs\n",
    "\n",
    "if objective_metric not in SUPPORTED_OBJECTIVES:\n",
    "    display(Markdown(ERROR_MESSAGE))\n",
    "else:\n",
    "    display(Markdown(s))"
   ]
  },
  {
   "cell_type": "code",
   "execution_count": 8,
   "metadata": {
    "execution": {
     "iopub.execute_input": "2025-01-18T23:44:51.725823Z",
     "iopub.status.busy": "2025-01-18T23:44:51.723716Z",
     "iopub.status.idle": "2025-01-18T23:44:52.394628Z",
     "shell.execute_reply": "2025-01-18T23:44:52.392580Z"
    },
    "papermill": {
     "duration": 0.698131,
     "end_time": "2025-01-18T23:44:52.395071",
     "exception": false,
     "start_time": "2025-01-18T23:44:51.696940",
     "status": "completed"
    },
    "tags": [
     "hide-input"
    ]
   },
   "outputs": [
    {
     "data": {
      "text/html": [
       "\n",
       "    <div class=\"bk-root\">\n",
       "        <a href=\"https://bokeh.org\" target=\"_blank\" class=\"bk-logo bk-logo-small bk-logo-notebook\"></a>\n",
       "        <span id=\"1001\">Loading BokehJS ...</span>\n",
       "    </div>"
      ]
     },
     "metadata": {},
     "output_type": "display_data"
    },
    {
     "data": {
      "application/javascript": [
       "\n",
       "(function(root) {\n",
       "  function now() {\n",
       "    return new Date();\n",
       "  }\n",
       "\n",
       "  var force = true;\n",
       "\n",
       "  if (typeof root._bokeh_onload_callbacks === \"undefined\" || force === true) {\n",
       "    root._bokeh_onload_callbacks = [];\n",
       "    root._bokeh_is_loading = undefined;\n",
       "  }\n",
       "\n",
       "  var JS_MIME_TYPE = 'application/javascript';\n",
       "  var HTML_MIME_TYPE = 'text/html';\n",
       "  var EXEC_MIME_TYPE = 'application/vnd.bokehjs_exec.v0+json';\n",
       "  var CLASS_NAME = 'output_bokeh rendered_html';\n",
       "\n",
       "  /**\n",
       "   * Render data to the DOM node\n",
       "   */\n",
       "  function render(props, node) {\n",
       "    var script = document.createElement(\"script\");\n",
       "    node.appendChild(script);\n",
       "  }\n",
       "\n",
       "  /**\n",
       "   * Handle when an output is cleared or removed\n",
       "   */\n",
       "  function handleClearOutput(event, handle) {\n",
       "    var cell = handle.cell;\n",
       "\n",
       "    var id = cell.output_area._bokeh_element_id;\n",
       "    var server_id = cell.output_area._bokeh_server_id;\n",
       "    // Clean up Bokeh references\n",
       "    if (id != null && id in Bokeh.index) {\n",
       "      Bokeh.index[id].model.document.clear();\n",
       "      delete Bokeh.index[id];\n",
       "    }\n",
       "\n",
       "    if (server_id !== undefined) {\n",
       "      // Clean up Bokeh references\n",
       "      var cmd = \"from bokeh.io.state import curstate; print(curstate().uuid_to_server['\" + server_id + \"'].get_sessions()[0].document.roots[0]._id)\";\n",
       "      cell.notebook.kernel.execute(cmd, {\n",
       "        iopub: {\n",
       "          output: function(msg) {\n",
       "            var id = msg.content.text.trim();\n",
       "            if (id in Bokeh.index) {\n",
       "              Bokeh.index[id].model.document.clear();\n",
       "              delete Bokeh.index[id];\n",
       "            }\n",
       "          }\n",
       "        }\n",
       "      });\n",
       "      // Destroy server and session\n",
       "      var cmd = \"import bokeh.io.notebook as ion; ion.destroy_server('\" + server_id + \"')\";\n",
       "      cell.notebook.kernel.execute(cmd);\n",
       "    }\n",
       "  }\n",
       "\n",
       "  /**\n",
       "   * Handle when a new output is added\n",
       "   */\n",
       "  function handleAddOutput(event, handle) {\n",
       "    var output_area = handle.output_area;\n",
       "    var output = handle.output;\n",
       "\n",
       "    // limit handleAddOutput to display_data with EXEC_MIME_TYPE content only\n",
       "    if ((output.output_type != \"display_data\") || (!output.data.hasOwnProperty(EXEC_MIME_TYPE))) {\n",
       "      return\n",
       "    }\n",
       "\n",
       "    var toinsert = output_area.element.find(\".\" + CLASS_NAME.split(' ')[0]);\n",
       "\n",
       "    if (output.metadata[EXEC_MIME_TYPE][\"id\"] !== undefined) {\n",
       "      toinsert[toinsert.length - 1].firstChild.textContent = output.data[JS_MIME_TYPE];\n",
       "      // store reference to embed id on output_area\n",
       "      output_area._bokeh_element_id = output.metadata[EXEC_MIME_TYPE][\"id\"];\n",
       "    }\n",
       "    if (output.metadata[EXEC_MIME_TYPE][\"server_id\"] !== undefined) {\n",
       "      var bk_div = document.createElement(\"div\");\n",
       "      bk_div.innerHTML = output.data[HTML_MIME_TYPE];\n",
       "      var script_attrs = bk_div.children[0].attributes;\n",
       "      for (var i = 0; i < script_attrs.length; i++) {\n",
       "        toinsert[toinsert.length - 1].firstChild.setAttribute(script_attrs[i].name, script_attrs[i].value);\n",
       "        toinsert[toinsert.length - 1].firstChild.textContent = bk_div.children[0].textContent\n",
       "      }\n",
       "      // store reference to server id on output_area\n",
       "      output_area._bokeh_server_id = output.metadata[EXEC_MIME_TYPE][\"server_id\"];\n",
       "    }\n",
       "  }\n",
       "\n",
       "  function register_renderer(events, OutputArea) {\n",
       "\n",
       "    function append_mime(data, metadata, element) {\n",
       "      // create a DOM node to render to\n",
       "      var toinsert = this.create_output_subarea(\n",
       "        metadata,\n",
       "        CLASS_NAME,\n",
       "        EXEC_MIME_TYPE\n",
       "      );\n",
       "      this.keyboard_manager.register_events(toinsert);\n",
       "      // Render to node\n",
       "      var props = {data: data, metadata: metadata[EXEC_MIME_TYPE]};\n",
       "      render(props, toinsert[toinsert.length - 1]);\n",
       "      element.append(toinsert);\n",
       "      return toinsert\n",
       "    }\n",
       "\n",
       "    /* Handle when an output is cleared or removed */\n",
       "    events.on('clear_output.CodeCell', handleClearOutput);\n",
       "    events.on('delete.Cell', handleClearOutput);\n",
       "\n",
       "    /* Handle when a new output is added */\n",
       "    events.on('output_added.OutputArea', handleAddOutput);\n",
       "\n",
       "    /**\n",
       "     * Register the mime type and append_mime function with output_area\n",
       "     */\n",
       "    OutputArea.prototype.register_mime_type(EXEC_MIME_TYPE, append_mime, {\n",
       "      /* Is output safe? */\n",
       "      safe: true,\n",
       "      /* Index of renderer in `output_area.display_order` */\n",
       "      index: 0\n",
       "    });\n",
       "  }\n",
       "\n",
       "  // register the mime type if in Jupyter Notebook environment and previously unregistered\n",
       "  if (root.Jupyter !== undefined) {\n",
       "    var events = require('base/js/events');\n",
       "    var OutputArea = require('notebook/js/outputarea').OutputArea;\n",
       "\n",
       "    if (OutputArea.prototype.mime_types().indexOf(EXEC_MIME_TYPE) == -1) {\n",
       "      register_renderer(events, OutputArea);\n",
       "    }\n",
       "  }\n",
       "\n",
       "  \n",
       "  if (typeof (root._bokeh_timeout) === \"undefined\" || force === true) {\n",
       "    root._bokeh_timeout = Date.now() + 5000;\n",
       "    root._bokeh_failed_load = false;\n",
       "  }\n",
       "\n",
       "  var NB_LOAD_WARNING = {'data': {'text/html':\n",
       "     \"<div style='background-color: #fdd'>\\n\"+\n",
       "     \"<p>\\n\"+\n",
       "     \"BokehJS does not appear to have successfully loaded. If loading BokehJS from CDN, this \\n\"+\n",
       "     \"may be due to a slow or bad network connection. Possible fixes:\\n\"+\n",
       "     \"</p>\\n\"+\n",
       "     \"<ul>\\n\"+\n",
       "     \"<li>re-rerun `output_notebook()` to attempt to load from CDN again, or</li>\\n\"+\n",
       "     \"<li>use INLINE resources instead, as so:</li>\\n\"+\n",
       "     \"</ul>\\n\"+\n",
       "     \"<code>\\n\"+\n",
       "     \"from bokeh.resources import INLINE\\n\"+\n",
       "     \"output_notebook(resources=INLINE)\\n\"+\n",
       "     \"</code>\\n\"+\n",
       "     \"</div>\"}};\n",
       "\n",
       "  function display_loaded() {\n",
       "    var el = document.getElementById(\"1001\");\n",
       "    if (el != null) {\n",
       "      el.textContent = \"BokehJS is loading...\";\n",
       "    }\n",
       "    if (root.Bokeh !== undefined) {\n",
       "      if (el != null) {\n",
       "        el.textContent = \"BokehJS \" + root.Bokeh.version + \" successfully loaded.\";\n",
       "      }\n",
       "    } else if (Date.now() < root._bokeh_timeout) {\n",
       "      setTimeout(display_loaded, 100)\n",
       "    }\n",
       "  }\n",
       "\n",
       "\n",
       "  function run_callbacks() {\n",
       "    try {\n",
       "      root._bokeh_onload_callbacks.forEach(function(callback) {\n",
       "        if (callback != null)\n",
       "          callback();\n",
       "      });\n",
       "    } finally {\n",
       "      delete root._bokeh_onload_callbacks\n",
       "    }\n",
       "    console.debug(\"Bokeh: all callbacks have finished\");\n",
       "  }\n",
       "\n",
       "  function load_libs(css_urls, js_urls, callback) {\n",
       "    if (css_urls == null) css_urls = [];\n",
       "    if (js_urls == null) js_urls = [];\n",
       "\n",
       "    root._bokeh_onload_callbacks.push(callback);\n",
       "    if (root._bokeh_is_loading > 0) {\n",
       "      console.debug(\"Bokeh: BokehJS is being loaded, scheduling callback at\", now());\n",
       "      return null;\n",
       "    }\n",
       "    if (js_urls == null || js_urls.length === 0) {\n",
       "      run_callbacks();\n",
       "      return null;\n",
       "    }\n",
       "    console.debug(\"Bokeh: BokehJS not loaded, scheduling load and callback at\", now());\n",
       "    root._bokeh_is_loading = css_urls.length + js_urls.length;\n",
       "\n",
       "    function on_load() {\n",
       "      root._bokeh_is_loading--;\n",
       "      if (root._bokeh_is_loading === 0) {\n",
       "        console.debug(\"Bokeh: all BokehJS libraries/stylesheets loaded\");\n",
       "        run_callbacks()\n",
       "      }\n",
       "    }\n",
       "\n",
       "    function on_error() {\n",
       "      console.error(\"failed to load \" + url);\n",
       "    }\n",
       "\n",
       "    for (var i = 0; i < css_urls.length; i++) {\n",
       "      var url = css_urls[i];\n",
       "      const element = document.createElement(\"link\");\n",
       "      element.onload = on_load;\n",
       "      element.onerror = on_error;\n",
       "      element.rel = \"stylesheet\";\n",
       "      element.type = \"text/css\";\n",
       "      element.href = url;\n",
       "      console.debug(\"Bokeh: injecting link tag for BokehJS stylesheet: \", url);\n",
       "      document.body.appendChild(element);\n",
       "    }\n",
       "\n",
       "    const hashes = {\"https://cdn.bokeh.org/bokeh/release/bokeh-2.2.3.min.js\": \"T2yuo9Oe71Cz/I4X9Ac5+gpEa5a8PpJCDlqKYO0CfAuEszu1JrXLl8YugMqYe3sM\", \"https://cdn.bokeh.org/bokeh/release/bokeh-widgets-2.2.3.min.js\": \"98GDGJ0kOMCUMUePhksaQ/GYgB3+NH9h996V88sh3aOiUNX3N+fLXAtry6xctSZ6\", \"https://cdn.bokeh.org/bokeh/release/bokeh-tables-2.2.3.min.js\": \"89bArO+nlbP3sgakeHjCo1JYxYR5wufVgA3IbUvDY+K7w4zyxJqssu7wVnfeKCq8\"};\n",
       "\n",
       "    for (var i = 0; i < js_urls.length; i++) {\n",
       "      var url = js_urls[i];\n",
       "      var element = document.createElement('script');\n",
       "      element.onload = on_load;\n",
       "      element.onerror = on_error;\n",
       "      element.async = false;\n",
       "      element.src = url;\n",
       "      if (url in hashes) {\n",
       "        element.crossOrigin = \"anonymous\";\n",
       "        element.integrity = \"sha384-\" + hashes[url];\n",
       "      }\n",
       "      console.debug(\"Bokeh: injecting script tag for BokehJS library: \", url);\n",
       "      document.head.appendChild(element);\n",
       "    }\n",
       "  };\n",
       "\n",
       "  function inject_raw_css(css) {\n",
       "    const element = document.createElement(\"style\");\n",
       "    element.appendChild(document.createTextNode(css));\n",
       "    document.body.appendChild(element);\n",
       "  }\n",
       "\n",
       "  \n",
       "  var js_urls = [\"https://cdn.bokeh.org/bokeh/release/bokeh-2.2.3.min.js\", \"https://cdn.bokeh.org/bokeh/release/bokeh-widgets-2.2.3.min.js\", \"https://cdn.bokeh.org/bokeh/release/bokeh-tables-2.2.3.min.js\"];\n",
       "  var css_urls = [];\n",
       "  \n",
       "\n",
       "  var inline_js = [\n",
       "    function(Bokeh) {\n",
       "      Bokeh.set_log_level(\"info\");\n",
       "    },\n",
       "    function(Bokeh) {\n",
       "    \n",
       "    \n",
       "    }\n",
       "  ];\n",
       "\n",
       "  function run_inline_js() {\n",
       "    \n",
       "    if (root.Bokeh !== undefined || force === true) {\n",
       "      \n",
       "    for (var i = 0; i < inline_js.length; i++) {\n",
       "      inline_js[i].call(root, root.Bokeh);\n",
       "    }\n",
       "    if (force === true) {\n",
       "        display_loaded();\n",
       "      }} else if (Date.now() < root._bokeh_timeout) {\n",
       "      setTimeout(run_inline_js, 100);\n",
       "    } else if (!root._bokeh_failed_load) {\n",
       "      console.log(\"Bokeh: BokehJS failed to load within specified timeout.\");\n",
       "      root._bokeh_failed_load = true;\n",
       "    } else if (force !== true) {\n",
       "      var cell = $(document.getElementById(\"1001\")).parents('.cell').data().cell;\n",
       "      cell.output_area.append_execute_result(NB_LOAD_WARNING)\n",
       "    }\n",
       "\n",
       "  }\n",
       "\n",
       "  if (root._bokeh_is_loading === 0) {\n",
       "    console.debug(\"Bokeh: BokehJS loaded, going straight to plotting\");\n",
       "    run_inline_js();\n",
       "  } else {\n",
       "    load_libs(css_urls, js_urls, function() {\n",
       "      console.debug(\"Bokeh: BokehJS plotting callback run at\", now());\n",
       "      run_inline_js();\n",
       "    });\n",
       "  }\n",
       "}(window));"
      ],
      "application/vnd.bokehjs_load.v0+json": "\n(function(root) {\n  function now() {\n    return new Date();\n  }\n\n  var force = true;\n\n  if (typeof root._bokeh_onload_callbacks === \"undefined\" || force === true) {\n    root._bokeh_onload_callbacks = [];\n    root._bokeh_is_loading = undefined;\n  }\n\n  \n\n  \n  if (typeof (root._bokeh_timeout) === \"undefined\" || force === true) {\n    root._bokeh_timeout = Date.now() + 5000;\n    root._bokeh_failed_load = false;\n  }\n\n  var NB_LOAD_WARNING = {'data': {'text/html':\n     \"<div style='background-color: #fdd'>\\n\"+\n     \"<p>\\n\"+\n     \"BokehJS does not appear to have successfully loaded. If loading BokehJS from CDN, this \\n\"+\n     \"may be due to a slow or bad network connection. Possible fixes:\\n\"+\n     \"</p>\\n\"+\n     \"<ul>\\n\"+\n     \"<li>re-rerun `output_notebook()` to attempt to load from CDN again, or</li>\\n\"+\n     \"<li>use INLINE resources instead, as so:</li>\\n\"+\n     \"</ul>\\n\"+\n     \"<code>\\n\"+\n     \"from bokeh.resources import INLINE\\n\"+\n     \"output_notebook(resources=INLINE)\\n\"+\n     \"</code>\\n\"+\n     \"</div>\"}};\n\n  function display_loaded() {\n    var el = document.getElementById(\"1001\");\n    if (el != null) {\n      el.textContent = \"BokehJS is loading...\";\n    }\n    if (root.Bokeh !== undefined) {\n      if (el != null) {\n        el.textContent = \"BokehJS \" + root.Bokeh.version + \" successfully loaded.\";\n      }\n    } else if (Date.now() < root._bokeh_timeout) {\n      setTimeout(display_loaded, 100)\n    }\n  }\n\n\n  function run_callbacks() {\n    try {\n      root._bokeh_onload_callbacks.forEach(function(callback) {\n        if (callback != null)\n          callback();\n      });\n    } finally {\n      delete root._bokeh_onload_callbacks\n    }\n    console.debug(\"Bokeh: all callbacks have finished\");\n  }\n\n  function load_libs(css_urls, js_urls, callback) {\n    if (css_urls == null) css_urls = [];\n    if (js_urls == null) js_urls = [];\n\n    root._bokeh_onload_callbacks.push(callback);\n    if (root._bokeh_is_loading > 0) {\n      console.debug(\"Bokeh: BokehJS is being loaded, scheduling callback at\", now());\n      return null;\n    }\n    if (js_urls == null || js_urls.length === 0) {\n      run_callbacks();\n      return null;\n    }\n    console.debug(\"Bokeh: BokehJS not loaded, scheduling load and callback at\", now());\n    root._bokeh_is_loading = css_urls.length + js_urls.length;\n\n    function on_load() {\n      root._bokeh_is_loading--;\n      if (root._bokeh_is_loading === 0) {\n        console.debug(\"Bokeh: all BokehJS libraries/stylesheets loaded\");\n        run_callbacks()\n      }\n    }\n\n    function on_error() {\n      console.error(\"failed to load \" + url);\n    }\n\n    for (var i = 0; i < css_urls.length; i++) {\n      var url = css_urls[i];\n      const element = document.createElement(\"link\");\n      element.onload = on_load;\n      element.onerror = on_error;\n      element.rel = \"stylesheet\";\n      element.type = \"text/css\";\n      element.href = url;\n      console.debug(\"Bokeh: injecting link tag for BokehJS stylesheet: \", url);\n      document.body.appendChild(element);\n    }\n\n    const hashes = {\"https://cdn.bokeh.org/bokeh/release/bokeh-2.2.3.min.js\": \"T2yuo9Oe71Cz/I4X9Ac5+gpEa5a8PpJCDlqKYO0CfAuEszu1JrXLl8YugMqYe3sM\", \"https://cdn.bokeh.org/bokeh/release/bokeh-widgets-2.2.3.min.js\": \"98GDGJ0kOMCUMUePhksaQ/GYgB3+NH9h996V88sh3aOiUNX3N+fLXAtry6xctSZ6\", \"https://cdn.bokeh.org/bokeh/release/bokeh-tables-2.2.3.min.js\": \"89bArO+nlbP3sgakeHjCo1JYxYR5wufVgA3IbUvDY+K7w4zyxJqssu7wVnfeKCq8\"};\n\n    for (var i = 0; i < js_urls.length; i++) {\n      var url = js_urls[i];\n      var element = document.createElement('script');\n      element.onload = on_load;\n      element.onerror = on_error;\n      element.async = false;\n      element.src = url;\n      if (url in hashes) {\n        element.crossOrigin = \"anonymous\";\n        element.integrity = \"sha384-\" + hashes[url];\n      }\n      console.debug(\"Bokeh: injecting script tag for BokehJS library: \", url);\n      document.head.appendChild(element);\n    }\n  };\n\n  function inject_raw_css(css) {\n    const element = document.createElement(\"style\");\n    element.appendChild(document.createTextNode(css));\n    document.body.appendChild(element);\n  }\n\n  \n  var js_urls = [\"https://cdn.bokeh.org/bokeh/release/bokeh-2.2.3.min.js\", \"https://cdn.bokeh.org/bokeh/release/bokeh-widgets-2.2.3.min.js\", \"https://cdn.bokeh.org/bokeh/release/bokeh-tables-2.2.3.min.js\"];\n  var css_urls = [];\n  \n\n  var inline_js = [\n    function(Bokeh) {\n      Bokeh.set_log_level(\"info\");\n    },\n    function(Bokeh) {\n    \n    \n    }\n  ];\n\n  function run_inline_js() {\n    \n    if (root.Bokeh !== undefined || force === true) {\n      \n    for (var i = 0; i < inline_js.length; i++) {\n      inline_js[i].call(root, root.Bokeh);\n    }\n    if (force === true) {\n        display_loaded();\n      }} else if (Date.now() < root._bokeh_timeout) {\n      setTimeout(run_inline_js, 100);\n    } else if (!root._bokeh_failed_load) {\n      console.log(\"Bokeh: BokehJS failed to load within specified timeout.\");\n      root._bokeh_failed_load = true;\n    } else if (force !== true) {\n      var cell = $(document.getElementById(\"1001\")).parents('.cell').data().cell;\n      cell.output_area.append_execute_result(NB_LOAD_WARNING)\n    }\n\n  }\n\n  if (root._bokeh_is_loading === 0) {\n    console.debug(\"Bokeh: BokehJS loaded, going straight to plotting\");\n    run_inline_js();\n  } else {\n    load_libs(css_urls, js_urls, function() {\n      console.debug(\"Bokeh: BokehJS plotting callback run at\", now());\n      run_inline_js();\n    });\n  }\n}(window));"
     },
     "metadata": {},
     "output_type": "display_data"
    }
   ],
   "source": [
    "from bokeh.io import output_notebook, show\n",
    "from bokeh.layouts import gridplot\n",
    "from bokeh.models import ColumnDataSource\n",
    "from bokeh.plotting import figure\n",
    "output_notebook()"
   ]
  },
  {
   "cell_type": "markdown",
   "metadata": {
    "papermill": {
     "duration": 0.02833,
     "end_time": "2025-01-18T23:44:52.463552",
     "exception": false,
     "start_time": "2025-01-18T23:44:52.435222",
     "status": "completed"
    },
    "tags": []
   },
   "source": [
    "## Distribution of True Labels of the Dataset  <a name=\"section1\"></a>\n",
    "\n",
    "In the following graph, you can check the histogram of the true (target) labels of your raw data. You can see if the distribution of the target labels for prediction are skewed (in case of regression) or imbalanced (in case of classification).\n",
    "\n",
    "* If the data for regression is skewed, you might want to reduce the skewness by taking the log or power transformation on the right-scewed or the left-scewed data respectively. Using the Python [NumPy](https://numpy.org/) library, you can simply apply [numpy.log](https://numpy.org/doc/stable/reference/generated/numpy.log.html?highlight=log#numpy.log) or [numpy.exp](https://numpy.org/doc/stable/reference/generated/numpy.exp.html?highlight=exp#numpy.exp) to your target values.\n",
    "* If the data for classification is imbalanced, you might want to improve your sample by collecting more data, resampling, or generating synthetic samples. This can also be mitigated at the step of evaluating performance metrics, such as Confusion Matrix, Precision, Recall, F-score, and Receiver Operating Characteristic curves.\n",
    "\n",
    "\n"
   ]
  },
  {
   "cell_type": "code",
   "execution_count": 9,
   "metadata": {
    "execution": {
     "iopub.execute_input": "2025-01-18T23:44:52.526966Z",
     "iopub.status.busy": "2025-01-18T23:44:52.525819Z",
     "iopub.status.idle": "2025-01-18T23:44:52.702853Z",
     "shell.execute_reply": "2025-01-18T23:44:52.706538Z"
    },
    "papermill": {
     "duration": 0.220371,
     "end_time": "2025-01-18T23:44:52.707418",
     "exception": false,
     "start_time": "2025-01-18T23:44:52.487047",
     "status": "completed"
    },
    "tags": [
     "hide-input"
    ]
   },
   "outputs": [
    {
     "data": {
      "text/html": [
       "\n",
       "\n",
       "\n",
       "\n",
       "\n",
       "\n",
       "  <div class=\"bk-root\" id=\"b4d4d3a9-14b3-478f-85c9-7e629b52ec4c\" data-root-id=\"1003\"></div>\n"
      ]
     },
     "metadata": {},
     "output_type": "display_data"
    },
    {
     "data": {
      "application/javascript": [
       "(function(root) {\n",
       "  function embed_document(root) {\n",
       "    \n",
       "  var docs_json = {\"06340d31-6a98-4f86-a4b5-8f813ac69961\":{\"roots\":{\"references\":[{\"attributes\":{\"below\":[{\"id\":\"1014\"}],\"center\":[{\"id\":\"1017\"},{\"id\":\"1021\"}],\"left\":[{\"id\":\"1018\"}],\"plot_height\":500,\"plot_width\":1000,\"renderers\":[{\"id\":\"1040\"}],\"title\":{\"id\":\"1004\"},\"toolbar\":{\"id\":\"1030\"},\"toolbar_location\":\"left\",\"x_range\":{\"id\":\"1006\"},\"x_scale\":{\"id\":\"1010\"},\"y_range\":{\"id\":\"1008\"},\"y_scale\":{\"id\":\"1012\"}},\"id\":\"1003\",\"subtype\":\"Figure\",\"type\":\"Plot\"},{\"attributes\":{},\"id\":\"1024\",\"type\":\"ResetTool\"},{\"attributes\":{},\"id\":\"1006\",\"type\":\"DataRange1d\"},{\"attributes\":{\"interval\":1},\"id\":\"1042\",\"type\":\"SingleIntervalTicker\"},{\"attributes\":{\"overlay\":{\"id\":\"1028\"}},\"id\":\"1025\",\"type\":\"PolySelectTool\"},{\"attributes\":{},\"id\":\"1046\",\"type\":\"BasicTickFormatter\"},{\"attributes\":{},\"id\":\"1045\",\"type\":\"BasicTickFormatter\"},{\"attributes\":{\"overlay\":{\"id\":\"1027\"}},\"id\":\"1026\",\"type\":\"BoxZoomTool\"},{\"attributes\":{},\"id\":\"1010\",\"type\":\"LinearScale\"},{\"attributes\":{\"fill_alpha\":{\"value\":0.1},\"fill_color\":{\"value\":\"#1f77b4\"},\"line_alpha\":{\"value\":0.1},\"line_color\":{\"value\":\"#1f77b4\"},\"top\":{\"field\":\"label_count\"},\"width\":{\"value\":0.5},\"x\":{\"field\":\"label\"}},\"id\":\"1039\",\"type\":\"VBar\"},{\"attributes\":{},\"id\":\"1050\",\"type\":\"Selection\"},{\"attributes\":{\"start\":0},\"id\":\"1008\",\"type\":\"DataRange1d\"},{\"attributes\":{},\"id\":\"1012\",\"type\":\"LinearScale\"},{\"attributes\":{},\"id\":\"1051\",\"type\":\"UnionRenderers\"},{\"attributes\":{\"axis_label\":\"Labels\",\"formatter\":{\"id\":\"1045\"},\"ticker\":{\"id\":\"1042\"}},\"id\":\"1014\",\"type\":\"LinearAxis\"},{\"attributes\":{},\"id\":\"1019\",\"type\":\"BasicTicker\"},{\"attributes\":{\"axis\":{\"id\":\"1014\"},\"grid_line_color\":null,\"ticker\":null},\"id\":\"1017\",\"type\":\"Grid\"},{\"attributes\":{\"data_source\":{\"id\":\"1002\"},\"glyph\":{\"id\":\"1038\"},\"hover_glyph\":null,\"muted_glyph\":null,\"nonselection_glyph\":{\"id\":\"1039\"},\"selection_glyph\":null,\"view\":{\"id\":\"1041\"}},\"id\":\"1040\",\"type\":\"GlyphRenderer\"},{\"attributes\":{\"axis\":{\"id\":\"1018\"},\"dimension\":1,\"ticker\":null},\"id\":\"1021\",\"type\":\"Grid\"},{\"attributes\":{\"axis_label\":\"Count Of Samples Per Label\",\"formatter\":{\"id\":\"1046\"},\"ticker\":{\"id\":\"1019\"}},\"id\":\"1018\",\"type\":\"LinearAxis\"},{\"attributes\":{\"bottom_units\":\"screen\",\"fill_alpha\":0.5,\"fill_color\":\"lightgrey\",\"left_units\":\"screen\",\"level\":\"overlay\",\"line_alpha\":1.0,\"line_color\":\"black\",\"line_dash\":[4,4],\"line_width\":2,\"right_units\":\"screen\",\"top_units\":\"screen\"},\"id\":\"1027\",\"type\":\"BoxAnnotation\"},{\"attributes\":{\"data\":{\"label\":{\"__ndarray__\":\"AAAAAAAAgD8=\",\"dtype\":\"float32\",\"order\":\"little\",\"shape\":[2]},\"label_count\":[977800,324600]},\"selected\":{\"id\":\"1050\"},\"selection_policy\":{\"id\":\"1051\"}},\"id\":\"1002\",\"type\":\"ColumnDataSource\"},{\"attributes\":{\"fill_alpha\":0.5,\"fill_color\":\"lightgrey\",\"level\":\"overlay\",\"line_alpha\":1.0,\"line_color\":\"black\",\"line_dash\":[4,4],\"line_width\":2,\"xs_units\":\"screen\",\"ys_units\":\"screen\"},\"id\":\"1028\",\"type\":\"PolyAnnotation\"},{\"attributes\":{\"callback\":null,\"tooltips\":[[\"label\",\"@label\"],[\"count\",\"@label_count\"]]},\"id\":\"1029\",\"type\":\"HoverTool\"},{\"attributes\":{\"source\":{\"id\":\"1002\"}},\"id\":\"1041\",\"type\":\"CDSView\"},{\"attributes\":{\"active_drag\":\"auto\",\"active_inspect\":\"auto\",\"active_multi\":null,\"active_scroll\":\"auto\",\"active_tap\":\"auto\",\"tools\":[{\"id\":\"1022\"},{\"id\":\"1023\"},{\"id\":\"1024\"},{\"id\":\"1025\"},{\"id\":\"1026\"},{\"id\":\"1029\"}]},\"id\":\"1030\",\"type\":\"Toolbar\"},{\"attributes\":{},\"id\":\"1022\",\"type\":\"PanTool\"},{\"attributes\":{\"fill_color\":{\"value\":\"#1f77b4\"},\"line_color\":{\"value\":\"#1f77b4\"},\"top\":{\"field\":\"label_count\"},\"width\":{\"value\":0.5},\"x\":{\"field\":\"label\"}},\"id\":\"1038\",\"type\":\"VBar\"},{\"attributes\":{\"text\":\"Distribution Of True Labels In The Validation Dataset\"},\"id\":\"1004\",\"type\":\"Title\"},{\"attributes\":{},\"id\":\"1023\",\"type\":\"WheelZoomTool\"}],\"root_ids\":[\"1003\"]},\"title\":\"Bokeh Application\",\"version\":\"2.2.3\"}};\n",
       "  var render_items = [{\"docid\":\"06340d31-6a98-4f86-a4b5-8f813ac69961\",\"root_ids\":[\"1003\"],\"roots\":{\"1003\":\"b4d4d3a9-14b3-478f-85c9-7e629b52ec4c\"}}];\n",
       "  root.Bokeh.embed.embed_items_notebook(docs_json, render_items);\n",
       "\n",
       "  }\n",
       "  if (root.Bokeh !== undefined) {\n",
       "    embed_document(root);\n",
       "  } else {\n",
       "    var attempts = 0;\n",
       "    var timer = setInterval(function(root) {\n",
       "      if (root.Bokeh !== undefined) {\n",
       "        clearInterval(timer);\n",
       "        embed_document(root);\n",
       "      } else {\n",
       "        attempts++;\n",
       "        if (attempts > 100) {\n",
       "          clearInterval(timer);\n",
       "          console.log(\"Bokeh: ERROR: Unable to run BokehJS code because BokehJS library is missing\");\n",
       "        }\n",
       "      }\n",
       "    }, 10, root)\n",
       "  }\n",
       "})(window);"
      ],
      "application/vnd.bokehjs_exec.v0+json": ""
     },
     "metadata": {
      "application/vnd.bokehjs_exec.v0+json": {
       "id": "1003"
      }
     },
     "output_type": "display_data"
    }
   ],
   "source": [
    "import numpy as np\n",
    "from bokeh.models.tickers import SingleIntervalTicker\n",
    "\n",
    "def plot_label_distribution():\n",
    "    labels = []\n",
    "    label_steps = trial.tensor('labels').steps()\n",
    "    for step in label_steps:\n",
    "        label = trial.tensor('labels').value(step)\n",
    "        if objective_metric in [\"binary:logistic\", \"multi:softmax\"]:\n",
    "            label = label.round()\n",
    "        labels.append(label)\n",
    "    \n",
    "    labels, label_counts = np.unique(labels, return_counts=True)\n",
    "    TOOLS=\"pan,wheel_zoom,reset,poly_select,box_zoom\"\n",
    "    TOOLTIPS = [\n",
    "        (\"label\", \"@label\"),\n",
    "        (\"count\", \"@label_count\"),\n",
    "    ]\n",
    "    source = ColumnDataSource(data=dict(label=labels, label_count=label_counts))\n",
    "    p = figure(\n",
    "        title=f\"Distribution Of True Labels In The Validation Dataset\",\n",
    "        toolbar_location=\"left\", \n",
    "        tools=TOOLS,\n",
    "        tooltips=TOOLTIPS,\n",
    "        plot_height=500,\n",
    "        plot_width=1000\n",
    "    )\n",
    "    p.vbar(x='label', top='label_count', source=source, width=0.5)\n",
    "    p.xgrid.grid_line_color = None\n",
    "    p.xaxis.axis_label = 'Labels'\n",
    "    p.yaxis.axis_label = 'Count Of Samples Per Label'\n",
    "    p.y_range.start = 0\n",
    "    p.xaxis.ticker = SingleIntervalTicker(interval=1)\n",
    "\n",
    "    show(p)\n",
    "    \n",
    "avail_steps = trial.steps()\n",
    "if \"labels\" in tensor_names and 'predictions' in tensor_names:\n",
    "    plot_label_distribution()\n",
    "else:\n",
    "    error_message = \"\\n\\\n",
    "    Labels and Predictions are missing in the debugger data output.\\n\\\n",
    "    Please check if labels and predictions are included in your Debugger Hook Config.\\n\\\n",
    "    \"\n",
    "    display(Markdown(error_message))"
   ]
  },
  {
   "cell_type": "markdown",
   "metadata": {
    "papermill": {
     "duration": 0.025997,
     "end_time": "2025-01-18T23:44:52.777166",
     "exception": false,
     "start_time": "2025-01-18T23:44:52.751169",
     "status": "completed"
    },
    "tags": []
   },
   "source": [
    "## Loss vs Step Graph <a name=\"section2\"></a> \n",
    "\n",
    "SageMaker Debugger automatically captures loss values of the [XGBoost Learning Task Parameters](https://xgboost.readthedocs.io/en/latest/parameter.html#learning-task-parameters).\n",
    "\n",
    "The loss curves provide the following insights.\n",
    "\n",
    "* An **underfitting** model *(high bias)* has high training error and high validation error. Underfitting means that your model is not converging while training, resulting in a generalization failure on both training and validation data sets.\n",
    "* An **overfitting** model *(high variance)* has extremely low training error but a high validation error. Overfitting happens when your model is trained too well to fit the noisy training data, resulting in negative impacts on your model performance on validation set.\n",
    "\n",
    "\n",
    "**Suggestions**:\n",
    "\n",
    "* If underfitting, the model is not suitable to your dataset, or the model parameters are not properly set up. You might want to consider:\n",
    "    * adding more features\n",
    "    * increasing the complexity of your model — increase the depth of each tree, `max_depth`\n",
    "    * tuning the hyperparameters — decrease the `gamma` and `eta` parameters \n",
    "    * decreasing regularization parameters — the `lambda` and `alpha` parameters\n",
    "    * or even training and comparing with other algorithms.\n",
    "* If overfitting, the model is too complex and trains to fit on the noisiness of the training set. You might want to consider:\n",
    "    * reducing the depth of each tree, max_depth\n",
    "    * increasing the min_child_weight parameter\n",
    "    * tuning the hyperparameters — increase the `gamma` and `eta` parameters\n",
    "    * increasing regularization parameters — the `lambda` and `alpha` parameters\n",
    "    * increasing the `subsample` and `colsample_bytree` parameters\n",
    "    * pruning a tree to remove the least significant feature — referring to the next sections where the feature importance scores are provided."
   ]
  },
  {
   "cell_type": "code",
   "execution_count": 10,
   "metadata": {
    "execution": {
     "iopub.execute_input": "2025-01-18T23:44:52.850875Z",
     "iopub.status.busy": "2025-01-18T23:44:52.849923Z",
     "iopub.status.idle": "2025-01-18T23:44:52.973340Z",
     "shell.execute_reply": "2025-01-18T23:44:52.974476Z"
    },
    "papermill": {
     "duration": 0.166761,
     "end_time": "2025-01-18T23:44:52.974652",
     "exception": false,
     "start_time": "2025-01-18T23:44:52.807891",
     "status": "completed"
    },
    "tags": [
     "hide-input"
    ]
   },
   "outputs": [
    {
     "data": {
      "text/html": [
       "\n",
       "\n",
       "\n",
       "\n",
       "\n",
       "\n",
       "  <div class=\"bk-root\" id=\"2414245b-72c0-40ea-80e4-1fbba5c13e2d\" data-root-id=\"1092\"></div>\n"
      ]
     },
     "metadata": {},
     "output_type": "display_data"
    },
    {
     "data": {
      "application/javascript": [
       "(function(root) {\n",
       "  function embed_document(root) {\n",
       "    \n",
       "  var docs_json = {\"14a05ad5-8be4-4320-b654-62d8f4a0c26d\":{\"roots\":{\"references\":[{\"attributes\":{\"below\":[{\"id\":\"1103\"}],\"center\":[{\"id\":\"1106\"},{\"id\":\"1110\"},{\"id\":\"1141\"}],\"left\":[{\"id\":\"1107\"}],\"renderers\":[{\"id\":\"1130\"},{\"id\":\"1147\"}],\"title\":{\"id\":\"1093\"},\"toolbar\":{\"id\":\"1119\"},\"x_range\":{\"id\":\"1095\"},\"x_scale\":{\"id\":\"1099\"},\"y_range\":{\"id\":\"1097\"},\"y_scale\":{\"id\":\"1101\"}},\"id\":\"1092\",\"subtype\":\"Figure\",\"type\":\"Plot\"},{\"attributes\":{\"label\":{\"value\":\"validation-error\"},\"renderers\":[{\"id\":\"1147\"}]},\"id\":\"1160\",\"type\":\"LegendItem\"},{\"attributes\":{},\"id\":\"1139\",\"type\":\"Selection\"},{\"attributes\":{\"text\":\"Training and Validation Loss\"},\"id\":\"1093\",\"type\":\"Title\"},{\"attributes\":{},\"id\":\"1140\",\"type\":\"UnionRenderers\"},{\"attributes\":{\"line_color\":\"tomato\",\"line_width\":2,\"x\":{\"field\":\"step\"},\"y\":{\"field\":\"error\"}},\"id\":\"1145\",\"type\":\"Line\"},{\"attributes\":{},\"id\":\"1159\",\"type\":\"UnionRenderers\"},{\"attributes\":{},\"id\":\"1108\",\"type\":\"BasicTicker\"},{\"attributes\":{\"data\":{\"error\":[{\"__ndarray__\":\"Bg39E1yswj8=\",\"dtype\":\"float64\",\"order\":\"little\",\"shape\":[1]},{\"__ndarray__\":\"CwvuBzwwwj8=\",\"dtype\":\"float64\",\"order\":\"little\",\"shape\":[1]},{\"__ndarray__\":\"ER0CRwINwj8=\",\"dtype\":\"float64\",\"order\":\"little\",\"shape\":[1]},{\"__ndarray__\":\"eLMG76tywT8=\",\"dtype\":\"float64\",\"order\":\"little\",\"shape\":[1]},{\"__ndarray__\":\"CU59IHnnwD8=\",\"dtype\":\"float64\",\"order\":\"little\",\"shape\":[1]},{\"__ndarray__\":\"U3b6QV2kwD8=\",\"dtype\":\"float64\",\"order\":\"little\",\"shape\":[1]},{\"__ndarray__\":\"QBh47j1cwD8=\",\"dtype\":\"float64\",\"order\":\"little\",\"shape\":[1]},{\"__ndarray__\":\"LLr1mh4UwD8=\",\"dtype\":\"float64\",\"order\":\"little\",\"shape\":[1]},{\"__ndarray__\":\"u9Vz0vvGvz8=\",\"dtype\":\"float64\",\"order\":\"little\",\"shape\":[1]},{\"__ndarray__\":\"iPVGrTB9vz8=\",\"dtype\":\"float64\",\"order\":\"little\",\"shape\":[1]},{\"__ndarray__\":\"v9NkxttKvz8=\",\"dtype\":\"float64\",\"order\":\"little\",\"shape\":[1]},{\"__ndarray__\":\"eqnYmNcRvz8=\",\"dtype\":\"float64\",\"order\":\"little\",\"shape\":[1]},{\"__ndarray__\":\"QNr/AGvVvj8=\",\"dtype\":\"float64\",\"order\":\"little\",\"shape\":[1]},{\"__ndarray__\":\"3UHsTKHzvj8=\",\"dtype\":\"float64\",\"order\":\"little\",\"shape\":[1]},{\"__ndarray__\":\"f95UpMLYvj8=\",\"dtype\":\"float64\",\"order\":\"little\",\"shape\":[1]},{\"__ndarray__\":\"xNFVurvOvj8=\",\"dtype\":\"float64\",\"order\":\"little\",\"shape\":[1]},{\"__ndarray__\":\"vaseMA+Zvj8=\",\"dtype\":\"float64\",\"order\":\"little\",\"shape\":[1]},{\"__ndarray__\":\"z/V9OEiIvj8=\",\"dtype\":\"float64\",\"order\":\"little\",\"shape\":[1]},{\"__ndarray__\":\"kfEolfCEvj8=\",\"dtype\":\"float64\",\"order\":\"little\",\"shape\":[1]},{\"__ndarray__\":\"OX09X7Ncvj8=\",\"dtype\":\"float64\",\"order\":\"little\",\"shape\":[1]},{\"__ndarray__\":\"2xmmttRBvj8=\",\"dtype\":\"float64\",\"order\":\"little\",\"shape\":[1]},{\"__ndarray__\":\"TMecZ+xLvj8=\",\"dtype\":\"float64\",\"order\":\"little\",\"shape\":[1]},{\"__ndarray__\":\"K2haYmU0vj8=\",\"dtype\":\"float64\",\"order\":\"little\",\"shape\":[1]},{\"__ndarray__\":\"XhH8byU7vj8=\",\"dtype\":\"float64\",\"order\":\"little\",\"shape\":[1]},{\"__ndarray__\":\"XhH8byU7vj8=\",\"dtype\":\"float64\",\"order\":\"little\",\"shape\":[1]},{\"__ndarray__\":\"EvjDz38Pvj8=\",\"dtype\":\"float64\",\"order\":\"little\",\"shape\":[1]},{\"__ndarray__\":\"V+vE5XgFvj8=\",\"dtype\":\"float64\",\"order\":\"little\",\"shape\":[1]},{\"__ndarray__\":\"aTUk7rH0vT8=\",\"dtype\":\"float64\",\"order\":\"little\",\"shape\":[1]},{\"__ndarray__\":\"JEIj2Lj+vT8=\",\"dtype\":\"float64\",\"order\":\"little\",\"shape\":[1]},{\"__ndarray__\":\"+YctPZrqvT8=\",\"dtype\":\"float64\",\"order\":\"little\",\"shape\":[1]},{\"__ndarray__\":\"aTUk7rH0vT8=\",\"dtype\":\"float64\",\"order\":\"little\",\"shape\":[1]},{\"__ndarray__\":\"aTUk7rH0vT8=\",\"dtype\":\"float64\",\"order\":\"little\",\"shape\":[1]},{\"__ndarray__\":\"N4yC4PHtvT8=\",\"dtype\":\"float64\",\"order\":\"little\",\"shape\":[1]},{\"__ndarray__\":\"PnsuU5PgvT8=\",\"dtype\":\"float64\",\"order\":\"little\",\"shape\":[1]},{\"__ndarray__\":\"C9KMRdPZvT8=\",\"dtype\":\"float64\",\"order\":\"little\",\"shape\":[1]},{\"__ndarray__\":\"uoPYmULnvT8=\",\"dtype\":\"float64\",\"order\":\"little\",\"shape\":[1]},{\"__ndarray__\":\"aTUk7rH0vT8=\",\"dtype\":\"float64\",\"order\":\"little\",\"shape\":[1]},{\"__ndarray__\":\"3xeXqrTFvT8=\",\"dtype\":\"float64\",\"order\":\"little\",\"shape\":[1]},{\"__ndarray__\":\"Yg/tYwW/vT8=\",\"dtype\":\"float64\",\"order\":\"little\",\"shape\":[1]},{\"__ndarray__\":\"+YctPZrqvT8=\",\"dtype\":\"float64\",\"order\":\"little\",\"shape\":[1]},{\"__ndarray__\":\"N4yC4PHtvT8=\",\"dtype\":\"float64\",\"order\":\"little\",\"shape\":[1]},{\"__ndarray__\":\"C9KMRdPZvT8=\",\"dtype\":\"float64\",\"order\":\"little\",\"shape\":[1]},{\"__ndarray__\":\"XCBB8WPMvT8=\",\"dtype\":\"float64\",\"order\":\"little\",\"shape\":[1]},{\"__ndarray__\":\"JAuYwK27vT8=\",\"dtype\":\"float64\",\"order\":\"little\",\"shape\":[1]},{\"__ndarray__\":\"MGZLVkW4vT8=\",\"dtype\":\"float64\",\"order\":\"little\",\"shape\":[1]},{\"__ndarray__\":\"HRzsTQzJvT8=\",\"dtype\":\"float64\",\"order\":\"little\",\"shape\":[1]},{\"__ndarray__\":\"JAuYwK27vT8=\",\"dtype\":\"float64\",\"order\":\"little\",\"shape\":[1]},{\"__ndarray__\":\"MGZLVkW4vT8=\",\"dtype\":\"float64\",\"order\":\"little\",\"shape\":[1]},{\"__ndarray__\":\"dVlMbD6uvT8=\",\"dtype\":\"float64\",\"order\":\"little\",\"shape\":[1]},{\"__ndarray__\":\"2PFfIAiQvT8=\",\"dtype\":\"float64\",\"order\":\"little\",\"shape\":[1]},{\"__ndarray__\":\"mu0KfbCMvT8=\",\"dtype\":\"float64\",\"order\":\"little\",\"shape\":[1]},{\"__ndarray__\":\"6zu/KEF/vT8=\",\"dtype\":\"float64\",\"order\":\"little\",\"shape\":[1]},{\"__ndarray__\":\"HeVgNgGGvT8=\",\"dtype\":\"float64\",\"order\":\"little\",\"shape\":[1]},{\"__ndarray__\":\"k8fT8gNXvT8=\",\"dtype\":\"float64\",\"order\":\"little\",\"shape\":[1]},{\"__ndarray__\":\"bjMV4pF4vT8=\",\"dtype\":\"float64\",\"order\":\"little\",\"shape\":[1]},{\"__ndarray__\":\"/YUeMXpuvT8=\",\"dtype\":\"float64\",\"order\":\"little\",\"shape\":[1]},{\"__ndarray__\":\"5BWInpRJvT8=\",\"dtype\":\"float64\",\"order\":\"little\",\"shape\":[1]},{\"__ndarray__\":\"Fr8prFRQvT8=\",\"dtype\":\"float64\",\"order\":\"little\",\"shape\":[1]},{\"__ndarray__\":\"QnkfR3NkvT8=\",\"dtype\":\"float64\",\"order\":\"little\",\"shape\":[1]},{\"__ndarray__\":\"Fr8prFRQvT8=\",\"dtype\":\"float64\",\"order\":\"little\",\"shape\":[1]},{\"__ndarray__\":\"IhrdQexMvT8=\",\"dtype\":\"float64\",\"order\":\"little\",\"shape\":[1]},{\"__ndarray__\":\"IhrdQexMvT8=\",\"dtype\":\"float64\",\"order\":\"little\",\"shape\":[1]},{\"__ndarray__\":\"5BWInpRJvT8=\",\"dtype\":\"float64\",\"order\":\"little\",\"shape\":[1]},{\"__ndarray__\":\"k8fT8gNXvT8=\",\"dtype\":\"float64\",\"order\":\"little\",\"shape\":[1]},{\"__ndarray__\":\"VMN+T6xTvT8=\",\"dtype\":\"float64\",\"order\":\"little\",\"shape\":[1]},{\"__ndarray__\":\"IhrdQexMvT8=\",\"dtype\":\"float64\",\"order\":\"little\",\"shape\":[1]},{\"__ndarray__\":\"KQmJtI0/vT8=\",\"dtype\":\"float64\",\"order\":\"little\",\"shape\":[1]},{\"__ndarray__\":\"R66bUl4rvT8=\",\"dtype\":\"float64\",\"order\":\"little\",\"shape\":[1]},{\"__ndarray__\":\"Tp1Hxf8dvT8=\",\"dtype\":\"float64\",\"order\":\"little\",\"shape\":[1]},{\"__ndarray__\":\"CKpGrwYovT8=\",\"dtype\":\"float64\",\"order\":\"little\",\"shape\":[1]},{\"__ndarray__\":\"NGQ8SiU8vT8=\",\"dtype\":\"float64\",\"order\":\"little\",\"shape\":[1]},{\"__ndarray__\":\"uFuSA3Y1vT8=\",\"dtype\":\"float64\",\"order\":\"little\",\"shape\":[1]},{\"__ndarray__\":\"9l/nps04vT8=\",\"dtype\":\"float64\",\"order\":\"little\",\"shape\":[1]},{\"__ndarray__\":\"G/Sltz8XvT8=\",\"dtype\":\"float64\",\"order\":\"little\",\"shape\":[1]},{\"__ndarray__\":\"sTVbecn/vD8=\",\"dtype\":\"float64\",\"order\":\"little\",\"shape\":[1]},{\"__ndarray__\":\"IuNRKuEJvT8=\",\"dtype\":\"float64\",\"order\":\"little\",\"shape\":[1]},{\"__ndarray__\":\"3e9QFOgTvT8=\",\"dtype\":\"float64\",\"order\":\"little\",\"shape\":[1]},{\"__ndarray__\":\"G/Sltz8XvT8=\",\"dtype\":\"float64\",\"order\":\"little\",\"shape\":[1]},{\"__ndarray__\":\"sTVbecn/vD8=\",\"dtype\":\"float64\",\"order\":\"little\",\"shape\":[1]},{\"__ndarray__\":\"sTVbecn/vD8=\",\"dtype\":\"float64\",\"order\":\"little\",\"shape\":[1]},{\"__ndarray__\":\"sTVbecn/vD8=\",\"dtype\":\"float64\",\"order\":\"little\",\"shape\":[1]},{\"__ndarray__\":\"IuNRKuEJvT8=\",\"dtype\":\"float64\",\"order\":\"little\",\"shape\":[1]},{\"__ndarray__\":\"nuv7cJAQvT8=\",\"dtype\":\"float64\",\"order\":\"little\",\"shape\":[1]},{\"__ndarray__\":\"nuv7cJAQvT8=\",\"dtype\":\"float64\",\"order\":\"little\",\"shape\":[1]},{\"__ndarray__\":\"CKpGrwYovT8=\",\"dtype\":\"float64\",\"order\":\"little\",\"shape\":[1]},{\"__ndarray__\":\"CKpGrwYovT8=\",\"dtype\":\"float64\",\"order\":\"little\",\"shape\":[1]},{\"__ndarray__\":\"CKpGrwYovT8=\",\"dtype\":\"float64\",\"order\":\"little\",\"shape\":[1]},{\"__ndarray__\":\"CKpGrwYovT8=\",\"dtype\":\"float64\",\"order\":\"little\",\"shape\":[1]},{\"__ndarray__\":\"R66bUl4rvT8=\",\"dtype\":\"float64\",\"order\":\"little\",\"shape\":[1]},{\"__ndarray__\":\"IuNRKuEJvT8=\",\"dtype\":\"float64\",\"order\":\"little\",\"shape\":[1]},{\"__ndarray__\":\"3e9QFOgTvT8=\",\"dtype\":\"float64\",\"order\":\"little\",\"shape\":[1]},{\"__ndarray__\":\"3e9QFOgTvT8=\",\"dtype\":\"float64\",\"order\":\"little\",\"shape\":[1]},{\"__ndarray__\":\"YOemzTgNvT8=\",\"dtype\":\"float64\",\"order\":\"little\",\"shape\":[1]},{\"__ndarray__\":\"eVc9YB4yvT8=\",\"dtype\":\"float64\",\"order\":\"little\",\"shape\":[1]},{\"__ndarray__\":\"R66bUl4rvT8=\",\"dtype\":\"float64\",\"order\":\"little\",\"shape\":[1]},{\"__ndarray__\":\"CKpGrwYovT8=\",\"dtype\":\"float64\",\"order\":\"little\",\"shape\":[1]},{\"__ndarray__\":\"yqXxC68kvT8=\",\"dtype\":\"float64\",\"order\":\"little\",\"shape\":[1]},{\"__ndarray__\":\"O1PovMYuvT8=\",\"dtype\":\"float64\",\"order\":\"little\",\"shape\":[1]},{\"__ndarray__\":\"eVc9YB4yvT8=\",\"dtype\":\"float64\",\"order\":\"little\",\"shape\":[1]},{\"__ndarray__\":\"3e9QFOgTvT8=\",\"dtype\":\"float64\",\"order\":\"little\",\"shape\":[1]},{\"__ndarray__\":\"3e9QFOgTvT8=\",\"dtype\":\"float64\",\"order\":\"little\",\"shape\":[1]},{\"__ndarray__\":\"nuv7cJAQvT8=\",\"dtype\":\"float64\",\"order\":\"little\",\"shape\":[1]},{\"__ndarray__\":\"1skZijvevD8=\",\"dtype\":\"float64\",\"order\":\"little\",\"shape\":[1]},{\"__ndarray__\":\"awvPS8XGvD8=\",\"dtype\":\"float64\",\"order\":\"little\",\"shape\":[1]},{\"__ndarray__\":\"AoQPJVryvD8=\",\"dtype\":\"float64\",\"order\":\"little\",\"shape\":[1]},{\"__ndarray__\":\"LT4FwHgGvT8=\",\"dtype\":\"float64\",\"order\":\"little\",\"shape\":[1]},{\"__ndarray__\":\"LT4FwHgGvT8=\",\"dtype\":\"float64\",\"order\":\"little\",\"shape\":[1]},{\"__ndarray__\":\"LT4FwHgGvT8=\",\"dtype\":\"float64\",\"order\":\"little\",\"shape\":[1]},{\"__ndarray__\":\"l8XE5uPavD8=\",\"dtype\":\"float64\",\"order\":\"little\",\"shape\":[1]},{\"__ndarray__\":\"FM5uLZPhvD8=\",\"dtype\":\"float64\",\"order\":\"little\",\"shape\":[1]},{\"__ndarray__\":\"vFmD91W5vD8=\",\"dtype\":\"float64\",\"order\":\"little\",\"shape\":[1]},{\"__ndarray__\":\"OWItPgXAvD8=\",\"dtype\":\"float64\",\"order\":\"little\",\"shape\":[1]},{\"__ndarray__\":\"H/KWqx+bvD8=\",\"dtype\":\"float64\",\"order\":\"little\",\"shape\":[1]},{\"__ndarray__\":\"4e1BCMiXvD8=\",\"dtype\":\"float64\",\"order\":\"little\",\"shape\":[1]},{\"__ndarray__\":\"Dag3o+arvD8=\",\"dtype\":\"float64\",\"order\":\"little\",\"shape\":[1]},{\"__ndarray__\":\"H/KWqx+bvD8=\",\"dtype\":\"float64\",\"order\":\"little\",\"shape\":[1]},{\"__ndarray__\":\"H/KWqx+bvD8=\",\"dtype\":\"float64\",\"order\":\"little\",\"shape\":[1]},{\"__ndarray__\":\"o+nsZHCUvD8=\",\"dtype\":\"float64\",\"order\":\"little\",\"shape\":[1]},{\"__ndarray__\":\"FJfjFYievD8=\",\"dtype\":\"float64\",\"order\":\"little\",\"shape\":[1]},{\"__ndarray__\":\"JuFCHsGNvD8=\",\"dtype\":\"float64\",\"order\":\"little\",\"shape\":[1]},{\"__ndarray__\":\"kJ+NXDelvD8=\",\"dtype\":\"float64\",\"order\":\"little\",\"shape\":[1]},{\"__ndarray__\":\"ZOWXwRiRvD8=\",\"dtype\":\"float64\",\"order\":\"little\",\"shape\":[1]},{\"__ndarray__\":\"tTNMbamDvD8=\",\"dtype\":\"float64\",\"order\":\"little\",\"shape\":[1]},{\"__ndarray__\":\"S3UBLzNsvD8=\",\"dtype\":\"float64\",\"order\":\"little\",\"shape\":[1]},{\"__ndarray__\":\"+iZNg6J5vD8=\",\"dtype\":\"float64\",\"order\":\"little\",\"shape\":[1]},{\"__ndarray__\":\"9DehEAGHvD8=\",\"dtype\":\"float64\",\"order\":\"little\",\"shape\":[1]},{\"__ndarray__\":\"BoIAGTp2vD8=\",\"dtype\":\"float64\",\"order\":\"little\",\"shape\":[1]},{\"__ndarray__\":\"2scKfhtivD8=\",\"dtype\":\"float64\",\"order\":\"little\",\"shape\":[1]},{\"__ndarray__\":\"nMO12sNevD8=\",\"dtype\":\"float64\",\"order\":\"little\",\"shape\":[1]},{\"__ndarray__\":\"EaYol8YvvD8=\",\"dtype\":\"float64\",\"order\":\"little\",\"shape\":[1]},{\"__ndarray__\":\"rg0V4/xNvD8=\",\"dtype\":\"float64\",\"order\":\"little\",\"shape\":[1]},{\"__ndarray__\":\"EaYol8YvvD8=\",\"dtype\":\"float64\",\"order\":\"little\",\"shape\":[1]},{\"__ndarray__\":\"wVd06zU9vD8=\",\"dtype\":\"float64\",\"order\":\"little\",\"shape\":[1]},{\"__ndarray__\":\"EaYol8YvvD8=\",\"dtype\":\"float64\",\"order\":\"little\",\"shape\":[1]},{\"__ndarray__\":\"EaYol8YvvD8=\",\"dtype\":\"float64\",\"order\":\"little\",\"shape\":[1]},{\"__ndarray__\":\"7NrebkkOvD8=\",\"dtype\":\"float64\",\"order\":\"little\",\"shape\":[1]},{\"__ndarray__\":\"Bkt1AS8zvD8=\",\"dtype\":\"float64\",\"order\":\"little\",\"shape\":[1]},{\"__ndarray__\":\"EaYol8YvvD8=\",\"dtype\":\"float64\",\"order\":\"little\",\"shape\":[1]},{\"__ndarray__\":\"06HT824svD8=\",\"dtype\":\"float64\",\"order\":\"little\",\"shape\":[1]},{\"__ndarray__\":\"EaYol8YvvD8=\",\"dtype\":\"float64\",\"order\":\"little\",\"shape\":[1]},{\"__ndarray__\":\"wVd06zU9vD8=\",\"dtype\":\"float64\",\"order\":\"little\",\"shape\":[1]},{\"__ndarray__\":\"06HT824svD8=\",\"dtype\":\"float64\",\"order\":\"little\",\"shape\":[1]},{\"__ndarray__\":\"RE/KpIY2vD8=\",\"dtype\":\"float64\",\"order\":\"little\",\"shape\":[1]},{\"__ndarray__\":\"glMfSN45vD8=\",\"dtype\":\"float64\",\"order\":\"little\",\"shape\":[1]},{\"__ndarray__\":\"wVd06zU9vD8=\",\"dtype\":\"float64\",\"order\":\"little\",\"shape\":[1]},{\"__ndarray__\":\"wVd06zU9vD8=\",\"dtype\":\"float64\",\"order\":\"little\",\"shape\":[1]},{\"__ndarray__\":\"RE/KpIY2vD8=\",\"dtype\":\"float64\",\"order\":\"little\",\"shape\":[1]},{\"__ndarray__\":\"Vpkprb8lvD8=\",\"dtype\":\"float64\",\"order\":\"little\",\"shape\":[1]},{\"__ndarray__\":\"GJXUCWgivD8=\",\"dtype\":\"float64\",\"order\":\"little\",\"shape\":[1]},{\"__ndarray__\":\"Vpkprb8lvD8=\",\"dtype\":\"float64\",\"order\":\"little\",\"shape\":[1]},{\"__ndarray__\":\"Vpkprb8lvD8=\",\"dtype\":\"float64\",\"order\":\"little\",\"shape\":[1]},{\"__ndarray__\":\"lZ1+UBcpvD8=\",\"dtype\":\"float64\",\"order\":\"little\",\"shape\":[1]},{\"__ndarray__\":\"EaYol8YvvD8=\",\"dtype\":\"float64\",\"order\":\"little\",\"shape\":[1]},{\"__ndarray__\":\"06HT824svD8=\",\"dtype\":\"float64\",\"order\":\"little\",\"shape\":[1]},{\"__ndarray__\":\"Bkt1AS8zvD8=\",\"dtype\":\"float64\",\"order\":\"little\",\"shape\":[1]},{\"__ndarray__\":\"rg0V4/xNvD8=\",\"dtype\":\"float64\",\"order\":\"little\",\"shape\":[1]},{\"__ndarray__\":\"wVd06zU9vD8=\",\"dtype\":\"float64\",\"order\":\"little\",\"shape\":[1]},{\"__ndarray__\":\"cAnAP6VKvD8=\",\"dtype\":\"float64\",\"order\":\"little\",\"shape\":[1]},{\"__ndarray__\":\"cAnAP6VKvD8=\",\"dtype\":\"float64\",\"order\":\"little\",\"shape\":[1]},{\"__ndarray__\":\"Bkt1AS8zvD8=\",\"dtype\":\"float64\",\"order\":\"little\",\"shape\":[1]},{\"__ndarray__\":\"JPCHn/8evD8=\",\"dtype\":\"float64\",\"order\":\"little\",\"shape\":[1]},{\"__ndarray__\":\"cAnAP6VKvD8=\",\"dtype\":\"float64\",\"order\":\"little\",\"shape\":[1]},{\"__ndarray__\":\"MgVrnE1HvD8=\",\"dtype\":\"float64\",\"order\":\"little\",\"shape\":[1]},{\"__ndarray__\":\"EaYol8YvvD8=\",\"dtype\":\"float64\",\"order\":\"little\",\"shape\":[1]},{\"__ndarray__\":\"RE/KpIY2vD8=\",\"dtype\":\"float64\",\"order\":\"little\",\"shape\":[1]},{\"__ndarray__\":\"RE/KpIY2vD8=\",\"dtype\":\"float64\",\"order\":\"little\",\"shape\":[1]},{\"__ndarray__\":\"Bkt1AS8zvD8=\",\"dtype\":\"float64\",\"order\":\"little\",\"shape\":[1]},{\"__ndarray__\":\"EaYol8YvvD8=\",\"dtype\":\"float64\",\"order\":\"little\",\"shape\":[1]},{\"__ndarray__\":\"RE/KpIY2vD8=\",\"dtype\":\"float64\",\"order\":\"little\",\"shape\":[1]},{\"__ndarray__\":\"EaYol8YvvD8=\",\"dtype\":\"float64\",\"order\":\"little\",\"shape\":[1]},{\"__ndarray__\":\"GJXUCWgivD8=\",\"dtype\":\"float64\",\"order\":\"little\",\"shape\":[1]},{\"__ndarray__\":\"aeOItfgUvD8=\",\"dtype\":\"float64\",\"order\":\"little\",\"shape\":[1]},{\"__ndarray__\":\"GJXUCWgivD8=\",\"dtype\":\"float64\",\"order\":\"little\",\"shape\":[1]},{\"__ndarray__\":\"p+fdWFAYvD8=\",\"dtype\":\"float64\",\"order\":\"little\",\"shape\":[1]},{\"__ndarray__\":\"p+fdWFAYvD8=\",\"dtype\":\"float64\",\"order\":\"little\",\"shape\":[1]},{\"__ndarray__\":\"aeOItfgUvD8=\",\"dtype\":\"float64\",\"order\":\"little\",\"shape\":[1]},{\"__ndarray__\":\"jndHxmrzuz8=\",\"dtype\":\"float64\",\"order\":\"little\",\"shape\":[1]},{\"__ndarray__\":\"7NrebkkOvD8=\",\"dtype\":\"float64\",\"order\":\"little\",\"shape\":[1]},{\"__ndarray__\":\"ujE9YYkHvD8=\",\"dtype\":\"float64\",\"order\":\"little\",\"shape\":[1]},{\"__ndarray__\":\"7NrebkkOvD8=\",\"dtype\":\"float64\",\"order\":\"little\",\"shape\":[1]},{\"__ndarray__\":\"ujE9YYkHvD8=\",\"dtype\":\"float64\",\"order\":\"little\",\"shape\":[1]},{\"__ndarray__\":\"ujE9YYkHvD8=\",\"dtype\":\"float64\",\"order\":\"little\",\"shape\":[1]},{\"__ndarray__\":\"ujE9YYkHvD8=\",\"dtype\":\"float64\",\"order\":\"little\",\"shape\":[1]},{\"__ndarray__\":\"EW+df7vsuz8=\",\"dtype\":\"float64\",\"order\":\"little\",\"shape\":[1]},{\"__ndarray__\":\"PSmTGtoAvD8=\",\"dtype\":\"float64\",\"order\":\"little\",\"shape\":[1]},{\"__ndarray__\":\"EW+df7vsuz8=\",\"dtype\":\"float64\",\"order\":\"little\",\"shape\":[1]},{\"__ndarray__\":\"Yr1RK0zfuz8=\",\"dtype\":\"float64\",\"order\":\"little\",\"shape\":[1]},{\"__ndarray__\":\"dAexM4XOuz8=\",\"dtype\":\"float64\",\"order\":\"little\",\"shape\":[1]},{\"__ndarray__\":\"BFq6gm3Euz8=\",\"dtype\":\"float64\",\"order\":\"little\",\"shape\":[1]},{\"__ndarray__\":\"xVVl3xXBuz8=\",\"dtype\":\"float64\",\"order\":\"little\",\"shape\":[1]},{\"__ndarray__\":\"h1EQPL69uz8=\",\"dtype\":\"float64\",\"order\":\"little\",\"shape\":[1]},{\"__ndarray__\":\"+P4G7dXHuz8=\",\"dtype\":\"float64\",\"order\":\"little\",\"shape\":[1]},{\"__ndarray__\":\"+P4G7dXHuz8=\",\"dtype\":\"float64\",\"order\":\"little\",\"shape\":[1]},{\"__ndarray__\":\"JLn8h/Tbuz8=\",\"dtype\":\"float64\",\"order\":\"little\",\"shape\":[1]},{\"__ndarray__\":\"8Q9bejTVuz8=\",\"dtype\":\"float64\",\"order\":\"little\",\"shape\":[1]},{\"__ndarray__\":\"NgNckC3Luz8=\",\"dtype\":\"float64\",\"order\":\"little\",\"shape\":[1]},{\"__ndarray__\":\"+P4G7dXHuz8=\",\"dtype\":\"float64\",\"order\":\"little\",\"shape\":[1]},{\"__ndarray__\":\"JLn8h/Tbuz8=\",\"dtype\":\"float64\",\"order\":\"little\",\"shape\":[1]},{\"__ndarray__\":\"NgNckC3Luz8=\",\"dtype\":\"float64\",\"order\":\"little\",\"shape\":[1]},{\"__ndarray__\":\"swsG19zRuz8=\",\"dtype\":\"float64\",\"order\":\"little\",\"shape\":[1]}],\"step\":[0,5,10,15,20,25,30,35,40,45,50,55,60,65,70,75,80,85,90,95,100,105,110,115,120,125,130,135,140,145,150,155,160,165,170,175,180,185,190,195,200,205,210,215,220,225,230,235,240,245,250,255,260,265,270,275,280,285,290,295,300,305,310,315,320,325,330,335,340,345,350,355,360,365,370,375,380,385,390,395,400,405,410,415,420,425,430,435,440,445,450,455,460,465,470,475,480,485,490,495,500,505,510,515,520,525,530,535,540,545,550,555,560,565,570,575,580,585,590,595,600,605,610,615,620,625,630,635,640,645,650,655,660,665,670,675,680,685,690,695,700,705,710,715,720,725,730,735,740,745,750,755,760,765,770,775,780,785,790,795,800,805,810,815,820,825,830,835,840,845,850,855,860,865,870,875,880,885,890,895,900,905,910,915,920,925,930,935,940,945,950,955,960,965,970,975,980,985,990,995]},\"selected\":{\"id\":\"1139\"},\"selection_policy\":{\"id\":\"1140\"}},\"id\":\"1126\",\"type\":\"ColumnDataSource\"},{\"attributes\":{\"data\":{\"error\":[{\"__ndarray__\":\"Yr1RK0zfwz8=\",\"dtype\":\"float64\",\"order\":\"little\",\"shape\":[1]},{\"__ndarray__\":\"pb+XwoNmwz8=\",\"dtype\":\"float64\",\"order\":\"little\",\"shape\":[1]},{\"__ndarray__\":\"pb+XwoNmwz8=\",\"dtype\":\"float64\",\"order\":\"little\",\"shape\":[1]},{\"__ndarray__\":\"Q5JZvcPtwj8=\",\"dtype\":\"float64\",\"order\":\"little\",\"shape\":[1]},{\"__ndarray__\":\"LiC0Hr5Mwj8=\",\"dtype\":\"float64\",\"order\":\"little\",\"shape\":[1]},{\"__ndarray__\":\"X+y9+KI9wj8=\",\"dtype\":\"float64\",\"order\":\"little\",\"shape\":[1]},{\"__ndarray__\":\"cCL6tfXTwT8=\",\"dtype\":\"float64\",\"order\":\"little\",\"shape\":[1]},{\"__ndarray__\":\"NJ2dDI6SwT8=\",\"dtype\":\"float64\",\"order\":\"little\",\"shape\":[1]},{\"__ndarray__\":\"cY3PZP88wT8=\",\"dtype\":\"float64\",\"order\":\"little\",\"shape\":[1]},{\"__ndarray__\":\"6EzaVN0jwT8=\",\"dtype\":\"float64\",\"order\":\"little\",\"shape\":[1]},{\"__ndarray__\":\"MPZefNEewT8=\",\"dtype\":\"float64\",\"order\":\"little\",\"shape\":[1]},{\"__ndarray__\":\"0m9fB84ZwT8=\",\"dtype\":\"float64\",\"order\":\"little\",\"shape\":[1]},{\"__ndarray__\":\"JT0MrU7OwD8=\",\"dtype\":\"float64\",\"order\":\"little\",\"shape\":[1]},{\"__ndarray__\":\"+YIWEjC6wD8=\",\"dtype\":\"float64\",\"order\":\"little\",\"shape\":[1]},{\"__ndarray__\":\"K08g7BSrwD8=\",\"dtype\":\"float64\",\"order\":\"little\",\"shape\":[1]},{\"__ndarray__\":\"VwkWhzO/wD8=\",\"dtype\":\"float64\",\"order\":\"little\",\"shape\":[1]},{\"__ndarray__\":\"QSybOSS1wD8=\",\"dtype\":\"float64\",\"order\":\"little\",\"shape\":[1]},{\"__ndarray__\":\"K08g7BSrwD8=\",\"dtype\":\"float64\",\"order\":\"little\",\"shape\":[1]},{\"__ndarray__\":\"D2CRXz/EwD8=\",\"dtype\":\"float64\",\"order\":\"little\",\"shape\":[1]},{\"__ndarray__\":\"JT0MrU7OwD8=\",\"dtype\":\"float64\",\"order\":\"little\",\"shape\":[1]},{\"__ndarray__\":\"+YIWEjC6wD8=\",\"dtype\":\"float64\",\"order\":\"little\",\"shape\":[1]},{\"__ndarray__\":\"CU59IHnnwD8=\",\"dtype\":\"float64\",\"order\":\"little\",\"shape\":[1]},{\"__ndarray__\":\"9HAC02ndwD8=\",\"dtype\":\"float64\",\"order\":\"little\",\"shape\":[1]},{\"__ndarray__\":\"3pOHhVrTwD8=\",\"dtype\":\"float64\",\"order\":\"little\",\"shape\":[1]},{\"__ndarray__\":\"+YIWEjC6wD8=\",\"dtype\":\"float64\",\"order\":\"little\",\"shape\":[1]},{\"__ndarray__\":\"yLYMOEvJwD8=\",\"dtype\":\"float64\",\"order\":\"little\",\"shape\":[1]},{\"__ndarray__\":\"JT0MrU7OwD8=\",\"dtype\":\"float64\",\"order\":\"little\",\"shape\":[1]},{\"__ndarray__\":\"VwkWhzO/wD8=\",\"dtype\":\"float64\",\"order\":\"little\",\"shape\":[1]},{\"__ndarray__\":\"D2CRXz/EwD8=\",\"dtype\":\"float64\",\"order\":\"little\",\"shape\":[1]},{\"__ndarray__\":\"+YIWEjC6wD8=\",\"dtype\":\"float64\",\"order\":\"little\",\"shape\":[1]},{\"__ndarray__\":\"yLYMOEvJwD8=\",\"dtype\":\"float64\",\"order\":\"little\",\"shape\":[1]},{\"__ndarray__\":\"46WbxCCwwD8=\",\"dtype\":\"float64\",\"order\":\"little\",\"shape\":[1]},{\"__ndarray__\":\"46WbxCCwwD8=\",\"dtype\":\"float64\",\"order\":\"little\",\"shape\":[1]},{\"__ndarray__\":\"QSybOSS1wD8=\",\"dtype\":\"float64\",\"order\":\"little\",\"shape\":[1]},{\"__ndarray__\":\"K08g7BSrwD8=\",\"dtype\":\"float64\",\"order\":\"little\",\"shape\":[1]},{\"__ndarray__\":\"yLYMOEvJwD8=\",\"dtype\":\"float64\",\"order\":\"little\",\"shape\":[1]},{\"__ndarray__\":\"OxqH+l3YwD8=\",\"dtype\":\"float64\",\"order\":\"little\",\"shape\":[1]},{\"__ndarray__\":\"Z9R8lXzswD8=\",\"dtype\":\"float64\",\"order\":\"little\",\"shape\":[1]},{\"__ndarray__\":\"Z9R8lXzswD8=\",\"dtype\":\"float64\",\"order\":\"little\",\"shape\":[1]},{\"__ndarray__\":\"OxqH+l3YwD8=\",\"dtype\":\"float64\",\"order\":\"little\",\"shape\":[1]},{\"__ndarray__\":\"OxqH+l3YwD8=\",\"dtype\":\"float64\",\"order\":\"little\",\"shape\":[1]},{\"__ndarray__\":\"OxqH+l3YwD8=\",\"dtype\":\"float64\",\"order\":\"little\",\"shape\":[1]},{\"__ndarray__\":\"JT0MrU7OwD8=\",\"dtype\":\"float64\",\"order\":\"little\",\"shape\":[1]},{\"__ndarray__\":\"3pOHhVrTwD8=\",\"dtype\":\"float64\",\"order\":\"little\",\"shape\":[1]},{\"__ndarray__\":\"UfcBSG3iwD8=\",\"dtype\":\"float64\",\"order\":\"little\",\"shape\":[1]},{\"__ndarray__\":\"Hyv4bYjxwD8=\",\"dtype\":\"float64\",\"order\":\"little\",\"shape\":[1]},{\"__ndarray__\":\"UfcBSG3iwD8=\",\"dtype\":\"float64\",\"order\":\"little\",\"shape\":[1]},{\"__ndarray__\":\"2IFzRpT2wD8=\",\"dtype\":\"float64\",\"order\":\"little\",\"shape\":[1]},{\"__ndarray__\":\"7l7uk6MAwT8=\",\"dtype\":\"float64\",\"order\":\"little\",\"shape\":[1]},{\"__ndarray__\":\"CU59IHnnwD8=\",\"dtype\":\"float64\",\"order\":\"little\",\"shape\":[1]},{\"__ndarray__\":\"UfcBSG3iwD8=\",\"dtype\":\"float64\",\"order\":\"little\",\"shape\":[1]},{\"__ndarray__\":\"7l7uk6MAwT8=\",\"dtype\":\"float64\",\"order\":\"little\",\"shape\":[1]},{\"__ndarray__\":\"2IFzRpT2wD8=\",\"dtype\":\"float64\",\"order\":\"little\",\"shape\":[1]},{\"__ndarray__\":\"JT0MrU7OwD8=\",\"dtype\":\"float64\",\"order\":\"little\",\"shape\":[1]},{\"__ndarray__\":\"Hyv4bYjxwD8=\",\"dtype\":\"float64\",\"order\":\"little\",\"shape\":[1]},{\"__ndarray__\":\"UfcBSG3iwD8=\",\"dtype\":\"float64\",\"order\":\"little\",\"shape\":[1]},{\"__ndarray__\":\"Hyv4bYjxwD8=\",\"dtype\":\"float64\",\"order\":\"little\",\"shape\":[1]},{\"__ndarray__\":\"7l7uk6MAwT8=\",\"dtype\":\"float64\",\"order\":\"little\",\"shape\":[1]},{\"__ndarray__\":\"NQhzu5f7wD8=\",\"dtype\":\"float64\",\"order\":\"little\",\"shape\":[1]},{\"__ndarray__\":\"9HAC02ndwD8=\",\"dtype\":\"float64\",\"order\":\"little\",\"shape\":[1]},{\"__ndarray__\":\"Z9R8lXzswD8=\",\"dtype\":\"float64\",\"order\":\"little\",\"shape\":[1]},{\"__ndarray__\":\"Z9R8lXzswD8=\",\"dtype\":\"float64\",\"order\":\"little\",\"shape\":[1]},{\"__ndarray__\":\"7l7uk6MAwT8=\",\"dtype\":\"float64\",\"order\":\"little\",\"shape\":[1]},{\"__ndarray__\":\"Z9R8lXzswD8=\",\"dtype\":\"float64\",\"order\":\"little\",\"shape\":[1]},{\"__ndarray__\":\"Z9R8lXzswD8=\",\"dtype\":\"float64\",\"order\":\"little\",\"shape\":[1]},{\"__ndarray__\":\"2IFzRpT2wD8=\",\"dtype\":\"float64\",\"order\":\"little\",\"shape\":[1]},{\"__ndarray__\":\"NQhzu5f7wD8=\",\"dtype\":\"float64\",\"order\":\"little\",\"shape\":[1]},{\"__ndarray__\":\"S+XtCKcFwT8=\",\"dtype\":\"float64\",\"order\":\"little\",\"shape\":[1]},{\"__ndarray__\":\"7l7uk6MAwT8=\",\"dtype\":\"float64\",\"order\":\"little\",\"shape\":[1]},{\"__ndarray__\":\"7l7uk6MAwT8=\",\"dtype\":\"float64\",\"order\":\"little\",\"shape\":[1]},{\"__ndarray__\":\"NQhzu5f7wD8=\",\"dtype\":\"float64\",\"order\":\"little\",\"shape\":[1]},{\"__ndarray__\":\"CU59IHnnwD8=\",\"dtype\":\"float64\",\"order\":\"little\",\"shape\":[1]},{\"__ndarray__\":\"S+XtCKcFwT8=\",\"dtype\":\"float64\",\"order\":\"little\",\"shape\":[1]},{\"__ndarray__\":\"Z9R8lXzswD8=\",\"dtype\":\"float64\",\"order\":\"little\",\"shape\":[1]},{\"__ndarray__\":\"NQhzu5f7wD8=\",\"dtype\":\"float64\",\"order\":\"little\",\"shape\":[1]},{\"__ndarray__\":\"0m9fB84ZwT8=\",\"dtype\":\"float64\",\"order\":\"little\",\"shape\":[1]},{\"__ndarray__\":\"YcJoVrYPwT8=\",\"dtype\":\"float64\",\"order\":\"little\",\"shape\":[1]},{\"__ndarray__\":\"BDxp4bIKwT8=\",\"dtype\":\"float64\",\"order\":\"little\",\"shape\":[1]},{\"__ndarray__\":\"/ilVouwtwT8=\",\"dtype\":\"float64\",\"order\":\"little\",\"shape\":[1]},{\"__ndarray__\":\"/ilVouwtwT8=\",\"dtype\":\"float64\",\"order\":\"little\",\"shape\":[1]},{\"__ndarray__\":\"6EzaVN0jwT8=\",\"dtype\":\"float64\",\"order\":\"little\",\"shape\":[1]},{\"__ndarray__\":\"RtPZyeAowT8=\",\"dtype\":\"float64\",\"order\":\"little\",\"shape\":[1]},{\"__ndarray__\":\"/ilVouwtwT8=\",\"dtype\":\"float64\",\"order\":\"little\",\"shape\":[1]},{\"__ndarray__\":\"KuRKPQtCwT8=\",\"dtype\":\"float64\",\"order\":\"little\",\"shape\":[1]},{\"__ndarray__\":\"KuRKPQtCwT8=\",\"dtype\":\"float64\",\"order\":\"little\",\"shape\":[1]},{\"__ndarray__\":\"QMHFihpMwT8=\",\"dtype\":\"float64\",\"order\":\"little\",\"shape\":[1]},{\"__ndarray__\":\"Vp5A2ClWwT8=\",\"dtype\":\"float64\",\"order\":\"little\",\"shape\":[1]},{\"__ndarray__\":\"QMHFihpMwT8=\",\"dtype\":\"float64\",\"order\":\"little\",\"shape\":[1]},{\"__ndarray__\":\"QMHFihpMwT8=\",\"dtype\":\"float64\",\"order\":\"little\",\"shape\":[1]},{\"__ndarray__\":\"4jrGFRdHwT8=\",\"dtype\":\"float64\",\"order\":\"little\",\"shape\":[1]},{\"__ndarray__\":\"+BdBYyZRwT8=\",\"dtype\":\"float64\",\"order\":\"little\",\"shape\":[1]},{\"__ndarray__\":\"Vp5A2ClWwT8=\",\"dtype\":\"float64\",\"order\":\"little\",\"shape\":[1]},{\"__ndarray__\":\"Vp5A2ClWwT8=\",\"dtype\":\"float64\",\"order\":\"little\",\"shape\":[1]},{\"__ndarray__\":\"KuRKPQtCwT8=\",\"dtype\":\"float64\",\"order\":\"little\",\"shape\":[1]},{\"__ndarray__\":\"KuRKPQtCwT8=\",\"dtype\":\"float64\",\"order\":\"little\",\"shape\":[1]},{\"__ndarray__\":\"KuRKPQtCwT8=\",\"dtype\":\"float64\",\"order\":\"little\",\"shape\":[1]},{\"__ndarray__\":\"KuRKPQtCwT8=\",\"dtype\":\"float64\",\"order\":\"little\",\"shape\":[1]},{\"__ndarray__\":\"+BdBYyZRwT8=\",\"dtype\":\"float64\",\"order\":\"little\",\"shape\":[1]},{\"__ndarray__\":\"DvW7sDVbwT8=\",\"dtype\":\"float64\",\"order\":\"little\",\"shape\":[1]},{\"__ndarray__\":\"+BdBYyZRwT8=\",\"dtype\":\"float64\",\"order\":\"little\",\"shape\":[1]},{\"__ndarray__\":\"8wUtJGB0wT8=\",\"dtype\":\"float64\",\"order\":\"little\",\"shape\":[1]},{\"__ndarray__\":\"8wUtJGB0wT8=\",\"dtype\":\"float64\",\"order\":\"little\",\"shape\":[1]},{\"__ndarray__\":\"fEYiNIKNwT8=\",\"dtype\":\"float64\",\"order\":\"little\",\"shape\":[1]},{\"__ndarray__\":\"NJ2dDI6SwT8=\",\"dtype\":\"float64\",\"order\":\"little\",\"shape\":[1]},{\"__ndarray__\":\"HsAiv36IwT8=\",\"dtype\":\"float64\",\"order\":\"little\",\"shape\":[1]},{\"__ndarray__\":\"UIwsmWN5wT8=\",\"dtype\":\"float64\",\"order\":\"little\",\"shape\":[1]},{\"__ndarray__\":\"UIwsmWN5wT8=\",\"dtype\":\"float64\",\"order\":\"little\",\"shape\":[1]},{\"__ndarray__\":\"UIwsmWN5wT8=\",\"dtype\":\"float64\",\"order\":\"little\",\"shape\":[1]},{\"__ndarray__\":\"SnoYWp2cwT8=\",\"dtype\":\"float64\",\"order\":\"little\",\"shape\":[1]},{\"__ndarray__\":\"7fMY5ZmXwT8=\",\"dtype\":\"float64\",\"order\":\"little\",\"shape\":[1]},{\"__ndarray__\":\"3Siy1lBqwT8=\",\"dtype\":\"float64\",\"order\":\"little\",\"shape\":[1]},{\"__ndarray__\":\"3Siy1lBqwT8=\",\"dtype\":\"float64\",\"order\":\"little\",\"shape\":[1]},{\"__ndarray__\":\"3Siy1lBqwT8=\",\"dtype\":\"float64\",\"order\":\"little\",\"shape\":[1]},{\"__ndarray__\":\"HsAiv36IwT8=\",\"dtype\":\"float64\",\"order\":\"little\",\"shape\":[1]},{\"__ndarray__\":\"NJ2dDI6SwT8=\",\"dtype\":\"float64\",\"order\":\"little\",\"shape\":[1]},{\"__ndarray__\":\"Oq+xS1RvwT8=\",\"dtype\":\"float64\",\"order\":\"little\",\"shape\":[1]},{\"__ndarray__\":\"3Siy1lBqwT8=\",\"dtype\":\"float64\",\"order\":\"little\",\"shape\":[1]},{\"__ndarray__\":\"JNI2/kRlwT8=\",\"dtype\":\"float64\",\"order\":\"little\",\"shape\":[1]},{\"__ndarray__\":\"HsAiv36IwT8=\",\"dtype\":\"float64\",\"order\":\"little\",\"shape\":[1]},{\"__ndarray__\":\"JNI2/kRlwT8=\",\"dtype\":\"float64\",\"order\":\"little\",\"shape\":[1]},{\"__ndarray__\":\"Oq+xS1RvwT8=\",\"dtype\":\"float64\",\"order\":\"little\",\"shape\":[1]},{\"__ndarray__\":\"fEYiNIKNwT8=\",\"dtype\":\"float64\",\"order\":\"little\",\"shape\":[1]},{\"__ndarray__\":\"Vp5A2ClWwT8=\",\"dtype\":\"float64\",\"order\":\"little\",\"shape\":[1]},{\"__ndarray__\":\"Oq+xS1RvwT8=\",\"dtype\":\"float64\",\"order\":\"little\",\"shape\":[1]},{\"__ndarray__\":\"8wUtJGB0wT8=\",\"dtype\":\"float64\",\"order\":\"little\",\"shape\":[1]},{\"__ndarray__\":\"NJ2dDI6SwT8=\",\"dtype\":\"float64\",\"order\":\"little\",\"shape\":[1]},{\"__ndarray__\":\"YFeTp6ymwT8=\",\"dtype\":\"float64\",\"order\":\"little\",\"shape\":[1]},{\"__ndarray__\":\"YFeTp6ymwT8=\",\"dtype\":\"float64\",\"order\":\"little\",\"shape\":[1]},{\"__ndarray__\":\"Ga4OgLirwT8=\",\"dtype\":\"float64\",\"order\":\"little\",\"shape\":[1]},{\"__ndarray__\":\"SnoYWp2cwT8=\",\"dtype\":\"float64\",\"order\":\"little\",\"shape\":[1]},{\"__ndarray__\":\"Zmmn5nKDwT8=\",\"dtype\":\"float64\",\"order\":\"little\",\"shape\":[1]},{\"__ndarray__\":\"djQO9buwwT8=\",\"dtype\":\"float64\",\"order\":\"little\",\"shape\":[1]},{\"__ndarray__\":\"A9GTMqmhwT8=\",\"dtype\":\"float64\",\"order\":\"little\",\"shape\":[1]},{\"__ndarray__\":\"COOncW9+wT8=\",\"dtype\":\"float64\",\"order\":\"little\",\"shape\":[1]},{\"__ndarray__\":\"UIwsmWN5wT8=\",\"dtype\":\"float64\",\"order\":\"little\",\"shape\":[1]},{\"__ndarray__\":\"fEYiNIKNwT8=\",\"dtype\":\"float64\",\"order\":\"little\",\"shape\":[1]},{\"__ndarray__\":\"UIwsmWN5wT8=\",\"dtype\":\"float64\",\"order\":\"little\",\"shape\":[1]},{\"__ndarray__\":\"Oq+xS1RvwT8=\",\"dtype\":\"float64\",\"order\":\"little\",\"shape\":[1]},{\"__ndarray__\":\"bHu7JTlgwT8=\",\"dtype\":\"float64\",\"order\":\"little\",\"shape\":[1]},{\"__ndarray__\":\"3Siy1lBqwT8=\",\"dtype\":\"float64\",\"order\":\"little\",\"shape\":[1]},{\"__ndarray__\":\"UIwsmWN5wT8=\",\"dtype\":\"float64\",\"order\":\"little\",\"shape\":[1]},{\"__ndarray__\":\"fEYiNIKNwT8=\",\"dtype\":\"float64\",\"order\":\"little\",\"shape\":[1]},{\"__ndarray__\":\"7fMY5ZmXwT8=\",\"dtype\":\"float64\",\"order\":\"little\",\"shape\":[1]},{\"__ndarray__\":\"HsAiv36IwT8=\",\"dtype\":\"float64\",\"order\":\"little\",\"shape\":[1]},{\"__ndarray__\":\"HsAiv36IwT8=\",\"dtype\":\"float64\",\"order\":\"little\",\"shape\":[1]},{\"__ndarray__\":\"Zmmn5nKDwT8=\",\"dtype\":\"float64\",\"order\":\"little\",\"shape\":[1]},{\"__ndarray__\":\"COOncW9+wT8=\",\"dtype\":\"float64\",\"order\":\"little\",\"shape\":[1]},{\"__ndarray__\":\"fEYiNIKNwT8=\",\"dtype\":\"float64\",\"order\":\"little\",\"shape\":[1]},{\"__ndarray__\":\"fEYiNIKNwT8=\",\"dtype\":\"float64\",\"order\":\"little\",\"shape\":[1]},{\"__ndarray__\":\"HsAiv36IwT8=\",\"dtype\":\"float64\",\"order\":\"little\",\"shape\":[1]},{\"__ndarray__\":\"HsAiv36IwT8=\",\"dtype\":\"float64\",\"order\":\"little\",\"shape\":[1]},{\"__ndarray__\":\"UIwsmWN5wT8=\",\"dtype\":\"float64\",\"order\":\"little\",\"shape\":[1]},{\"__ndarray__\":\"fEYiNIKNwT8=\",\"dtype\":\"float64\",\"order\":\"little\",\"shape\":[1]},{\"__ndarray__\":\"Zmmn5nKDwT8=\",\"dtype\":\"float64\",\"order\":\"little\",\"shape\":[1]},{\"__ndarray__\":\"UIwsmWN5wT8=\",\"dtype\":\"float64\",\"order\":\"little\",\"shape\":[1]},{\"__ndarray__\":\"UIwsmWN5wT8=\",\"dtype\":\"float64\",\"order\":\"little\",\"shape\":[1]},{\"__ndarray__\":\"7fMY5ZmXwT8=\",\"dtype\":\"float64\",\"order\":\"little\",\"shape\":[1]},{\"__ndarray__\":\"SnoYWp2cwT8=\",\"dtype\":\"float64\",\"order\":\"little\",\"shape\":[1]},{\"__ndarray__\":\"7fMY5ZmXwT8=\",\"dtype\":\"float64\",\"order\":\"little\",\"shape\":[1]},{\"__ndarray__\":\"A9GTMqmhwT8=\",\"dtype\":\"float64\",\"order\":\"little\",\"shape\":[1]},{\"__ndarray__\":\"A9GTMqmhwT8=\",\"dtype\":\"float64\",\"order\":\"little\",\"shape\":[1]},{\"__ndarray__\":\"5+EEptO6wT8=\",\"dtype\":\"float64\",\"order\":\"little\",\"shape\":[1]},{\"__ndarray__\":\"L4uJzce1wT8=\",\"dtype\":\"float64\",\"order\":\"little\",\"shape\":[1]},{\"__ndarray__\":\"Ga4OgLirwT8=\",\"dtype\":\"float64\",\"order\":\"little\",\"shape\":[1]},{\"__ndarray__\":\"djQO9buwwT8=\",\"dtype\":\"float64\",\"order\":\"little\",\"shape\":[1]},{\"__ndarray__\":\"5+EEptO6wT8=\",\"dtype\":\"float64\",\"order\":\"little\",\"shape\":[1]},{\"__ndarray__\":\"djQO9buwwT8=\",\"dtype\":\"float64\",\"order\":\"little\",\"shape\":[1]},{\"__ndarray__\":\"L4uJzce1wT8=\",\"dtype\":\"float64\",\"order\":\"little\",\"shape\":[1]},{\"__ndarray__\":\"5+EEptO6wT8=\",\"dtype\":\"float64\",\"order\":\"little\",\"shape\":[1]},{\"__ndarray__\":\"L4uJzce1wT8=\",\"dtype\":\"float64\",\"order\":\"little\",\"shape\":[1]},{\"__ndarray__\":\"L4uJzce1wT8=\",\"dtype\":\"float64\",\"order\":\"little\",\"shape\":[1]},{\"__ndarray__\":\"L4uJzce1wT8=\",\"dtype\":\"float64\",\"order\":\"little\",\"shape\":[1]},{\"__ndarray__\":\"A9GTMqmhwT8=\",\"dtype\":\"float64\",\"order\":\"little\",\"shape\":[1]},{\"__ndarray__\":\"/b5/8+LEwT8=\",\"dtype\":\"float64\",\"order\":\"little\",\"shape\":[1]},{\"__ndarray__\":\"L4uJzce1wT8=\",\"dtype\":\"float64\",\"order\":\"little\",\"shape\":[1]},{\"__ndarray__\":\"5+EEptO6wT8=\",\"dtype\":\"float64\",\"order\":\"little\",\"shape\":[1]},{\"__ndarray__\":\"SnoYWp2cwT8=\",\"dtype\":\"float64\",\"order\":\"little\",\"shape\":[1]},{\"__ndarray__\":\"fEYiNIKNwT8=\",\"dtype\":\"float64\",\"order\":\"little\",\"shape\":[1]},{\"__ndarray__\":\"HsAiv36IwT8=\",\"dtype\":\"float64\",\"order\":\"little\",\"shape\":[1]},{\"__ndarray__\":\"HsAiv36IwT8=\",\"dtype\":\"float64\",\"order\":\"little\",\"shape\":[1]},{\"__ndarray__\":\"SnoYWp2cwT8=\",\"dtype\":\"float64\",\"order\":\"little\",\"shape\":[1]},{\"__ndarray__\":\"SnoYWp2cwT8=\",\"dtype\":\"float64\",\"order\":\"little\",\"shape\":[1]},{\"__ndarray__\":\"SnoYWp2cwT8=\",\"dtype\":\"float64\",\"order\":\"little\",\"shape\":[1]},{\"__ndarray__\":\"SnoYWp2cwT8=\",\"dtype\":\"float64\",\"order\":\"little\",\"shape\":[1]},{\"__ndarray__\":\"SnoYWp2cwT8=\",\"dtype\":\"float64\",\"order\":\"little\",\"shape\":[1]},{\"__ndarray__\":\"A9GTMqmhwT8=\",\"dtype\":\"float64\",\"order\":\"little\",\"shape\":[1]},{\"__ndarray__\":\"A9GTMqmhwT8=\",\"dtype\":\"float64\",\"order\":\"little\",\"shape\":[1]},{\"__ndarray__\":\"Ga4OgLirwT8=\",\"dtype\":\"float64\",\"order\":\"little\",\"shape\":[1]},{\"__ndarray__\":\"7fMY5ZmXwT8=\",\"dtype\":\"float64\",\"order\":\"little\",\"shape\":[1]},{\"__ndarray__\":\"7fMY5ZmXwT8=\",\"dtype\":\"float64\",\"order\":\"little\",\"shape\":[1]},{\"__ndarray__\":\"SnoYWp2cwT8=\",\"dtype\":\"float64\",\"order\":\"little\",\"shape\":[1]},{\"__ndarray__\":\"SnoYWp2cwT8=\",\"dtype\":\"float64\",\"order\":\"little\",\"shape\":[1]},{\"__ndarray__\":\"SnoYWp2cwT8=\",\"dtype\":\"float64\",\"order\":\"little\",\"shape\":[1]},{\"__ndarray__\":\"NJ2dDI6SwT8=\",\"dtype\":\"float64\",\"order\":\"little\",\"shape\":[1]},{\"__ndarray__\":\"YFeTp6ymwT8=\",\"dtype\":\"float64\",\"order\":\"little\",\"shape\":[1]},{\"__ndarray__\":\"SnoYWp2cwT8=\",\"dtype\":\"float64\",\"order\":\"little\",\"shape\":[1]},{\"__ndarray__\":\"7fMY5ZmXwT8=\",\"dtype\":\"float64\",\"order\":\"little\",\"shape\":[1]},{\"__ndarray__\":\"SnoYWp2cwT8=\",\"dtype\":\"float64\",\"order\":\"little\",\"shape\":[1]},{\"__ndarray__\":\"NJ2dDI6SwT8=\",\"dtype\":\"float64\",\"order\":\"little\",\"shape\":[1]},{\"__ndarray__\":\"Zmmn5nKDwT8=\",\"dtype\":\"float64\",\"order\":\"little\",\"shape\":[1]}],\"step\":[0,5,10,15,20,25,30,35,40,45,50,55,60,65,70,75,80,85,90,95,100,105,110,115,120,125,130,135,140,145,150,155,160,165,170,175,180,185,190,195,200,205,210,215,220,225,230,235,240,245,250,255,260,265,270,275,280,285,290,295,300,305,310,315,320,325,330,335,340,345,350,355,360,365,370,375,380,385,390,395,400,405,410,415,420,425,430,435,440,445,450,455,460,465,470,475,480,485,490,495,500,505,510,515,520,525,530,535,540,545,550,555,560,565,570,575,580,585,590,595,600,605,610,615,620,625,630,635,640,645,650,655,660,665,670,675,680,685,690,695,700,705,710,715,720,725,730,735,740,745,750,755,760,765,770,775,780,785,790,795,800,805,810,815,820,825,830,835,840,845,850,855,860,865,870,875,880,885,890,895,900,905,910,915,920,925,930,935,940,945,950,955,960,965,970,975,980,985,990,995]},\"selected\":{\"id\":\"1158\"},\"selection_policy\":{\"id\":\"1159\"}},\"id\":\"1143\",\"type\":\"ColumnDataSource\"},{\"attributes\":{\"source\":{\"id\":\"1143\"}},\"id\":\"1148\",\"type\":\"CDSView\"},{\"attributes\":{},\"id\":\"1099\",\"type\":\"LinearScale\"},{\"attributes\":{\"line_alpha\":0.1,\"line_color\":\"cornflowerblue\",\"line_width\":2,\"x\":{\"field\":\"step\"},\"y\":{\"field\":\"error\"}},\"id\":\"1129\",\"type\":\"Line\"},{\"attributes\":{},\"id\":\"1158\",\"type\":\"Selection\"},{\"attributes\":{\"callback\":null,\"tooltips\":[[\"error\",\"@error\"],[\"step\",\"@step\"]]},\"id\":\"1118\",\"type\":\"HoverTool\"},{\"attributes\":{\"bottom_units\":\"screen\",\"fill_alpha\":0.5,\"fill_color\":\"lightgrey\",\"left_units\":\"screen\",\"level\":\"overlay\",\"line_alpha\":1.0,\"line_color\":\"black\",\"line_dash\":[4,4],\"line_width\":2,\"right_units\":\"screen\",\"top_units\":\"screen\"},\"id\":\"1116\",\"type\":\"BoxAnnotation\"},{\"attributes\":{},\"id\":\"1101\",\"type\":\"LinearScale\"},{\"attributes\":{},\"id\":\"1097\",\"type\":\"DataRange1d\"},{\"attributes\":{\"line_color\":\"cornflowerblue\",\"line_width\":2,\"x\":{\"field\":\"step\"},\"y\":{\"field\":\"error\"}},\"id\":\"1128\",\"type\":\"Line\"},{\"attributes\":{\"overlay\":{\"id\":\"1116\"}},\"id\":\"1115\",\"type\":\"BoxSelectTool\"},{\"attributes\":{},\"id\":\"1135\",\"type\":\"BasicTickFormatter\"},{\"attributes\":{\"fill_alpha\":0.5,\"fill_color\":\"lightgrey\",\"level\":\"overlay\",\"line_alpha\":1.0,\"line_color\":\"black\",\"line_dash\":[4,4],\"line_width\":2,\"xs_units\":\"screen\",\"ys_units\":\"screen\"},\"id\":\"1117\",\"type\":\"PolyAnnotation\"},{\"attributes\":{\"axis_label\":\"Steps\",\"formatter\":{\"id\":\"1133\"},\"ticker\":{\"id\":\"1104\"}},\"id\":\"1103\",\"type\":\"LinearAxis\"},{\"attributes\":{\"data_source\":{\"id\":\"1126\"},\"glyph\":{\"id\":\"1128\"},\"hover_glyph\":null,\"muted_glyph\":null,\"nonselection_glyph\":{\"id\":\"1129\"},\"selection_glyph\":null,\"view\":{\"id\":\"1131\"}},\"id\":\"1130\",\"type\":\"GlyphRenderer\"},{\"attributes\":{\"line_alpha\":0.1,\"line_color\":\"tomato\",\"line_width\":2,\"x\":{\"field\":\"step\"},\"y\":{\"field\":\"error\"}},\"id\":\"1146\",\"type\":\"Line\"},{\"attributes\":{\"active_drag\":\"auto\",\"active_inspect\":\"auto\",\"active_multi\":null,\"active_scroll\":\"auto\",\"active_tap\":\"auto\",\"tools\":[{\"id\":\"1111\"},{\"id\":\"1112\"},{\"id\":\"1113\"},{\"id\":\"1114\"},{\"id\":\"1115\"},{\"id\":\"1118\"}]},\"id\":\"1119\",\"type\":\"Toolbar\"},{\"attributes\":{\"dimensions\":\"width\"},\"id\":\"1112\",\"type\":\"WheelZoomTool\"},{\"attributes\":{},\"id\":\"1104\",\"type\":\"BasicTicker\"},{\"attributes\":{\"source\":{\"id\":\"1126\"}},\"id\":\"1131\",\"type\":\"CDSView\"},{\"attributes\":{\"axis\":{\"id\":\"1107\"},\"dimension\":1,\"ticker\":null},\"id\":\"1110\",\"type\":\"Grid\"},{\"attributes\":{},\"id\":\"1111\",\"type\":\"PanTool\"},{\"attributes\":{\"axis\":{\"id\":\"1103\"},\"ticker\":null},\"id\":\"1106\",\"type\":\"Grid\"},{\"attributes\":{},\"id\":\"1113\",\"type\":\"ResetTool\"},{\"attributes\":{\"data_source\":{\"id\":\"1143\"},\"glyph\":{\"id\":\"1145\"},\"hover_glyph\":null,\"muted_glyph\":null,\"nonselection_glyph\":{\"id\":\"1146\"},\"selection_glyph\":null,\"view\":{\"id\":\"1148\"}},\"id\":\"1147\",\"type\":\"GlyphRenderer\"},{\"attributes\":{\"axis_label\":\"Loss (Error)\",\"formatter\":{\"id\":\"1135\"},\"ticker\":{\"id\":\"1108\"}},\"id\":\"1107\",\"type\":\"LinearAxis\"},{\"attributes\":{\"label\":{\"value\":\"train-error\"},\"renderers\":[{\"id\":\"1130\"}]},\"id\":\"1142\",\"type\":\"LegendItem\"},{\"attributes\":{\"click_policy\":\"hide\",\"items\":[{\"id\":\"1142\"},{\"id\":\"1160\"}],\"location\":\"center_right\"},\"id\":\"1141\",\"type\":\"Legend\"},{\"attributes\":{\"overlay\":{\"id\":\"1117\"}},\"id\":\"1114\",\"type\":\"PolySelectTool\"},{\"attributes\":{},\"id\":\"1133\",\"type\":\"BasicTickFormatter\"},{\"attributes\":{},\"id\":\"1095\",\"type\":\"DataRange1d\"}],\"root_ids\":[\"1092\"]},\"title\":\"Bokeh Application\",\"version\":\"2.2.3\"}};\n",
       "  var render_items = [{\"docid\":\"14a05ad5-8be4-4320-b654-62d8f4a0c26d\",\"root_ids\":[\"1092\"],\"roots\":{\"1092\":\"2414245b-72c0-40ea-80e4-1fbba5c13e2d\"}}];\n",
       "  root.Bokeh.embed.embed_items_notebook(docs_json, render_items);\n",
       "\n",
       "  }\n",
       "  if (root.Bokeh !== undefined) {\n",
       "    embed_document(root);\n",
       "  } else {\n",
       "    var attempts = 0;\n",
       "    var timer = setInterval(function(root) {\n",
       "      if (root.Bokeh !== undefined) {\n",
       "        clearInterval(timer);\n",
       "        embed_document(root);\n",
       "      } else {\n",
       "        attempts++;\n",
       "        if (attempts > 100) {\n",
       "          clearInterval(timer);\n",
       "          console.log(\"Bokeh: ERROR: Unable to run BokehJS code because BokehJS library is missing\");\n",
       "        }\n",
       "      }\n",
       "    }, 10, root)\n",
       "  }\n",
       "})(window);"
      ],
      "application/vnd.bokehjs_exec.v0+json": ""
     },
     "metadata": {
      "application/vnd.bokehjs_exec.v0+json": {
       "id": "1092"
      }
     },
     "output_type": "display_data"
    }
   ],
   "source": [
    "from bokeh.models import ColumnDataSource\n",
    "from bokeh.models import HoverTool\n",
    "import re\n",
    "\n",
    "\n",
    "def get_data(trial, tname):\n",
    "    \"\"\"\n",
    "    For the given tensor name, walks through all the iterations\n",
    "    for which you have data and fetches the values.\n",
    "    Returns the set of steps and the values.\n",
    "    \"\"\"\n",
    "    tensor = trial.tensor(tname)\n",
    "    steps = tensor.steps()\n",
    "    vals = [tensor.value(s) for s in steps]\n",
    "    return steps, vals\n",
    "\n",
    "def plot_evaluation_metrics():\n",
    "    collection_name = \"metrics\"\n",
    "    regex='.*'\n",
    "    tensors = trial.collection(collection_name).tensor_names\n",
    "    TOOLS=\"pan,xwheel_zoom,reset,poly_select,box_select\"    \n",
    "    TOOLTIPS = [\n",
    "        (\"error\", \"@error\"),\n",
    "        (\"step\", \"@step\"),\n",
    "    ]\n",
    "    p = figure(\n",
    "        tools=TOOLS, \n",
    "        title=\"Training and Validation Loss\", \n",
    "        tooltips=TOOLTIPS, \n",
    "        x_axis_label=\"Steps\", \n",
    "        y_axis_label=\"Loss (Error)\"\n",
    "    )\n",
    "    plots = []\n",
    "    colors = [\"tomato\", \"cornflowerblue\"]\n",
    "    for tensor_name in sorted(tensors):\n",
    "        if re.match(regex, tensor_name):\n",
    "            steps, data = get_data(trial, tensor_name)\n",
    "            source = ColumnDataSource(data=dict(step=steps, error=data))\n",
    "            p.line(\n",
    "                x='step',\n",
    "                y='error', \n",
    "                line_width=2, \n",
    "                source=source, \n",
    "                color=colors.pop(),\n",
    "                legend_label=f\"{tensor_name}\"\n",
    "            )\n",
    "            plots.append(p)\n",
    "    p.legend.location = \"center_right\"\n",
    "    p.legend.click_policy=\"hide\"\n",
    "\n",
    "    show(p)\n",
    "if len(trial.tensor_names(collection=\"metrics\")) > 0:    \n",
    "    plot_evaluation_metrics()\n",
    "else:\n",
    "    error_message = \"\\n\\\n",
    "    Metrics are missing in the debugger data output.\\n\\\n",
    "    Please check if metrics are included in your Debugger Hook Config.\\n\\\n",
    "    \"\n",
    "    display(Markdown(error_message))"
   ]
  },
  {
   "cell_type": "markdown",
   "metadata": {
    "papermill": {
     "duration": 0.031622,
     "end_time": "2025-01-18T23:44:53.036630",
     "exception": false,
     "start_time": "2025-01-18T23:44:53.005008",
     "status": "completed"
    },
    "tags": []
   },
   "source": [
    "## Feature Importance <a name=\"section3\"></a>\n",
    "\n",
    "Feature importance refers to techniques that assign scores to input features based on how useful they are at predicting a target variable.\n",
    "The supported importance types for XGBoost are:\n",
    "\n",
    "* **Weight** (or **Frequency**) is the percentage representing the relative number of times a particular feature occurs in the trees of the model.\n",
    "* **Gain** is the improvement in accuracy brought by a feature to the branches it is on. *The Gain is the most relevant attribute to interpret the relative importance of each feature.*\n",
    "* **Coverage** measures the relative quantity of observations concerned by a feature. "
   ]
  },
  {
   "cell_type": "code",
   "execution_count": 11,
   "metadata": {
    "execution": {
     "iopub.execute_input": "2025-01-18T23:44:53.130586Z",
     "iopub.status.busy": "2025-01-18T23:44:53.129882Z",
     "iopub.status.idle": "2025-01-18T23:44:53.136338Z",
     "shell.execute_reply": "2025-01-18T23:44:53.135806Z"
    },
    "papermill": {
     "duration": 0.071507,
     "end_time": "2025-01-18T23:44:53.137046",
     "exception": false,
     "start_time": "2025-01-18T23:44:53.065539",
     "status": "completed"
    },
    "tags": [
     "hide-input"
    ]
   },
   "outputs": [],
   "source": [
    "from bokeh.models import ColorBar\n",
    "from bokeh.palettes import Spectral6\n",
    "from bokeh.transform import factor_cmap\n",
    "from bokeh.models.mappers import CategoricalColorMapper\n",
    "\n",
    "def plot_feature_importance(importance_type=\"gain\"):\n",
    "    SUPPORTED_IMPORTANCE_TYPES = [\"weight\", \"gain\", \"cover\"]\n",
    "    if importance_type not in SUPPORTED_IMPORTANCE_TYPES:\n",
    "        raise ValueError(f\"{importance_type} is not one of the supported importance types.\")\n",
    "    feature_names = trial.tensor_names(regex=f\"feature_importance/{importance_type}/.*\")\n",
    "    if len(feature_names) == 0:\n",
    "        return None\n",
    "    last_step = trial.tensor(feature_names[0]).steps()[-1]\n",
    "    def sorter(f_name):\n",
    "        f_name = f_name.split('/')[-1]\n",
    "        return int(f_name[1:])\n",
    "    TOOLTIPS = [\n",
    "        (\"feature\", \"@feature\"),\n",
    "        (\"importance\", \"@importance\"),\n",
    "    ]\n",
    "\n",
    "    features = [tensor_name.split('/')[-1] for tensor_name in sorted(feature_names, key=sorter)]\n",
    "    importances = [trial.tensor(tensor_name).value(last_step)[0]*100 for tensor_name in sorted(feature_names, key=sorter)]\n",
    "    \n",
    "    source = ColumnDataSource(data=dict(feature=features, importance=importances))\n",
    "    plot_height = len(features)*25\n",
    "    y_max = max(importances)\n",
    "    p = figure(\n",
    "        y_range=features, \n",
    "        title=f\"Feature {importance_type}\",\n",
    "        toolbar_location=None,  \n",
    "        tooltips=TOOLTIPS,\n",
    "        plot_height=plot_height\n",
    "    )\n",
    "    p.hbar(height=0.5, y='feature', right='importance', source=source)\n",
    "    p.xgrid.grid_line_color = None\n",
    "    p.x_range.start = 0\n",
    "    p.x_range.end = round(1.10*y_max, 2) # x_range = 110% of y_max\n",
    "    p.xaxis.axis_label = 'Importance'\n",
    "    p.yaxis.axis_label = 'Feature'\n",
    "\n",
    "    show(p)\n"
   ]
  },
  {
   "cell_type": "code",
   "execution_count": 12,
   "metadata": {
    "execution": {
     "iopub.execute_input": "2025-01-18T23:44:53.203580Z",
     "iopub.status.busy": "2025-01-18T23:44:53.202383Z",
     "iopub.status.idle": "2025-01-18T23:44:53.399866Z",
     "shell.execute_reply": "2025-01-18T23:44:53.400268Z"
    },
    "papermill": {
     "duration": 0.236659,
     "end_time": "2025-01-18T23:44:53.400558",
     "exception": false,
     "start_time": "2025-01-18T23:44:53.163899",
     "status": "completed"
    },
    "tags": [
     "hide-input"
    ]
   },
   "outputs": [
    {
     "data": {
      "text/html": [
       "\n",
       "\n",
       "\n",
       "\n",
       "\n",
       "\n",
       "  <div class=\"bk-root\" id=\"f6d6d78d-a8e0-4ca6-a33f-cfc5041f2501\" data-root-id=\"1236\"></div>\n"
      ]
     },
     "metadata": {},
     "output_type": "display_data"
    },
    {
     "data": {
      "application/javascript": [
       "(function(root) {\n",
       "  function embed_document(root) {\n",
       "    \n",
       "  var docs_json = {\"51434f63-21a7-4d61-85ae-0a49a45c5c98\":{\"roots\":{\"references\":[{\"attributes\":{\"below\":[{\"id\":\"1247\"}],\"center\":[{\"id\":\"1250\"},{\"id\":\"1253\"}],\"left\":[{\"id\":\"1251\"}],\"plot_height\":300,\"renderers\":[{\"id\":\"1273\"}],\"title\":{\"id\":\"1237\"},\"toolbar\":{\"id\":\"1262\"},\"toolbar_location\":null,\"x_range\":{\"id\":\"1239\"},\"x_scale\":{\"id\":\"1243\"},\"y_range\":{\"id\":\"1241\"},\"y_scale\":{\"id\":\"1245\"}},\"id\":\"1236\",\"subtype\":\"Figure\",\"type\":\"Plot\"},{\"attributes\":{},\"id\":\"1255\",\"type\":\"WheelZoomTool\"},{\"attributes\":{\"axis\":{\"id\":\"1247\"},\"grid_line_color\":null,\"ticker\":null},\"id\":\"1250\",\"type\":\"Grid\"},{\"attributes\":{\"overlay\":{\"id\":\"1260\"}},\"id\":\"1256\",\"type\":\"BoxZoomTool\"},{\"attributes\":{},\"id\":\"1252\",\"type\":\"CategoricalTicker\"},{\"attributes\":{},\"id\":\"1300\",\"type\":\"Selection\"},{\"attributes\":{},\"id\":\"1243\",\"type\":\"LinearScale\"},{\"attributes\":{},\"id\":\"1254\",\"type\":\"PanTool\"},{\"attributes\":{},\"id\":\"1248\",\"type\":\"BasicTicker\"},{\"attributes\":{\"axis_label\":\"Importance\",\"formatter\":{\"id\":\"1295\"},\"ticker\":{\"id\":\"1248\"}},\"id\":\"1247\",\"type\":\"LinearAxis\"},{\"attributes\":{\"text\":\"Feature weight\"},\"id\":\"1237\",\"type\":\"Title\"},{\"attributes\":{},\"id\":\"1295\",\"type\":\"BasicTickFormatter\"},{\"attributes\":{\"bottom_units\":\"screen\",\"fill_alpha\":0.5,\"fill_color\":\"lightgrey\",\"left_units\":\"screen\",\"level\":\"overlay\",\"line_alpha\":1.0,\"line_color\":\"black\",\"line_dash\":[4,4],\"line_width\":2,\"right_units\":\"screen\",\"top_units\":\"screen\"},\"id\":\"1260\",\"type\":\"BoxAnnotation\"},{\"attributes\":{\"axis\":{\"id\":\"1251\"},\"dimension\":1,\"ticker\":null},\"id\":\"1253\",\"type\":\"Grid\"},{\"attributes\":{\"callback\":null,\"tooltips\":[[\"feature\",\"@feature\"],[\"importance\",\"@importance\"]]},\"id\":\"1261\",\"type\":\"HoverTool\"},{\"attributes\":{\"end\":25.3,\"start\":0},\"id\":\"1239\",\"type\":\"DataRange1d\"},{\"attributes\":{\"fill_color\":{\"value\":\"#1f77b4\"},\"height\":{\"value\":0.5},\"line_color\":{\"value\":\"#1f77b4\"},\"right\":{\"field\":\"importance\"},\"y\":{\"field\":\"feature\"}},\"id\":\"1271\",\"type\":\"HBar\"},{\"attributes\":{\"data_source\":{\"id\":\"1235\"},\"glyph\":{\"id\":\"1271\"},\"hover_glyph\":null,\"muted_glyph\":null,\"nonselection_glyph\":{\"id\":\"1272\"},\"selection_glyph\":null,\"view\":{\"id\":\"1274\"}},\"id\":\"1273\",\"type\":\"GlyphRenderer\"},{\"attributes\":{\"active_drag\":\"auto\",\"active_inspect\":\"auto\",\"active_multi\":null,\"active_scroll\":\"auto\",\"active_tap\":\"auto\",\"tools\":[{\"id\":\"1254\"},{\"id\":\"1255\"},{\"id\":\"1256\"},{\"id\":\"1257\"},{\"id\":\"1258\"},{\"id\":\"1259\"},{\"id\":\"1261\"}]},\"id\":\"1262\",\"type\":\"Toolbar\"},{\"attributes\":{\"data\":{\"feature\":[\"f0\",\"f1\",\"f2\",\"f3\",\"f4\",\"f5\",\"f6\",\"f7\",\"f8\",\"f9\",\"f10\",\"f11\"],\"importance\":[22.997094229970944,6.7662930676629305,10.834371108343712,3.3623910336239105,12.49481112494811,6.309672063096721,2.3661270236612704,1.78497301784973,8.13615608136156,6.392694063926941,13.906185139061852,4.649232046492321]},\"selected\":{\"id\":\"1300\"},\"selection_policy\":{\"id\":\"1301\"}},\"id\":\"1235\",\"type\":\"ColumnDataSource\"},{\"attributes\":{},\"id\":\"1301\",\"type\":\"UnionRenderers\"},{\"attributes\":{},\"id\":\"1258\",\"type\":\"ResetTool\"},{\"attributes\":{},\"id\":\"1257\",\"type\":\"SaveTool\"},{\"attributes\":{\"fill_alpha\":{\"value\":0.1},\"fill_color\":{\"value\":\"#1f77b4\"},\"height\":{\"value\":0.5},\"line_alpha\":{\"value\":0.1},\"line_color\":{\"value\":\"#1f77b4\"},\"right\":{\"field\":\"importance\"},\"y\":{\"field\":\"feature\"}},\"id\":\"1272\",\"type\":\"HBar\"},{\"attributes\":{},\"id\":\"1297\",\"type\":\"CategoricalTickFormatter\"},{\"attributes\":{},\"id\":\"1245\",\"type\":\"CategoricalScale\"},{\"attributes\":{},\"id\":\"1259\",\"type\":\"HelpTool\"},{\"attributes\":{\"source\":{\"id\":\"1235\"}},\"id\":\"1274\",\"type\":\"CDSView\"},{\"attributes\":{\"factors\":[\"f0\",\"f1\",\"f2\",\"f3\",\"f4\",\"f5\",\"f6\",\"f7\",\"f8\",\"f9\",\"f10\",\"f11\"]},\"id\":\"1241\",\"type\":\"FactorRange\"},{\"attributes\":{\"axis_label\":\"Feature\",\"formatter\":{\"id\":\"1297\"},\"ticker\":{\"id\":\"1252\"}},\"id\":\"1251\",\"type\":\"CategoricalAxis\"}],\"root_ids\":[\"1236\"]},\"title\":\"Bokeh Application\",\"version\":\"2.2.3\"}};\n",
       "  var render_items = [{\"docid\":\"51434f63-21a7-4d61-85ae-0a49a45c5c98\",\"root_ids\":[\"1236\"],\"roots\":{\"1236\":\"f6d6d78d-a8e0-4ca6-a33f-cfc5041f2501\"}}];\n",
       "  root.Bokeh.embed.embed_items_notebook(docs_json, render_items);\n",
       "\n",
       "  }\n",
       "  if (root.Bokeh !== undefined) {\n",
       "    embed_document(root);\n",
       "  } else {\n",
       "    var attempts = 0;\n",
       "    var timer = setInterval(function(root) {\n",
       "      if (root.Bokeh !== undefined) {\n",
       "        clearInterval(timer);\n",
       "        embed_document(root);\n",
       "      } else {\n",
       "        attempts++;\n",
       "        if (attempts > 100) {\n",
       "          clearInterval(timer);\n",
       "          console.log(\"Bokeh: ERROR: Unable to run BokehJS code because BokehJS library is missing\");\n",
       "        }\n",
       "      }\n",
       "    }, 10, root)\n",
       "  }\n",
       "})(window);"
      ],
      "application/vnd.bokehjs_exec.v0+json": ""
     },
     "metadata": {
      "application/vnd.bokehjs_exec.v0+json": {
       "id": "1236"
      }
     },
     "output_type": "display_data"
    },
    {
     "data": {
      "text/html": [
       "\n",
       "\n",
       "\n",
       "\n",
       "\n",
       "\n",
       "  <div class=\"bk-root\" id=\"5a5fdfdf-a5b5-4b91-9db5-b6807355d27a\" data-root-id=\"1343\"></div>\n"
      ]
     },
     "metadata": {},
     "output_type": "display_data"
    },
    {
     "data": {
      "application/javascript": [
       "(function(root) {\n",
       "  function embed_document(root) {\n",
       "    \n",
       "  var docs_json = {\"9a6ca018-3d06-4989-a28f-d0e1ed9e1b83\":{\"roots\":{\"references\":[{\"attributes\":{\"below\":[{\"id\":\"1354\"}],\"center\":[{\"id\":\"1357\"},{\"id\":\"1360\"}],\"left\":[{\"id\":\"1358\"}],\"plot_height\":300,\"renderers\":[{\"id\":\"1380\"}],\"title\":{\"id\":\"1344\"},\"toolbar\":{\"id\":\"1369\"},\"toolbar_location\":null,\"x_range\":{\"id\":\"1346\"},\"x_scale\":{\"id\":\"1350\"},\"y_range\":{\"id\":\"1348\"},\"y_scale\":{\"id\":\"1352\"}},\"id\":\"1343\",\"subtype\":\"Figure\",\"type\":\"Plot\"},{\"attributes\":{\"fill_alpha\":{\"value\":0.1},\"fill_color\":{\"value\":\"#1f77b4\"},\"height\":{\"value\":0.5},\"line_alpha\":{\"value\":0.1},\"line_color\":{\"value\":\"#1f77b4\"},\"right\":{\"field\":\"importance\"},\"y\":{\"field\":\"feature\"}},\"id\":\"1379\",\"type\":\"HBar\"},{\"attributes\":{},\"id\":\"1416\",\"type\":\"UnionRenderers\"},{\"attributes\":{},\"id\":\"1359\",\"type\":\"CategoricalTicker\"},{\"attributes\":{},\"id\":\"1410\",\"type\":\"BasicTickFormatter\"},{\"attributes\":{\"active_drag\":\"auto\",\"active_inspect\":\"auto\",\"active_multi\":null,\"active_scroll\":\"auto\",\"active_tap\":\"auto\",\"tools\":[{\"id\":\"1361\"},{\"id\":\"1362\"},{\"id\":\"1363\"},{\"id\":\"1364\"},{\"id\":\"1365\"},{\"id\":\"1366\"},{\"id\":\"1368\"}]},\"id\":\"1369\",\"type\":\"Toolbar\"},{\"attributes\":{\"axis_label\":\"Importance\",\"formatter\":{\"id\":\"1410\"},\"ticker\":{\"id\":\"1355\"}},\"id\":\"1354\",\"type\":\"LinearAxis\"},{\"attributes\":{\"bottom_units\":\"screen\",\"fill_alpha\":0.5,\"fill_color\":\"lightgrey\",\"left_units\":\"screen\",\"level\":\"overlay\",\"line_alpha\":1.0,\"line_color\":\"black\",\"line_dash\":[4,4],\"line_width\":2,\"right_units\":\"screen\",\"top_units\":\"screen\"},\"id\":\"1367\",\"type\":\"BoxAnnotation\"},{\"attributes\":{\"factors\":[\"f0\",\"f1\",\"f2\",\"f3\",\"f4\",\"f5\",\"f6\",\"f7\",\"f8\",\"f9\",\"f10\",\"f11\"]},\"id\":\"1348\",\"type\":\"FactorRange\"},{\"attributes\":{\"axis_label\":\"Feature\",\"formatter\":{\"id\":\"1412\"},\"ticker\":{\"id\":\"1359\"}},\"id\":\"1358\",\"type\":\"CategoricalAxis\"},{\"attributes\":{},\"id\":\"1412\",\"type\":\"CategoricalTickFormatter\"},{\"attributes\":{},\"id\":\"1355\",\"type\":\"BasicTicker\"},{\"attributes\":{},\"id\":\"1415\",\"type\":\"Selection\"},{\"attributes\":{\"end\":42.93,\"start\":0},\"id\":\"1346\",\"type\":\"DataRange1d\"},{\"attributes\":{\"source\":{\"id\":\"1342\"}},\"id\":\"1381\",\"type\":\"CDSView\"},{\"attributes\":{\"axis\":{\"id\":\"1354\"},\"grid_line_color\":null,\"ticker\":null},\"id\":\"1357\",\"type\":\"Grid\"},{\"attributes\":{\"callback\":null,\"tooltips\":[[\"feature\",\"@feature\"],[\"importance\",\"@importance\"]]},\"id\":\"1368\",\"type\":\"HoverTool\"},{\"attributes\":{},\"id\":\"1362\",\"type\":\"WheelZoomTool\"},{\"attributes\":{\"data\":{\"feature\":[\"f0\",\"f1\",\"f2\",\"f3\",\"f4\",\"f5\",\"f6\",\"f7\",\"f8\",\"f9\",\"f10\",\"f11\"],\"importance\":[3.9610211148460888,2.9394235376353968,11.692558573772223,4.301993426311347,3.9842478307721243,39.02759263504857,2.6294731012529855,3.039104828259261,14.99602358580377,7.099231768720577,3.811100860933877,2.5182287366437754]},\"selected\":{\"id\":\"1415\"},\"selection_policy\":{\"id\":\"1416\"}},\"id\":\"1342\",\"type\":\"ColumnDataSource\"},{\"attributes\":{},\"id\":\"1361\",\"type\":\"PanTool\"},{\"attributes\":{\"overlay\":{\"id\":\"1367\"}},\"id\":\"1363\",\"type\":\"BoxZoomTool\"},{\"attributes\":{},\"id\":\"1365\",\"type\":\"ResetTool\"},{\"attributes\":{},\"id\":\"1352\",\"type\":\"CategoricalScale\"},{\"attributes\":{\"axis\":{\"id\":\"1358\"},\"dimension\":1,\"ticker\":null},\"id\":\"1360\",\"type\":\"Grid\"},{\"attributes\":{},\"id\":\"1350\",\"type\":\"LinearScale\"},{\"attributes\":{},\"id\":\"1364\",\"type\":\"SaveTool\"},{\"attributes\":{},\"id\":\"1366\",\"type\":\"HelpTool\"},{\"attributes\":{\"text\":\"Feature gain\"},\"id\":\"1344\",\"type\":\"Title\"},{\"attributes\":{\"data_source\":{\"id\":\"1342\"},\"glyph\":{\"id\":\"1378\"},\"hover_glyph\":null,\"muted_glyph\":null,\"nonselection_glyph\":{\"id\":\"1379\"},\"selection_glyph\":null,\"view\":{\"id\":\"1381\"}},\"id\":\"1380\",\"type\":\"GlyphRenderer\"},{\"attributes\":{\"fill_color\":{\"value\":\"#1f77b4\"},\"height\":{\"value\":0.5},\"line_color\":{\"value\":\"#1f77b4\"},\"right\":{\"field\":\"importance\"},\"y\":{\"field\":\"feature\"}},\"id\":\"1378\",\"type\":\"HBar\"}],\"root_ids\":[\"1343\"]},\"title\":\"Bokeh Application\",\"version\":\"2.2.3\"}};\n",
       "  var render_items = [{\"docid\":\"9a6ca018-3d06-4989-a28f-d0e1ed9e1b83\",\"root_ids\":[\"1343\"],\"roots\":{\"1343\":\"5a5fdfdf-a5b5-4b91-9db5-b6807355d27a\"}}];\n",
       "  root.Bokeh.embed.embed_items_notebook(docs_json, render_items);\n",
       "\n",
       "  }\n",
       "  if (root.Bokeh !== undefined) {\n",
       "    embed_document(root);\n",
       "  } else {\n",
       "    var attempts = 0;\n",
       "    var timer = setInterval(function(root) {\n",
       "      if (root.Bokeh !== undefined) {\n",
       "        clearInterval(timer);\n",
       "        embed_document(root);\n",
       "      } else {\n",
       "        attempts++;\n",
       "        if (attempts > 100) {\n",
       "          clearInterval(timer);\n",
       "          console.log(\"Bokeh: ERROR: Unable to run BokehJS code because BokehJS library is missing\");\n",
       "        }\n",
       "      }\n",
       "    }, 10, root)\n",
       "  }\n",
       "})(window);"
      ],
      "application/vnd.bokehjs_exec.v0+json": ""
     },
     "metadata": {
      "application/vnd.bokehjs_exec.v0+json": {
       "id": "1343"
      }
     },
     "output_type": "display_data"
    },
    {
     "data": {
      "text/html": [
       "\n",
       "\n",
       "\n",
       "\n",
       "\n",
       "\n",
       "  <div class=\"bk-root\" id=\"5a668c42-d9d2-40d4-995b-14445c795f5c\" data-root-id=\"1458\"></div>\n"
      ]
     },
     "metadata": {},
     "output_type": "display_data"
    },
    {
     "data": {
      "application/javascript": [
       "(function(root) {\n",
       "  function embed_document(root) {\n",
       "    \n",
       "  var docs_json = {\"14edc5c1-22d2-45aa-ad01-00040d76db32\":{\"roots\":{\"references\":[{\"attributes\":{\"below\":[{\"id\":\"1469\"}],\"center\":[{\"id\":\"1472\"},{\"id\":\"1475\"}],\"left\":[{\"id\":\"1473\"}],\"plot_height\":300,\"renderers\":[{\"id\":\"1495\"}],\"title\":{\"id\":\"1459\"},\"toolbar\":{\"id\":\"1484\"},\"toolbar_location\":null,\"x_range\":{\"id\":\"1461\"},\"x_scale\":{\"id\":\"1465\"},\"y_range\":{\"id\":\"1463\"},\"y_scale\":{\"id\":\"1467\"}},\"id\":\"1458\",\"subtype\":\"Figure\",\"type\":\"Plot\"},{\"attributes\":{},\"id\":\"1467\",\"type\":\"CategoricalScale\"},{\"attributes\":{\"data\":{\"feature\":[\"f0\",\"f1\",\"f2\",\"f3\",\"f4\",\"f5\",\"f6\",\"f7\",\"f8\",\"f9\",\"f10\",\"f11\"],\"importance\":[6.556477446819338,7.178383973495974,8.224735434848526,10.551660188015575,7.404957571717021,8.21595663213643,7.50405966837354,6.719207265105758,10.687024315512978,10.634621315459299,8.201672304069772,8.121243884445779]},\"selected\":{\"id\":\"1538\"},\"selection_policy\":{\"id\":\"1539\"}},\"id\":\"1457\",\"type\":\"ColumnDataSource\"},{\"attributes\":{\"axis\":{\"id\":\"1469\"},\"grid_line_color\":null,\"ticker\":null},\"id\":\"1472\",\"type\":\"Grid\"},{\"attributes\":{\"factors\":[\"f0\",\"f1\",\"f2\",\"f3\",\"f4\",\"f5\",\"f6\",\"f7\",\"f8\",\"f9\",\"f10\",\"f11\"]},\"id\":\"1463\",\"type\":\"FactorRange\"},{\"attributes\":{},\"id\":\"1476\",\"type\":\"PanTool\"},{\"attributes\":{},\"id\":\"1481\",\"type\":\"HelpTool\"},{\"attributes\":{},\"id\":\"1465\",\"type\":\"LinearScale\"},{\"attributes\":{\"axis_label\":\"Feature\",\"formatter\":{\"id\":\"1535\"},\"ticker\":{\"id\":\"1474\"}},\"id\":\"1473\",\"type\":\"CategoricalAxis\"},{\"attributes\":{},\"id\":\"1538\",\"type\":\"Selection\"},{\"attributes\":{\"fill_alpha\":{\"value\":0.1},\"fill_color\":{\"value\":\"#1f77b4\"},\"height\":{\"value\":0.5},\"line_alpha\":{\"value\":0.1},\"line_color\":{\"value\":\"#1f77b4\"},\"right\":{\"field\":\"importance\"},\"y\":{\"field\":\"feature\"}},\"id\":\"1494\",\"type\":\"HBar\"},{\"attributes\":{\"active_drag\":\"auto\",\"active_inspect\":\"auto\",\"active_multi\":null,\"active_scroll\":\"auto\",\"active_tap\":\"auto\",\"tools\":[{\"id\":\"1476\"},{\"id\":\"1477\"},{\"id\":\"1478\"},{\"id\":\"1479\"},{\"id\":\"1480\"},{\"id\":\"1481\"},{\"id\":\"1483\"}]},\"id\":\"1484\",\"type\":\"Toolbar\"},{\"attributes\":{\"callback\":null,\"tooltips\":[[\"feature\",\"@feature\"],[\"importance\",\"@importance\"]]},\"id\":\"1483\",\"type\":\"HoverTool\"},{\"attributes\":{\"axis\":{\"id\":\"1473\"},\"dimension\":1,\"ticker\":null},\"id\":\"1475\",\"type\":\"Grid\"},{\"attributes\":{},\"id\":\"1480\",\"type\":\"ResetTool\"},{\"attributes\":{\"axis_label\":\"Importance\",\"formatter\":{\"id\":\"1533\"},\"ticker\":{\"id\":\"1470\"}},\"id\":\"1469\",\"type\":\"LinearAxis\"},{\"attributes\":{\"bottom_units\":\"screen\",\"fill_alpha\":0.5,\"fill_color\":\"lightgrey\",\"left_units\":\"screen\",\"level\":\"overlay\",\"line_alpha\":1.0,\"line_color\":\"black\",\"line_dash\":[4,4],\"line_width\":2,\"right_units\":\"screen\",\"top_units\":\"screen\"},\"id\":\"1482\",\"type\":\"BoxAnnotation\"},{\"attributes\":{\"source\":{\"id\":\"1457\"}},\"id\":\"1496\",\"type\":\"CDSView\"},{\"attributes\":{\"end\":11.76,\"start\":0},\"id\":\"1461\",\"type\":\"DataRange1d\"},{\"attributes\":{\"overlay\":{\"id\":\"1482\"}},\"id\":\"1478\",\"type\":\"BoxZoomTool\"},{\"attributes\":{\"fill_color\":{\"value\":\"#1f77b4\"},\"height\":{\"value\":0.5},\"line_color\":{\"value\":\"#1f77b4\"},\"right\":{\"field\":\"importance\"},\"y\":{\"field\":\"feature\"}},\"id\":\"1493\",\"type\":\"HBar\"},{\"attributes\":{},\"id\":\"1474\",\"type\":\"CategoricalTicker\"},{\"attributes\":{\"text\":\"Feature cover\"},\"id\":\"1459\",\"type\":\"Title\"},{\"attributes\":{},\"id\":\"1479\",\"type\":\"SaveTool\"},{\"attributes\":{},\"id\":\"1539\",\"type\":\"UnionRenderers\"},{\"attributes\":{},\"id\":\"1470\",\"type\":\"BasicTicker\"},{\"attributes\":{},\"id\":\"1535\",\"type\":\"CategoricalTickFormatter\"},{\"attributes\":{\"data_source\":{\"id\":\"1457\"},\"glyph\":{\"id\":\"1493\"},\"hover_glyph\":null,\"muted_glyph\":null,\"nonselection_glyph\":{\"id\":\"1494\"},\"selection_glyph\":null,\"view\":{\"id\":\"1496\"}},\"id\":\"1495\",\"type\":\"GlyphRenderer\"},{\"attributes\":{},\"id\":\"1533\",\"type\":\"BasicTickFormatter\"},{\"attributes\":{},\"id\":\"1477\",\"type\":\"WheelZoomTool\"}],\"root_ids\":[\"1458\"]},\"title\":\"Bokeh Application\",\"version\":\"2.2.3\"}};\n",
       "  var render_items = [{\"docid\":\"14edc5c1-22d2-45aa-ad01-00040d76db32\",\"root_ids\":[\"1458\"],\"roots\":{\"1458\":\"5a668c42-d9d2-40d4-995b-14445c795f5c\"}}];\n",
       "  root.Bokeh.embed.embed_items_notebook(docs_json, render_items);\n",
       "\n",
       "  }\n",
       "  if (root.Bokeh !== undefined) {\n",
       "    embed_document(root);\n",
       "  } else {\n",
       "    var attempts = 0;\n",
       "    var timer = setInterval(function(root) {\n",
       "      if (root.Bokeh !== undefined) {\n",
       "        clearInterval(timer);\n",
       "        embed_document(root);\n",
       "      } else {\n",
       "        attempts++;\n",
       "        if (attempts > 100) {\n",
       "          clearInterval(timer);\n",
       "          console.log(\"Bokeh: ERROR: Unable to run BokehJS code because BokehJS library is missing\");\n",
       "        }\n",
       "      }\n",
       "    }, 10, root)\n",
       "  }\n",
       "})(window);"
      ],
      "application/vnd.bokehjs_exec.v0+json": ""
     },
     "metadata": {
      "application/vnd.bokehjs_exec.v0+json": {
       "id": "1458"
      }
     },
     "output_type": "display_data"
    }
   ],
   "source": [
    "from bokeh.layouts import gridplot\n",
    "\n",
    "SUPPORTED_IMPORTANCE_TYPES = [\"weight\", \"gain\", \"cover\"]\n",
    "plots = []\n",
    "feature_names = trial.tensor_names(regex=f\"feature_importance/.*\")\n",
    "if len(feature_names) == 0:\n",
    "    heading = Markdown('### No feature importance was saved.\\n\\\n",
    "    - Check dataset sanity\\n\\\n",
    "    - Or if booster was not in [gbtree, dart]\\n\\\n",
    "    - Or if booster was None\\n\\\n",
    "    ')\n",
    "    display(heading)\n",
    "else:\n",
    "    for importance_type in SUPPORTED_IMPORTANCE_TYPES:\n",
    "        plot_feature_importance(importance_type=importance_type)\n",
    "\n"
   ]
  },
  {
   "cell_type": "code",
   "execution_count": 13,
   "metadata": {
    "execution": {
     "iopub.execute_input": "2025-01-18T23:44:53.483303Z",
     "iopub.status.busy": "2025-01-18T23:44:53.481938Z",
     "iopub.status.idle": "2025-01-18T23:44:53.494786Z",
     "shell.execute_reply": "2025-01-18T23:44:53.495535Z"
    },
    "papermill": {
     "duration": 0.063876,
     "end_time": "2025-01-18T23:44:53.495737",
     "exception": false,
     "start_time": "2025-01-18T23:44:53.431861",
     "status": "completed"
    },
    "tags": [
     "hide-input"
    ]
   },
   "outputs": [
    {
     "data": {
      "text/markdown": [
       "## Confusion Matrix <a name=\"section4\"></a>\n",
       "The following Confusion Matrix shows a breakdown of the classification results.\n",
       "* The cells on the principal diagonal shows the True Positive counts.\n",
       "* The off-diagonal cells count the number of misclassified predictions.\n"
      ],
      "text/plain": [
       "<IPython.core.display.Markdown object>"
      ]
     },
     "metadata": {},
     "output_type": "display_data"
    }
   ],
   "source": [
    "from IPython.display import display, Markdown\n",
    "\n",
    "s='## Confusion Matrix <a name=\"section4\"></a>\\n\\\n",
    "The following Confusion Matrix shows a breakdown of the classification results.\\n\\\n",
    "* The cells on the principal diagonal shows the True Positive counts.\\n\\\n",
    "* The off-diagonal cells count the number of misclassified predictions.\\n\\\n",
    "'\n",
    "\n",
    "if objective_metric in [\"binary:logistic\", \"multi:softmax\"]:\n",
    "    display(Markdown(s))"
   ]
  },
  {
   "cell_type": "code",
   "execution_count": 14,
   "metadata": {
    "execution": {
     "iopub.execute_input": "2025-01-18T23:44:53.586117Z",
     "iopub.status.busy": "2025-01-18T23:44:53.585038Z",
     "iopub.status.idle": "2025-01-18T23:44:54.350424Z",
     "shell.execute_reply": "2025-01-18T23:44:54.350909Z"
    },
    "papermill": {
     "duration": 0.816913,
     "end_time": "2025-01-18T23:44:54.351096",
     "exception": false,
     "start_time": "2025-01-18T23:44:53.534183",
     "status": "completed"
    },
    "tags": [
     "hide-input"
    ]
   },
   "outputs": [],
   "source": [
    "import numpy as np\n",
    "import matplotlib.pyplot as plt\n",
    "import seaborn as sns\n",
    "\n",
    "# Credits: https://github.com/DTrimarchi10/confusion_matrix\n",
    "def make_confusion_matrix(cf,\n",
    "                          group_names=None,\n",
    "                          categories='auto',\n",
    "                          count=True,\n",
    "                          percent=True,\n",
    "                          cbar=True,\n",
    "                          xyticks=True,\n",
    "                          xyplotlabels=True,\n",
    "                          sum_stats=True,\n",
    "                          figsize=None,\n",
    "                          cmap='Blues',\n",
    "                          title=None):\n",
    "    '''\n",
    "    This function will make a pretty plot of an sklearn Confusion Matrix cm using a Seaborn heatmap visualization.\n",
    "    Arguments\n",
    "    ---------\n",
    "    cf:            confusion matrix to be passed in\n",
    "    group_names:   List of strings that represent the labels row by row to be shown in each square.\n",
    "    categories:    List of strings containing the categories to be displayed on the x,y axis. Default is 'auto'\n",
    "    count:         If True, show the raw number in the confusion matrix. Default is True.\n",
    "    normalize:     If True, show the proportions for each category. Default is True.\n",
    "    cbar:          If True, show the color bar. The cbar values are based off the values in the confusion matrix.\n",
    "                   Default is True.\n",
    "    xyticks:       If True, show x and y ticks. Default is True.\n",
    "    xyplotlabels:  If True, show 'True Label' and 'Predicted Label' on the figure. Default is True.\n",
    "    sum_stats:     If True, display summary statistics below the figure. Default is True.\n",
    "    figsize:       Tuple representing the figure size. Default will be the matplotlib rcParams value.\n",
    "    cmap:          Colormap of the values displayed from matplotlib.pyplot.cm. Default is 'Blues'\n",
    "                   See http://matplotlib.org/examples/color/colormaps_reference.html\n",
    "                   \n",
    "    title:         Title for the heatmap. Default is None.\n",
    "    '''\n",
    "\n",
    "\n",
    "    # CODE TO GENERATE TEXT INSIDE EACH SQUARE\n",
    "    blanks = ['' for i in range(cf.size)]\n",
    "\n",
    "    if group_names and len(group_names)==cf.size:\n",
    "        group_labels = [\"{}\\n\".format(value) for value in group_names]\n",
    "    else:\n",
    "        group_labels = blanks\n",
    "\n",
    "    if count:\n",
    "        group_counts = [\"{0:0.0f}\\n\".format(value) for value in cf.flatten()]\n",
    "    else:\n",
    "        group_counts = blanks\n",
    "\n",
    "    if percent:\n",
    "        group_percentages = [\"{0:.2%}\".format(value) for value in cf.flatten()/np.sum(cf)]\n",
    "    else:\n",
    "        group_percentages = blanks\n",
    "\n",
    "    box_labels = [f\"{v1}{v2}{v3}\".strip() for v1, v2, v3 in zip(group_labels,group_counts,group_percentages)]\n",
    "    box_labels = np.asarray(box_labels).reshape(cf.shape[0],cf.shape[1])\n",
    "\n",
    "\n",
    "    # CODE TO GENERATE SUMMARY STATISTICS & TEXT FOR SUMMARY STATS\n",
    "    if sum_stats:\n",
    "        #Accuracy is sum of diagonal divided by total observations\n",
    "        accuracy  = np.trace(cf) / float(np.sum(cf))\n",
    "\n",
    "        #if it is a binary confusion matrix, show some more stats\n",
    "        if len(cf)==2:\n",
    "            #Metrics for Binary Confusion Matrices\n",
    "            precision = cf[1,1] / sum(cf[:,1])\n",
    "            recall    = cf[1,1] / sum(cf[1,:])\n",
    "            f1_score  = 2*precision*recall / (precision + recall)\n",
    "            stats_text = \"\\n\\nAccuracy={:0.3f}\\nPrecision={:0.3f}\\nRecall={:0.3f}\\nF1 Score={:0.3f}\".format(\n",
    "                accuracy,precision,recall,f1_score)\n",
    "        else:\n",
    "            stats_text = \"\\n\\nAccuracy={:0.3f}\".format(accuracy)\n",
    "    else:\n",
    "        stats_text = \"\"\n",
    "\n",
    "\n",
    "    # SET FIGURE PARAMETERS ACCORDING TO OTHER ARGUMENTS\n",
    "    if figsize==None:\n",
    "        #Get default figure size if not set\n",
    "        figsize = plt.rcParams.get('figure.figsize')\n",
    "\n",
    "    if xyticks==False:\n",
    "        #Do not show categories if xyticks is False\n",
    "        categories=False\n",
    "\n",
    "\n",
    "    # MAKE THE HEATMAP VISUALIZATION\n",
    "    plt.figure(figsize=figsize)\n",
    "    sns.heatmap(cf,annot=box_labels,fmt=\"\",cmap=cmap,cbar=cbar,xticklabels=categories,yticklabels=categories)\n",
    "\n",
    "    if xyplotlabels:\n",
    "        plt.ylabel('True label')\n",
    "        plt.xlabel('Predicted label' + stats_text)\n",
    "    else:\n",
    "        plt.xlabel(stats_text)\n",
    "    \n",
    "    if title:\n",
    "        plt.title(title)\n",
    "        \n"
   ]
  },
  {
   "cell_type": "code",
   "execution_count": 15,
   "metadata": {
    "execution": {
     "iopub.execute_input": "2025-01-18T23:44:54.429352Z",
     "iopub.status.busy": "2025-01-18T23:44:54.420967Z",
     "iopub.status.idle": "2025-01-18T23:44:54.904393Z",
     "shell.execute_reply": "2025-01-18T23:44:54.905040Z"
    },
    "papermill": {
     "duration": 0.525879,
     "end_time": "2025-01-18T23:44:54.905206",
     "exception": false,
     "start_time": "2025-01-18T23:44:54.379327",
     "status": "completed"
    },
    "tags": [
     "hide-input"
    ]
   },
   "outputs": [
    {
     "data": {
      "image/png": "[encoded data removed]",
      "text/plain": [
       "<Figure size 864x864 with 2 Axes>"
      ]
     },
     "metadata": {
      "needs_background": "light"
     },
     "output_type": "display_data"
    }
   ],
   "source": [
    "import numpy as np\n",
    "import matplotlib.pyplot as plt\n",
    "import math\n",
    "import seaborn as sns\n",
    "from sklearn.metrics import confusion_matrix, classification_report\n",
    "from IPython.display import display, clear_output, HTML\n",
    "from bokeh.models.mappers import LinearColorMapper\n",
    "\n",
    "\n",
    "def plot_confusion_for_one_step(trial, step, title, ax=None, normalize=False):\n",
    "    predictions = trial.tensor(\"predictions\").value(step).round()\n",
    "    labels = trial.tensor(\"labels\").value(step).round()\n",
    "    cm = confusion_matrix(\n",
    "        labels,\n",
    "        predictions,\n",
    "    )\n",
    "    num_classes = len(np.unique(labels))\n",
    "    fig_height = num_classes+10\n",
    "    make_confusion_matrix(cm, figsize=(fig_height,fig_height))\n",
    "\n",
    "\n",
    "obj_names_for_error_plots = [\"binary:logistic\", \"multi:softmax\"]\n",
    "\n",
    "\n",
    "if 'labels' in tensor_names and 'predictions' in tensor_names:\n",
    "    if objective_metric in obj_names_for_error_plots:\n",
    "        step = trial.steps()[-1]\n",
    "        plot_confusion_for_one_step(trial, step=step, title=\"Confusion Matrix\")\n",
    "else:\n",
    "    error_message = \"\\n\\\n",
    "    Labels and Predictions are missing in the debugger data output.\\n\\\n",
    "    Please check if labels and predictions are included in your Debugger Hook Config.\\n\\\n",
    "    \"\n",
    "    display(Markdown(error_message))\n"
   ]
  },
  {
   "cell_type": "code",
   "execution_count": 16,
   "metadata": {
    "execution": {
     "iopub.execute_input": "2025-01-18T23:44:54.967830Z",
     "iopub.status.busy": "2025-01-18T23:44:54.967041Z",
     "iopub.status.idle": "2025-01-18T23:44:54.970573Z",
     "shell.execute_reply": "2025-01-18T23:44:54.971163Z"
    },
    "papermill": {
     "duration": 0.037913,
     "end_time": "2025-01-18T23:44:54.971326",
     "exception": false,
     "start_time": "2025-01-18T23:44:54.933413",
     "status": "completed"
    },
    "tags": [
     "hide-input"
    ]
   },
   "outputs": [
    {
     "data": {
      "text/markdown": [
       "## Evaluation of the Confusion Matrix<a name=\"section4-1\"></a>\n",
       "The following statistics summary of the confusion matrix is provided using \n",
       "the [Scikit-learn Metrics and Scoring APIs](https://scikit-learn.org/stable/modules/model_evaluation.html).\n",
       "You can use the following score metrics to evaluate the performance of your model: \n",
       "accuracy, precision, recall, and F1-score.\n",
       "\n",
       "For more information, see the following Scikit-learn documentation:\n",
       "- [Accuracy Score](https://scikit-learn.org/stable/modules/generated/sklearn.metrics.accuracy_score.html)\n",
       "- [Precision Score](https://scikit-learn.org/stable/modules/generated/sklearn.metrics.precision_score.html#sklearn.metrics.precision_score)\n",
       "- [Recall Score](https://scikit-learn.org/stable/modules/generated/sklearn.metrics.recall_score.html#sklearn.metrics.recall_score)\n",
       "- [F1-Score](https://scikit-learn.org/stable/modules/generated/sklearn.metrics.f1_score.html#sklearn.metrics.f1_score)\n"
      ],
      "text/plain": [
       "<IPython.core.display.Markdown object>"
      ]
     },
     "metadata": {},
     "output_type": "display_data"
    }
   ],
   "source": [
    "from IPython.display import display, Markdown\n",
    "\n",
    "s='## Evaluation of the Confusion Matrix<a name=\"section4-1\"></a>\\n\\\n",
    "The following statistics summary of the confusion matrix is provided using \\n\\\n",
    "the [Scikit-learn Metrics and Scoring APIs](https://scikit-learn.org/stable/modules/model_evaluation.html).\\n\\\n",
    "You can use the following score metrics to evaluate the performance of your model: \\n\\\n",
    "accuracy, precision, recall, and F1-score.\\n\\\n",
    "\\n\\\n",
    "For more information, see the following Scikit-learn documentation:\\n\\\n",
    "- [Accuracy Score](https://scikit-learn.org/stable/modules/generated/sklearn.metrics.accuracy_score.html)\\n\\\n",
    "- [Precision Score](https://scikit-learn.org/stable/modules/generated/sklearn.metrics.precision_score.html#sklearn.metrics.precision_score)\\n\\\n",
    "- [Recall Score](https://scikit-learn.org/stable/modules/generated/sklearn.metrics.recall_score.html#sklearn.metrics.recall_score)\\n\\\n",
    "- [F1-Score](https://scikit-learn.org/stable/modules/generated/sklearn.metrics.f1_score.html#sklearn.metrics.f1_score)\\n\\\n",
    "'\n",
    "\n",
    "if objective_metric in [\"binary:logistic\", \"multi:softmax\"]:\n",
    "    display(Markdown(s))"
   ]
  },
  {
   "cell_type": "code",
   "execution_count": 17,
   "metadata": {
    "execution": {
     "iopub.execute_input": "2025-01-18T23:44:55.051173Z",
     "iopub.status.busy": "2025-01-18T23:44:55.041524Z",
     "iopub.status.idle": "2025-01-18T23:44:55.133728Z",
     "shell.execute_reply": "2025-01-18T23:44:55.134165Z"
    },
    "papermill": {
     "duration": 0.134102,
     "end_time": "2025-01-18T23:44:55.134327",
     "exception": false,
     "start_time": "2025-01-18T23:44:55.000225",
     "status": "completed"
    },
    "tags": [
     "hide-input"
    ]
   },
   "outputs": [
    {
     "data": {
      "text/markdown": [
       "**Overall Accuracy**\n",
       "        \n",
       "        Overall Accuracy: 0.863"
      ],
      "text/plain": [
       "<IPython.core.display.Markdown object>"
      ]
     },
     "metadata": {},
     "output_type": "display_data"
    },
    {
     "data": {
      "text/markdown": [
       "**Micro Performance Metrics**\n",
       "        \n",
       "        Performance metrics calculated globally by counting the total true positives, false negatives, and false positives.\n",
       "        \n",
       "        Micro Precision: 0.863\n",
       "        Micro Recall: 0.863\n",
       "        Micro F1-score: 0.863\n",
       "        "
      ],
      "text/plain": [
       "<IPython.core.display.Markdown object>"
      ]
     },
     "metadata": {},
     "output_type": "display_data"
    },
    {
     "data": {
      "text/markdown": [
       "**Macro Performance Metrics**\n",
       "        \n",
       "        Performance metrics calculated for each label, and find their unweighted mean. \n",
       "        This does not take the class imbalance problem into account.\n",
       "        \n",
       "        Macro Precision: 0.826\n",
       "        Macro Recall: 0.795\n",
       "        Macro F1-score: 0.808\n",
       "        "
      ],
      "text/plain": [
       "<IPython.core.display.Markdown object>"
      ]
     },
     "metadata": {},
     "output_type": "display_data"
    },
    {
     "data": {
      "text/markdown": [
       "**Weighted Performance Metrics**\n",
       "        \n",
       "        Performance metrics calculated for each label and their average weighted by support \n",
       "        (the number of true instances for each label). \n",
       "        This extends the macro option to take the class imbalance into account. \n",
       "        It might result in an F-score that is not between precision and recall. \n",
       "        \n",
       "        Weighted Precision: 0.859\n",
       "        Weighted Recall: 0.863\n",
       "        Weighted F1-score: 0.86\n",
       "        "
      ],
      "text/plain": [
       "<IPython.core.display.Markdown object>"
      ]
     },
     "metadata": {},
     "output_type": "display_data"
    },
    {
     "data": {
      "text/markdown": [
       "**Classification Report**\n",
       "            \n",
       "            The summary of the precision, recall, and F1-score for each class."
      ],
      "text/plain": [
       "<IPython.core.display.Markdown object>"
      ]
     },
     "metadata": {},
     "output_type": "display_data"
    },
    {
     "name": "stdout",
     "output_type": "stream",
     "text": [
      "              precision    recall  f1-score   support\n",
      "\n",
      "         0.0       0.89      0.93      0.91      4889\n",
      "         1.0       0.76      0.66      0.71      1623\n",
      "\n",
      "    accuracy                           0.86      6512\n",
      "   macro avg       0.83      0.79      0.81      6512\n",
      "weighted avg       0.86      0.86      0.86      6512\n",
      "\n"
     ]
    }
   ],
   "source": [
    "#importing accuracy_score, precision_score, recall_score, f1_score\n",
    "from sklearn.metrics import accuracy_score, precision_score, recall_score, f1_score\n",
    "\n",
    "obj_names_for_error_plots = [\"binary:logistic\", \"multi:softmax\"]\n",
    "\n",
    "if objective_metric in obj_names_for_error_plots:\n",
    "\n",
    "    y_test=trial.tensor(\"labels\").value(plot_step).round()\n",
    "    y_pred=trial.tensor(\"predictions\").value(plot_step).round()\n",
    "    display(Markdown(\n",
    "        '**Overall Accuracy**\\n\\\n",
    "        \\n\\\n",
    "        Overall Accuracy: '\n",
    "        +str(round(accuracy_score(y_test, y_pred),3))\n",
    "    ))\n",
    "    \n",
    "    display(Markdown(\n",
    "        '**Micro Performance Metrics**\\n\\\n",
    "        \\n\\\n",
    "        Performance metrics calculated globally by counting the total true positives, false negatives, and false positives.\\n\\\n",
    "        \\n\\\n",
    "        Micro Precision: '+str(round(precision_score(y_test, y_pred, average='micro'),3))+'\\n\\\n",
    "        Micro Recall: '+str(round(recall_score(y_test, y_pred, average='micro'),3))+'\\n\\\n",
    "        Micro F1-score: '+str(round(f1_score(y_test, y_pred, average='micro'),3))+'\\n\\\n",
    "        '\n",
    "    ))\n",
    "    \n",
    "    display(Markdown(\n",
    "        '**Macro Performance Metrics**\\n\\\n",
    "        \\n\\\n",
    "        Performance metrics calculated for each label, and find their unweighted mean. \\n\\\n",
    "        This does not take the class imbalance problem into account.\\n\\\n",
    "        \\n\\\n",
    "        Macro Precision: '+str(round(precision_score(y_test, y_pred, average='macro'),3))+'\\n\\\n",
    "        Macro Recall: '+str(round(recall_score(y_test, y_pred, average='macro'),3))+'\\n\\\n",
    "        Macro F1-score: '+str(round(f1_score(y_test, y_pred, average='macro'),3))+'\\n\\\n",
    "        '\n",
    "    ))\n",
    "    \n",
    "    display(Markdown(\n",
    "        '**Weighted Performance Metrics**\\n\\\n",
    "        \\n\\\n",
    "        Performance metrics calculated for each label and their average weighted by support \\n\\\n",
    "        (the number of true instances for each label). \\n\\\n",
    "        This extends the macro option to take the class imbalance into account. \\n\\\n",
    "        It might result in an F-score that is not between precision and recall. \\n\\\n",
    "        \\n\\\n",
    "        Weighted Precision: '+str(round(precision_score(y_test, y_pred, average='weighted'),3))+'\\n\\\n",
    "        Weighted Recall: '+str(round(recall_score(y_test, y_pred, average='weighted'),3))+'\\n\\\n",
    "        Weighted F1-score: '+str(round(f1_score(y_test, y_pred, average='weighted'),3))+'\\n\\\n",
    "        '\n",
    "    ))\n",
    "    \n",
    "    \n",
    "    from sklearn.metrics import classification_report\n",
    "    if 'labels' in tensor_names and 'predictions' in tensor_names:\n",
    "        display(Markdown(\n",
    "            '**Classification Report**\\n\\\n",
    "            \\n\\\n",
    "            The summary of the precision, recall, and F1-score for each class.'\n",
    "        ))\n",
    "        print(classification_report(y_test, y_pred))\n",
    "    else:\n",
    "        error_message = \"\\n\\\n",
    "        Labels and Predictions are missing in the debugger data output.\\n\\\n",
    "        Please check if labels and predictions are included in your Debugger Hook Config.\\n\\\n",
    "        \"\n",
    "        display(Markdown(error_message))"
   ]
  },
  {
   "cell_type": "code",
   "execution_count": 18,
   "metadata": {
    "execution": {
     "iopub.execute_input": "2025-01-18T23:44:55.203775Z",
     "iopub.status.busy": "2025-01-18T23:44:55.202656Z",
     "iopub.status.idle": "2025-01-18T23:44:55.206343Z",
     "shell.execute_reply": "2025-01-18T23:44:55.206770Z"
    },
    "papermill": {
     "duration": 0.04091,
     "end_time": "2025-01-18T23:44:55.207009",
     "exception": false,
     "start_time": "2025-01-18T23:44:55.166099",
     "status": "completed"
    },
    "tags": [
     "hide-input"
    ]
   },
   "outputs": [
    {
     "data": {
      "text/markdown": [
       "## Accuracy Rate of Each Diagonal Element over Iteration <a name=\"section4-2\"></a>\n",
       "The following graph shows the progression in accuracy rate of each class over iterations.\n",
       "- Each line is calculated by dividing the count of each diagonal element over the total population at validation steps captured by Debugger.\n",
       "- This plot provides visibility into the progression in the class-level accuracy, and you can evaluate which class is not well classified.\n",
       "If a certain class is under-performing, this might be, for example, due to the imbalanced class problem.\n",
       "It is recommended to see the first section, [The Distribution of True Labels of the Dataset](#section1),\n",
       "for more information about your data and suggested actions.\n"
      ],
      "text/plain": [
       "<IPython.core.display.Markdown object>"
      ]
     },
     "metadata": {},
     "output_type": "display_data"
    }
   ],
   "source": [
    "from IPython.display import display, Markdown\n",
    "\n",
    "s='## Accuracy Rate of Each Diagonal Element over Iteration <a name=\"section4-2\"></a>\\n\\\n",
    "\\\n",
    "The following graph shows the progression in accuracy rate of each class over iterations.\\n\\\n",
    "\\\n",
    "- Each line is calculated by dividing the count of each diagonal element over the total population at validation steps captured by Debugger.\\n\\\n",
    "- This plot provides visibility into the progression in the class-level accuracy, and you can evaluate which class is not well classified.\\n\\\n",
    "If a certain class is under-performing, this might be, for example, due to the imbalanced class problem.\\n\\\n",
    "It is recommended to see the first section, [The Distribution of True Labels of the Dataset](#section1),\\n\\\n",
    "for more information about your data and suggested actions.\\n\\\n",
    "'\n",
    "\n",
    "if objective_metric in [\"binary:logistic\", \"multi:softmax\"]:\n",
    "    display(Markdown(s))"
   ]
  },
  {
   "cell_type": "code",
   "execution_count": 19,
   "metadata": {
    "execution": {
     "iopub.execute_input": "2025-01-18T23:44:55.293326Z",
     "iopub.status.busy": "2025-01-18T23:44:55.292029Z",
     "iopub.status.idle": "2025-01-18T23:44:56.864721Z",
     "shell.execute_reply": "2025-01-18T23:44:56.865151Z"
    },
    "papermill": {
     "duration": 1.628214,
     "end_time": "2025-01-18T23:44:56.865311",
     "exception": false,
     "start_time": "2025-01-18T23:44:55.237097",
     "status": "completed"
    },
    "tags": [
     "hide-input"
    ]
   },
   "outputs": [
    {
     "data": {
      "text/html": [
       "\n",
       "\n",
       "\n",
       "\n",
       "\n",
       "\n",
       "  <div class=\"bk-root\" id=\"87e0d739-859c-451a-a14d-f6cd78d24f00\" data-root-id=\"1580\"></div>\n"
      ]
     },
     "metadata": {},
     "output_type": "display_data"
    },
    {
     "data": {
      "application/javascript": [
       "(function(root) {\n",
       "  function embed_document(root) {\n",
       "    \n",
       "  var docs_json = {\"d5d3ede8-8781-471a-abec-660d2339ac39\":{\"roots\":{\"references\":[{\"attributes\":{\"below\":[{\"id\":\"1591\"}],\"center\":[{\"id\":\"1594\"},{\"id\":\"1598\"},{\"id\":\"1632\"}],\"left\":[{\"id\":\"1595\"}],\"plot_height\":500,\"plot_width\":1000,\"renderers\":[{\"id\":\"1620\"},{\"id\":\"1638\"},{\"id\":\"1657\"}],\"title\":{\"id\":\"1581\"},\"toolbar\":{\"id\":\"1609\"},\"toolbar_location\":\"left\",\"x_range\":{\"id\":\"1583\"},\"x_scale\":{\"id\":\"1587\"},\"y_range\":{\"id\":\"1585\"},\"y_scale\":{\"id\":\"1589\"}},\"id\":\"1580\",\"subtype\":\"Figure\",\"type\":\"Plot\"},{\"attributes\":{\"axis\":{\"id\":\"1595\"},\"dimension\":1,\"ticker\":null},\"id\":\"1598\",\"type\":\"Grid\"},{\"attributes\":{\"click_policy\":\"hide\",\"items\":[{\"id\":\"1633\"},{\"id\":\"1652\"},{\"id\":\"1673\"}],\"location\":\"center_right\"},\"id\":\"1632\",\"type\":\"Legend\"},{\"attributes\":{},\"id\":\"1651\",\"type\":\"UnionRenderers\"},{\"attributes\":{},\"id\":\"1625\",\"type\":\"BasicTickFormatter\"},{\"attributes\":{},\"id\":\"1631\",\"type\":\"UnionRenderers\"},{\"attributes\":{\"data_source\":{\"id\":\"1617\"},\"glyph\":{\"id\":\"1618\"},\"hover_glyph\":null,\"muted_glyph\":null,\"nonselection_glyph\":{\"id\":\"1619\"},\"selection_glyph\":null,\"view\":{\"id\":\"1621\"}},\"id\":\"1620\",\"type\":\"GlyphRenderer\"},{\"attributes\":{\"data\":{\"stat\":[0.9539783186745756,0.9515238290038863,0.9543874002863572,0.9482511761096338,0.9451830640212723,0.9423194927388014,0.9417058703211291,0.9410922479034567,0.9404786254857844,0.9400695438740029,0.9394559214563305,0.9384332174268767,0.9370014317856412,0.9384332174268767,0.9384332174268767,0.9374105133974228,0.9378195950092043,0.9367968909797505,0.9370014317856412,0.9361832685620781,0.9370014317856412,0.9374105133974228,0.9370014317856412,0.9367968909797505,0.9367968909797505,0.9365923501738597,0.9359787277561874,0.937205972591532,0.9374105133974228,0.9374105133974228,0.9378195950092043,0.9374105133974228,0.9378195950092043,0.9370014317856412,0.9374105133974228,0.9365923501738597,0.9355696461444059,0.9349560237267335,0.9355696461444059,0.9370014317856412,0.9361832685620781,0.9351605645326243,0.9351605645326243,0.9351605645326243,0.9351605645326243,0.9345469421149519,0.9351605645326243,0.9345469421149519,0.9349560237267335,0.9351605645326243,0.9357741869502966,0.935365105338515,0.9351605645326243,0.936387809367969,0.9339333196972797,0.9347514829208428,0.9345469421149519,0.9341378605031704,0.9339333196972797,0.9345469421149519,0.9347514829208428,0.9347514829208428,0.9349560237267335,0.9343424013090612,0.9347514829208428,0.9345469421149519,0.9349560237267335,0.9343424013090612,0.9349560237267335,0.935365105338515,0.9349560237267335,0.935365105338515,0.9341378605031704,0.9355696461444059,0.9351605645326243,0.9347514829208428,0.9341378605031704,0.9341378605031704,0.9343424013090612,0.9343424013090612,0.9351605645326243,0.9347514829208428,0.9339333196972797,0.933524238085498,0.933524238085498,0.933524238085498,0.9333196972796073,0.9333196972796073,0.9337287788913888,0.9341378605031704,0.9331151564737165,0.9337287788913888,0.9333196972796073,0.9341378605031704,0.9343424013090612,0.9339333196972797,0.9339333196972797,0.9329106156678257,0.9327060748619349,0.9331151564737165,0.9327060748619349,0.9327060748619349,0.9314788300265903,0.9312742892206995,0.9312742892206995,0.9312742892206995,0.9318879116383718,0.9318879116383718,0.9312742892206995,0.9312742892206995,0.9325015340560442,0.9325015340560442,0.9327060748619349,0.9318879116383718,0.9314788300265903,0.9329106156678257,0.9333196972796073,0.933524238085498,0.9333196972796073,0.9341378605031704,0.9337287788913888,0.933524238085498,0.9333196972796073,0.9331151564737165,0.9325015340560442,0.9316833708324811,0.9314788300265903,0.9312742892206995,0.9314788300265903,0.9316833708324811,0.9339333196972797,0.9316833708324811,0.9318879116383718,0.9333196972796073,0.9333196972796073,0.9331151564737165,0.9339333196972797,0.9329106156678257,0.9327060748619349,0.9325015340560442,0.9329106156678257,0.9327060748619349,0.9322969932501534,0.9329106156678257,0.9327060748619349,0.9333196972796073,0.9333196972796073,0.9329106156678257,0.9325015340560442,0.9329106156678257,0.9329106156678257,0.9337287788913888,0.9325015340560442,0.9329106156678257,0.9329106156678257,0.9325015340560442,0.9327060748619349,0.9318879116383718,0.9318879116383718,0.9316833708324811,0.9306606668030272,0.9298425035794641,0.9304561259971365,0.9304561259971365,0.9302515851912456,0.9298425035794641,0.9294334219676825,0.9300470443853549,0.9294334219676825,0.9294334219676825,0.9300470443853549,0.9300470443853549,0.9306606668030272,0.9306606668030272,0.9298425035794641,0.9304561259971365,0.9310697484148087,0.9314788300265903,0.9310697484148087,0.9318879116383718,0.9310697484148087,0.9310697484148087,0.9310697484148087,0.9314788300265903,0.9304561259971365,0.9300470443853549,0.9318879116383718,0.9306606668030272,0.9316833708324811,0.9314788300265903,0.930865207608918,0.9306606668030272,0.9312742892206995,0.9316833708324811,0.9306606668030272,0.9306606668030272,0.9306606668030272,0.9304561259971365,0.9302515851912456,0.9312742892206995],\"steps\":[0,5,10,15,20,25,30,35,40,45,50,55,60,65,70,75,80,85,90,95,100,105,110,115,120,125,130,135,140,145,150,155,160,165,170,175,180,185,190,195,200,205,210,215,220,225,230,235,240,245,250,255,260,265,270,275,280,285,290,295,300,305,310,315,320,325,330,335,340,345,350,355,360,365,370,375,380,385,390,395,400,405,410,415,420,425,430,435,440,445,450,455,460,465,470,475,480,485,490,495,500,505,510,515,520,525,530,535,540,545,550,555,560,565,570,575,580,585,590,595,600,605,610,615,620,625,630,635,640,645,650,655,660,665,670,675,680,685,690,695,700,705,710,715,720,725,730,735,740,745,750,755,760,765,770,775,780,785,790,795,800,805,810,815,820,825,830,835,840,845,850,855,860,865,870,875,880,885,890,895,900,905,910,915,920,925,930,935,940,945,950,955,960,965,970,975,980,985,990,995]},\"selected\":{\"id\":\"1650\"},\"selection_policy\":{\"id\":\"1651\"}},\"id\":\"1634\",\"type\":\"ColumnDataSource\"},{\"attributes\":{\"label\":{\"value\":\"1\"},\"renderers\":[{\"id\":\"1657\"}]},\"id\":\"1673\",\"type\":\"LegendItem\"},{\"attributes\":{\"fill_alpha\":{\"value\":0.1},\"fill_color\":{\"value\":\"#ffffff\"},\"line_alpha\":{\"value\":0.1},\"line_color\":{\"value\":\"#ffffff\"},\"size\":{\"units\":\"screen\",\"value\":1e-08},\"x\":{\"value\":0},\"y\":{\"value\":0}},\"id\":\"1619\",\"type\":\"Circle\"},{\"attributes\":{\"source\":{\"id\":\"1617\"}},\"id\":\"1621\",\"type\":\"CDSView\"},{\"attributes\":{\"bottom_units\":\"screen\",\"fill_alpha\":0.5,\"fill_color\":\"lightgrey\",\"left_units\":\"screen\",\"level\":\"overlay\",\"line_alpha\":1.0,\"line_color\":\"black\",\"line_dash\":[4,4],\"line_width\":2,\"right_units\":\"screen\",\"top_units\":\"screen\"},\"id\":\"1605\",\"type\":\"BoxAnnotation\"},{\"attributes\":{\"label\":{\"value\":\"Class Names\"},\"renderers\":[{\"id\":\"1620\"}]},\"id\":\"1633\",\"type\":\"LegendItem\"},{\"attributes\":{\"fill_color\":{\"value\":\"#ffffff\"},\"line_color\":{\"value\":\"#ffffff\"},\"size\":{\"units\":\"screen\",\"value\":1e-08},\"x\":{\"value\":0},\"y\":{\"value\":0}},\"id\":\"1618\",\"type\":\"Circle\"},{\"attributes\":{\"bottom_units\":\"screen\",\"fill_alpha\":0.5,\"fill_color\":\"lightgrey\",\"left_units\":\"screen\",\"level\":\"overlay\",\"line_alpha\":1.0,\"line_color\":\"black\",\"line_dash\":[4,4],\"line_width\":2,\"right_units\":\"screen\",\"top_units\":\"screen\"},\"id\":\"1606\",\"type\":\"BoxAnnotation\"},{\"attributes\":{\"text\":\"Accuracy Rate of Each Diagonal Element over Iteration\"},\"id\":\"1581\",\"type\":\"Title\"},{\"attributes\":{\"data\":{},\"selected\":{\"id\":\"1630\"},\"selection_policy\":{\"id\":\"1631\"}},\"id\":\"1617\",\"type\":\"ColumnDataSource\"},{\"attributes\":{\"line_color\":\"rgb(96, 86, 41)\",\"line_width\":4,\"x\":{\"field\":\"steps\"},\"y\":{\"field\":\"stat\"}},\"id\":\"1655\",\"type\":\"Line\"},{\"attributes\":{},\"id\":\"1599\",\"type\":\"PanTool\"},{\"attributes\":{},\"id\":\"1600\",\"type\":\"WheelZoomTool\"},{\"attributes\":{\"data_source\":{\"id\":\"1653\"},\"glyph\":{\"id\":\"1655\"},\"hover_glyph\":null,\"muted_glyph\":null,\"name\":\"1\",\"nonselection_glyph\":{\"id\":\"1656\"},\"selection_glyph\":null,\"view\":{\"id\":\"1658\"}},\"id\":\"1657\",\"type\":\"GlyphRenderer\"},{\"attributes\":{\"fill_alpha\":0.5,\"fill_color\":\"lightgrey\",\"level\":\"overlay\",\"line_alpha\":1.0,\"line_color\":\"black\",\"line_dash\":[4,4],\"line_width\":2,\"xs_units\":\"screen\",\"ys_units\":\"screen\"},\"id\":\"1607\",\"type\":\"PolyAnnotation\"},{\"attributes\":{},\"id\":\"1601\",\"type\":\"ResetTool\"},{\"attributes\":{\"active_drag\":\"auto\",\"active_inspect\":\"auto\",\"active_multi\":null,\"active_scroll\":\"auto\",\"active_tap\":\"auto\",\"tools\":[{\"id\":\"1599\"},{\"id\":\"1600\"},{\"id\":\"1601\"},{\"id\":\"1602\"},{\"id\":\"1603\"},{\"id\":\"1604\"},{\"id\":\"1608\"}]},\"id\":\"1609\",\"type\":\"Toolbar\"},{\"attributes\":{\"start\":0},\"id\":\"1585\",\"type\":\"DataRange1d\"},{\"attributes\":{\"overlay\":{\"id\":\"1607\"}},\"id\":\"1602\",\"type\":\"PolySelectTool\"},{\"attributes\":{\"line_alpha\":0.1,\"line_color\":\"rgb(96, 86, 41)\",\"line_width\":4,\"x\":{\"field\":\"steps\"},\"y\":{\"field\":\"stat\"}},\"id\":\"1656\",\"type\":\"Line\"},{\"attributes\":{\"overlay\":{\"id\":\"1605\"}},\"id\":\"1603\",\"type\":\"BoxSelectTool\"},{\"attributes\":{\"source\":{\"id\":\"1653\"}},\"id\":\"1658\",\"type\":\"CDSView\"},{\"attributes\":{},\"id\":\"1587\",\"type\":\"LinearScale\"},{\"attributes\":{\"line_color\":\"rgb(242, 150, 112)\",\"line_width\":4,\"x\":{\"field\":\"steps\"},\"y\":{\"field\":\"stat\"}},\"id\":\"1636\",\"type\":\"Line\"},{\"attributes\":{\"callback\":null,\"tooltips\":[[\"step\",\"@steps\"],[\"accuracy\",\"@stat\"]]},\"id\":\"1608\",\"type\":\"HoverTool\"},{\"attributes\":{\"data\":{\"stat\":[0.5157116451016636,0.5378927911275416,0.5292667898952557,0.5625385089340728,0.5914972273567468,0.6019716574245225,0.6167590881084412,0.6266173752310537,0.6389402341343191,0.6432532347504621,0.6457178065311152,0.6494146642020949,0.662969808995687,0.6611213801601972,0.662969808995687,0.6635859519408502,0.6635859519408502,0.6678989525569933,0.6642020948860136,0.6654343807763401,0.6654343807763401,0.6586568083795441,0.6611213801601972,0.662969808995687,0.6660505237215034,0.6648182378311769,0.6660505237215034,0.6642020948860136,0.662969808995687,0.6642020948860136,0.6611213801601972,0.6654343807763401,0.6642020948860136,0.6660505237215034,0.6660505237215034,0.6648182378311769,0.6660505237215034,0.6654343807763401,0.6635859519408502,0.6617375231053605,0.6642020948860136,0.66728280961183,0.6685150955021565,0.6678989525569933,0.6660505237215034,0.6660505237215034,0.6660505237215034,0.6654343807763401,0.662969808995687,0.6654343807763401,0.6642020948860136,0.6617375231053605,0.6635859519408502,0.6648182378311769,0.6678989525569933,0.66728280961183,0.6660505237215034,0.6654343807763401,0.6666666666666666,0.6685150955021565,0.6660505237215034,0.6660505237215034,0.662969808995687,0.66728280961183,0.6660505237215034,0.6654343807763401,0.6635859519408502,0.6642020948860136,0.662969808995687,0.6617375231053605,0.6635859519408502,0.6648182378311769,0.6648182378311769,0.6635859519408502,0.662969808995687,0.6605052372150338,0.6635859519408502,0.6642020948860136,0.6592729513247073,0.6592729513247073,0.6580406654343808,0.6586568083795441,0.6605052372150338,0.6592729513247073,0.6592729513247073,0.6580406654343808,0.6574245224892175,0.6586568083795441,0.6574245224892175,0.6568083795440542,0.6586568083795441,0.6561922365988909,0.6574245224892175,0.6574245224892175,0.6568083795440542,0.6580406654343808,0.6580406654343808,0.6592729513247073,0.6586568083795441,0.6586568083795441,0.6555760936537277,0.6555760936537277,0.6561922365988909,0.6561922365988909,0.6574245224892175,0.6592729513247073,0.6574245224892175,0.6574245224892175,0.6549599507085644,0.6555760936537277,0.6574245224892175,0.6574245224892175,0.6568083795440542,0.6555760936537277,0.6555760936537277,0.6555760936537277,0.6549599507085644,0.6549599507085644,0.6512630930375847,0.6531115218730745,0.6531115218730745,0.6500308071472581,0.6574245224892175,0.6549599507085644,0.6561922365988909,0.6549599507085644,0.6531115218730745,0.6537276648182379,0.6524953789279113,0.6537276648182379,0.6500308071472581,0.6512630930375847,0.6524953789279113,0.6524953789279113,0.6531115218730745,0.6512630930375847,0.6512630930375847,0.6555760936537277,0.6580406654343808,0.6574245224892175,0.6543438077634011,0.6524953789279113,0.6524953789279113,0.6524953789279113,0.6531115218730745,0.651879235982748,0.6524953789279113,0.651879235982748,0.6531115218730745,0.6524953789279113,0.6524953789279113,0.651879235982748,0.6531115218730745,0.6531115218730745,0.6543438077634011,0.6555760936537277,0.6512630930375847,0.6531115218730745,0.6537276648182379,0.6531115218730745,0.6561922365988909,0.6555760936537277,0.6543438077634011,0.6555760936537277,0.6555760936537277,0.6555760936537277,0.6580406654343808,0.6555760936537277,0.6568083795440542,0.6574245224892175,0.6555760936537277,0.6555760936537277,0.6561922365988909,0.651879235982748,0.6561922365988909,0.6537276648182379,0.6555760936537277,0.6561922365988909,0.6580406654343808,0.6555760936537277,0.6555760936537277,0.6555760936537277,0.6555760936537277,0.6543438077634011,0.6574245224892175,0.6580406654343808,0.6524953789279113,0.6549599507085644,0.6543438077634011,0.6549599507085644,0.6561922365988909,0.6568083795440542,0.6549599507085644,0.6549599507085644,0.6555760936537277,0.6568083795440542,0.6574245224892175,0.6574245224892175,0.6592729513247073,0.6580406654343808],\"steps\":[0,5,10,15,20,25,30,35,40,45,50,55,60,65,70,75,80,85,90,95,100,105,110,115,120,125,130,135,140,145,150,155,160,165,170,175,180,185,190,195,200,205,210,215,220,225,230,235,240,245,250,255,260,265,270,275,280,285,290,295,300,305,310,315,320,325,330,335,340,345,350,355,360,365,370,375,380,385,390,395,400,405,410,415,420,425,430,435,440,445,450,455,460,465,470,475,480,485,490,495,500,505,510,515,520,525,530,535,540,545,550,555,560,565,570,575,580,585,590,595,600,605,610,615,620,625,630,635,640,645,650,655,660,665,670,675,680,685,690,695,700,705,710,715,720,725,730,735,740,745,750,755,760,765,770,775,780,785,790,795,800,805,810,815,820,825,830,835,840,845,850,855,860,865,870,875,880,885,890,895,900,905,910,915,920,925,930,935,940,945,950,955,960,965,970,975,980,985,990,995]},\"selected\":{\"id\":\"1671\"},\"selection_policy\":{\"id\":\"1672\"}},\"id\":\"1653\",\"type\":\"ColumnDataSource\"},{\"attributes\":{},\"id\":\"1671\",\"type\":\"Selection\"},{\"attributes\":{\"overlay\":{\"id\":\"1606\"}},\"id\":\"1604\",\"type\":\"BoxZoomTool\"},{\"attributes\":{},\"id\":\"1672\",\"type\":\"UnionRenderers\"},{\"attributes\":{\"axis_label\":\"Iteration\",\"formatter\":{\"id\":\"1623\"},\"ticker\":{\"id\":\"1592\"}},\"id\":\"1591\",\"type\":\"LinearAxis\"},{\"attributes\":{},\"id\":\"1623\",\"type\":\"BasicTickFormatter\"},{\"attributes\":{\"source\":{\"id\":\"1634\"}},\"id\":\"1639\",\"type\":\"CDSView\"},{\"attributes\":{\"axis_label\":\"Accuracy\",\"formatter\":{\"id\":\"1625\"},\"ticker\":{\"id\":\"1596\"}},\"id\":\"1595\",\"type\":\"LinearAxis\"},{\"attributes\":{},\"id\":\"1630\",\"type\":\"Selection\"},{\"attributes\":{},\"id\":\"1583\",\"type\":\"DataRange1d\"},{\"attributes\":{},\"id\":\"1596\",\"type\":\"BasicTicker\"},{\"attributes\":{},\"id\":\"1592\",\"type\":\"BasicTicker\"},{\"attributes\":{\"line_alpha\":0.1,\"line_color\":\"rgb(242, 150, 112)\",\"line_width\":4,\"x\":{\"field\":\"steps\"},\"y\":{\"field\":\"stat\"}},\"id\":\"1637\",\"type\":\"Line\"},{\"attributes\":{},\"id\":\"1589\",\"type\":\"LinearScale\"},{\"attributes\":{\"axis\":{\"id\":\"1591\"},\"grid_line_color\":null,\"ticker\":null},\"id\":\"1594\",\"type\":\"Grid\"},{\"attributes\":{\"data_source\":{\"id\":\"1634\"},\"glyph\":{\"id\":\"1636\"},\"hover_glyph\":null,\"muted_glyph\":null,\"name\":\"0\",\"nonselection_glyph\":{\"id\":\"1637\"},\"selection_glyph\":null,\"view\":{\"id\":\"1639\"}},\"id\":\"1638\",\"type\":\"GlyphRenderer\"},{\"attributes\":{},\"id\":\"1650\",\"type\":\"Selection\"},{\"attributes\":{\"label\":{\"value\":\"0\"},\"renderers\":[{\"id\":\"1638\"}]},\"id\":\"1652\",\"type\":\"LegendItem\"}],\"root_ids\":[\"1580\"]},\"title\":\"Bokeh Application\",\"version\":\"2.2.3\"}};\n",
       "  var render_items = [{\"docid\":\"d5d3ede8-8781-471a-abec-660d2339ac39\",\"root_ids\":[\"1580\"],\"roots\":{\"1580\":\"87e0d739-859c-451a-a14d-f6cd78d24f00\"}}];\n",
       "  root.Bokeh.embed.embed_items_notebook(docs_json, render_items);\n",
       "\n",
       "  }\n",
       "  if (root.Bokeh !== undefined) {\n",
       "    embed_document(root);\n",
       "  } else {\n",
       "    var attempts = 0;\n",
       "    var timer = setInterval(function(root) {\n",
       "      if (root.Bokeh !== undefined) {\n",
       "        clearInterval(timer);\n",
       "        embed_document(root);\n",
       "      } else {\n",
       "        attempts++;\n",
       "        if (attempts > 100) {\n",
       "          clearInterval(timer);\n",
       "          console.log(\"Bokeh: ERROR: Unable to run BokehJS code because BokehJS library is missing\");\n",
       "        }\n",
       "      }\n",
       "    }, 10, root)\n",
       "  }\n",
       "})(window);"
      ],
      "application/vnd.bokehjs_exec.v0+json": ""
     },
     "metadata": {
      "application/vnd.bokehjs_exec.v0+json": {
       "id": "1580"
      }
     },
     "output_type": "display_data"
    }
   ],
   "source": [
    "from collections import defaultdict\n",
    "from scipy import stats\n",
    "from bokeh.models.tickers import SingleIntervalTicker\n",
    "import random\n",
    "import numpy as np\n",
    "from sklearn.metrics import confusion_matrix\n",
    "\n",
    "\n",
    "def color_gen():\n",
    "    co=(round(random.random()*250),round(random.random()*250),round(random.random()*250))\n",
    "    return co\n",
    "def plot_accuracy_rate():\n",
    "    class_to_accuracy_map = defaultdict(list)\n",
    "    label_steps = trial.tensor('labels').steps()\n",
    "    pred_steps = trial.tensor('predictions').steps()\n",
    "    validation_steps = sorted(list(set(label_steps).intersection(set(pred_steps))))\n",
    "    for step in validation_steps:\n",
    "        predictions = trial.tensor(\"predictions\").value(step).round()\n",
    "        labels = trial.tensor(\"labels\").value(step).round()\n",
    "        cm = confusion_matrix(\n",
    "            labels,\n",
    "            predictions\n",
    "        )\n",
    "        cm = cm.astype('float') / cm.sum(axis=1)[:, np.newaxis]\n",
    "        for class_ in range(len(cm)):\n",
    "            class_to_accuracy_map[class_].append(cm[class_][class_])\n",
    "\n",
    "    TOOLS=\"pan,wheel_zoom,reset,poly_select,box_select,box_zoom\"\n",
    "    TOOLTIPS = [\n",
    "        (\"step\", \"@steps\"),\n",
    "        (\"accuracy\", \"@stat\"),\n",
    "    ] \n",
    "    bin_names = []\n",
    "    data_list = []\n",
    "    p = figure( \n",
    "        title=f\"Accuracy Rate of Each Diagonal Element over Iteration\",\n",
    "        toolbar_location=\"left\", \n",
    "        tools=TOOLS,\n",
    "        tooltips=TOOLTIPS,\n",
    "        plot_height=500,\n",
    "        plot_width=1000\n",
    "    )\n",
    "    p.circle(0, 0, size=0.00000001, color= \"#ffffff\", legend_label=\"Class Names\")\n",
    "    for class_ in class_to_accuracy_map:\n",
    "        source = ColumnDataSource(\n",
    "            data=dict(\n",
    "                steps=validation_steps, \n",
    "                stat=class_to_accuracy_map[class_]\n",
    "            )\n",
    "        )\n",
    "        p.line(\n",
    "            'steps', \n",
    "            'stat', \n",
    "            name=str(class_), \n",
    "            color=color_gen(), \n",
    "            line_width=4,\n",
    "            source=source, \n",
    "            legend_label=str(class_)\n",
    "        )\n",
    "    p.legend.location = \"center_right\"\n",
    "    p.legend.click_policy=\"hide\"\n",
    "    p.xgrid.grid_line_color = None\n",
    "    p.xaxis.axis_label = 'Iteration'\n",
    "    p.yaxis.axis_label = 'Accuracy'\n",
    "    p.y_range.start = 0\n",
    "\n",
    "    show(p)\n",
    "\n",
    "avail_steps = trial.steps()\n",
    "obj_names_for_error_plots = [\"binary:logistic\", \"multi:softmax\"]\n",
    "if objective_metric in obj_names_for_error_plots:\n",
    "    if 'labels' in tensor_names and 'predictions' in tensor_names:\n",
    "        plot_accuracy_rate()\n",
    "    else:\n",
    "        error_message = \"\\n\\\n",
    "        Labels and Predictions are missing in the debugger data output.\\n\\\n",
    "        Please check if labels and predictions are included in your Debugger Hook Config.\\n\\\n",
    "        \"\n",
    "        display(Markdown(error_message))"
   ]
  },
  {
   "cell_type": "code",
   "execution_count": 20,
   "metadata": {
    "execution": {
     "iopub.execute_input": "2025-01-18T23:44:56.942069Z",
     "iopub.status.busy": "2025-01-18T23:44:56.940344Z",
     "iopub.status.idle": "2025-01-18T23:44:56.944257Z",
     "shell.execute_reply": "2025-01-18T23:44:56.943820Z"
    },
    "papermill": {
     "duration": 0.046557,
     "end_time": "2025-01-18T23:44:56.944381",
     "exception": false,
     "start_time": "2025-01-18T23:44:56.897824",
     "status": "completed"
    },
    "tags": [
     "hide-input"
    ]
   },
   "outputs": [
    {
     "data": {
      "text/markdown": [
       "## Receiver Operating Characteristic Curve <a name=\"section5\"></a>\n",
       "\n",
       "The *Receiver Operating Characteristic* curve shows the performance of binary classification.\n",
       "\n",
       "* It measures the ratio of TPR over FPR, and the **Area Under Curve** (AUC) approaches to 1 as the model performance improves. The lowest AUC value is 0.5 (the area under the line of no-discrimination). \n",
       "* If the AUC value is less than 0.6, it means that your model significantly under-performs. Consider improving your data, tuning the model parameters, pruning the trees, or trying other classifiers.\n",
       "\n"
      ],
      "text/plain": [
       "<IPython.core.display.Markdown object>"
      ]
     },
     "metadata": {},
     "output_type": "display_data"
    }
   ],
   "source": [
    "from IPython.display import display, Markdown\n",
    "\n",
    "s='## Receiver Operating Characteristic Curve <a name=\"section5\"></a>\\n\\\n",
    "\\n\\\n",
    "The *Receiver Operating Characteristic* curve shows the performance of binary classification.\\n\\\n",
    "\\n\\\n",
    "* It measures the ratio of TPR over FPR, and the **Area Under Curve** (AUC) approaches to 1 as the model performance improves. The lowest AUC value is 0.5 (the area under the line of no-discrimination). \\n\\\n",
    "* If the AUC value is less than 0.6, it means that your model significantly under-performs. Consider improving your data, tuning the model parameters, pruning the trees, or trying other classifiers.\\n\\\n",
    "\\n\\\n",
    "'\n",
    "\n",
    "if objective_metric in [\"binary:logistic\"]:\n",
    "    display(Markdown(s))\n"
   ]
  },
  {
   "cell_type": "code",
   "execution_count": 21,
   "metadata": {
    "execution": {
     "iopub.execute_input": "2025-01-18T23:44:57.032213Z",
     "iopub.status.busy": "2025-01-18T23:44:57.030973Z",
     "iopub.status.idle": "2025-01-18T23:44:57.098588Z",
     "shell.execute_reply": "2025-01-18T23:44:57.099178Z"
    },
    "papermill": {
     "duration": 0.118635,
     "end_time": "2025-01-18T23:44:57.099350",
     "exception": false,
     "start_time": "2025-01-18T23:44:56.980715",
     "status": "completed"
    },
    "tags": [
     "hide-input"
    ]
   },
   "outputs": [
    {
     "data": {
      "text/html": [
       "\n",
       "\n",
       "\n",
       "\n",
       "\n",
       "\n",
       "  <div class=\"bk-root\" id=\"345270b3-bb67-4518-85f4-527df1f5fe98\" data-root-id=\"1802\"></div>\n"
      ]
     },
     "metadata": {},
     "output_type": "display_data"
    },
    {
     "data": {
      "application/javascript": [
       "(function(root) {\n",
       "  function embed_document(root) {\n",
       "    \n",
       "  var docs_json = {\"fff670e6-4d3c-4a2c-a0d4-af6447689507\":{\"roots\":{\"references\":[{\"attributes\":{\"below\":[{\"id\":\"1813\"}],\"center\":[{\"id\":\"1816\"},{\"id\":\"1820\"},{\"id\":\"1855\"}],\"left\":[{\"id\":\"1817\"}],\"renderers\":[{\"id\":\"1839\"},{\"id\":\"1844\"}],\"title\":{\"id\":\"1803\"},\"toolbar\":{\"id\":\"1829\"},\"x_range\":{\"id\":\"1805\"},\"x_scale\":{\"id\":\"1809\"},\"y_range\":{\"id\":\"1807\"},\"y_scale\":{\"id\":\"1811\"}},\"id\":\"1802\",\"subtype\":\"Figure\",\"type\":\"Plot\"},{\"attributes\":{\"axis_label\":\"False Positive Rate\",\"formatter\":{\"id\":\"1847\"},\"ticker\":{\"id\":\"1814\"}},\"id\":\"1813\",\"type\":\"LinearAxis\"},{\"attributes\":{},\"id\":\"1823\",\"type\":\"ResetTool\"},{\"attributes\":{\"active_drag\":\"auto\",\"active_inspect\":\"auto\",\"active_multi\":null,\"active_scroll\":\"auto\",\"active_tap\":\"auto\",\"tools\":[{\"id\":\"1821\"},{\"id\":\"1822\"},{\"id\":\"1823\"},{\"id\":\"1824\"},{\"id\":\"1825\"},{\"id\":\"1828\"}]},\"id\":\"1829\",\"type\":\"Toolbar\"},{\"attributes\":{\"fill_alpha\":0.5,\"fill_color\":\"lightgrey\",\"level\":\"overlay\",\"line_alpha\":1.0,\"line_color\":\"black\",\"line_dash\":[4,4],\"line_width\":2,\"xs_units\":\"screen\",\"ys_units\":\"screen\"},\"id\":\"1827\",\"type\":\"PolyAnnotation\"},{\"attributes\":{\"overlay\":{\"id\":\"1827\"}},\"id\":\"1824\",\"type\":\"PolySelectTool\"},{\"attributes\":{\"overlay\":{\"id\":\"1826\"}},\"id\":\"1825\",\"type\":\"BoxZoomTool\"},{\"attributes\":{\"callback\":null,\"tooltips\":[[\"TPR\",\"@y_tpr\"],[\"FPR\",\"@x_fpr\"],[\"Thresh\",\"@thresh\"]]},\"id\":\"1828\",\"type\":\"HoverTool\"},{\"attributes\":{},\"id\":\"1807\",\"type\":\"DataRange1d\"},{\"attributes\":{\"data_source\":{\"id\":\"1801\"},\"glyph\":{\"id\":\"1837\"},\"hover_glyph\":null,\"muted_glyph\":null,\"nonselection_glyph\":{\"id\":\"1838\"},\"selection_glyph\":null,\"view\":{\"id\":\"1840\"}},\"id\":\"1839\",\"type\":\"GlyphRenderer\"},{\"attributes\":{\"line_alpha\":0.1,\"line_color\":\"blue\",\"x\":{\"field\":\"x_fpr\"},\"y\":{\"field\":\"y_tpr\"}},\"id\":\"1838\",\"type\":\"Line\"},{\"attributes\":{\"data\":{\"thresh\":{\"__ndarray__\":\"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\",\"dtype\":\"float32\",\"order\":\"little\",\"shape\":[1479]},\"x_fpr\":{\"__ndarray__\":\"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\",\"dtype\":\"float64\",\"order\":\"little\",\"shape\":[1479]},\"y_tpr\":{\"__ndarray__\":\"AAAAAAAAAABjIkrmlDBEP8K3RSosWJc/6FmqeDWbmD89gOWXi+2iP1DRFz8Qj6M/OShn3rK+wT85KGfesr7BPzU3Lh2R2MU/NTcuHZHYxT/3uaNemFbNP/e5o16YVs0/QKbuQdKtzj9Apu5B0q3OP1caz7kKpNA/VxrPuQqk0D+LiSiZU8LQP4uJKJlTwtA/rdMOLoTW0D/QHfXCtOrQP9Ad9cK06tA/4UJoDc300D/hQmgNzfTQPzf8p4FGJ9E/N/yngUYn0T9IIRvMXjHRP0ghG8xeMdE/amsBYY9F0T9qawFhj0XRP+NuJ2o5jNE/424najmM0T85KGfesr7RPzkoZ96yvtE/GApApu5B0j8YCkCm7kHSP5ENZq+YiNI/kQ1mr5iI0j+zV0xEyZzSP7NXTETJnNI/X8rLLLwB0z9fysssvAHTP4EUssHsFdM/gRSywewV0z+kXphWHSrTP8aofutNPtM/2fmwktLf0z/Z+bCS0t/TPx6OfbwzCNQ/Ho59vDMI1D90R70wrTrUP3RHvTCtOtQ/qLYWEPZY1D+othYQ9ljUP/1vVoRvi9Q//W9WhG+L1D8PlcnOh5XUPw+Vyc6HldQ/ILo8GaCf1D8gujwZoJ/UP0IEI67Qs9Q/QgQjrtCz1D/MLLwBkwTVP8wsvAGTBNU/3VEvTKsO1T/dUS9Mqw7VP+52opbDGNU/7nailsMY1T/ffe6oF6bVP9997qgXptU/AcjUPUi61T8ByNQ9SLrVPxLtR4hgxNU/Eu1HiGDE1T81Ny4dkdjVP1eBFLLB7NU/A/STmrRR1j8D9JOatFHWPyY+ei/lZdY/Jj56L+Vl1j+vZhODp7bWP69mE4OnttY/OY+s1mkH1z85j6zWaQfXP30jeQDLL9c/oG1flftD1z/2Jp8JdXbXP/Ymnwl1dtc/B0wSVI2A1z8HTBJUjYDXP5B0q6dP0dc/kHSrp0/R1z+imR7yZ9vXP6KZHvJn29c/1Qh40bD51z/VCHjRsPnXP/hSXmbhDdg/+FJeZuEN2D9fMRElc0rYP18xESVzStg/cFaEb4tU2D9wVoRvi1TYP4F797mjXtg/gXv3uaNe2D+16lCZ7HzYP7XqUJnsfNg/1zQ3Lh2R2D/XNDcuHZHYP8g7g0BxHtk/yDuDQHEe2T/ZYPaKiSjZP9lg9oqJKNk/UWQclDNv2T9RZByUM2/ZP3SuAilkg9k/dK4CKWSD2T+W+Oi9lJfZP5b46L2Ul9k/7LEoMg7K2T/ssSgyDsrZPw/8Dsc+3tk/D/wOxz7e2T9Ca2imh/zZP0JraKaH/Nk/ZLVOO7gQ2j+H/zTQ6CTaP4f/NNDoJNo/mCSoGgEv2j+YJKgaAS/aP+7d5456Ydo/7t3njnph2j8QKM4jq3XaPxAoziOrddo/RJcnA/ST2j9ElycD9JPaP4kr9CxVvNo/iSv0LFW82j/f5DOhzu7aP9/kM6HO7to/I3kAyy8X2z8jeQDLLxfbP0bD5l9gK9s/RsPmX2Ar2z95MkA/qUnbP3kyQD+pSds/raGZHvJn2z+toZke8mfbP/I1ZkhTkNs/8jVmSFOQ2z8UgEzdg6TbPxSATN2DpNs/N8oycrS42z9I76W8zMLbP0jvpbzMwts/jYNy5i3r2z+eqOUwRvXbP56o5TBG9ds/4zyyWqcd3D/jPLJapx3cPwWHmO/XMdw/BYeY79cx3D8WrAs68DvcPxasCzrwO9w/OPbxziBQ3D849vHOIFDcP46vMUOagtw/jq8xQ5qC3D/CHosi46DcP8IeiyLjoNw/XWyXwL373D9dbJfAvfvcP3+2fVXuD90/f7Z9Ve4P3T/3uaNemFbdP/e5o16YVt0/PE5wiPl+3T88TnCI+X7dP1+YVh0qk90/X5hWHSqT3T+B4jyyWqfdP4HiPLJap90/15t8JtTZ3T/Xm3wm1NndPxwwSVA1At4/HDBJUDUC3j9Pn6IvfiDeP0+foi9+IN4/lDNvWd9I3j+UM29Z30jeP/sRIhhxhd4/+xEiGHGF3j/7ESIYcYXePx5cCK2hmd4/HlwIraGZ3j8vgXv3uaPePy+Be/e5o94/UcthjOq33j9Ry2GM6rfeP5ZfLrZL4N4/uKkUS3z03j+4qRRLfPTeP+wYbirFEt8/7BhuKsUS3z/sGG4qxRLfPw5jVL/1Jt8/DmNUv/Um3z92QQd+h2PfP3ZBB36HY98/y/pG8gCW3z/L+kbyAJbfP81b1jeSB+A/zVvWN5IH4D/vpbzMwhvgP++lvMzCG+A/eDj28c4g4D94OPbxziDgP4ldaTznKuA/iV1pPOcq4D8S8KJh8y/gPyMVFqwLOuA/NDqJ9iNE4D80Oon2I0TgP98WqbBgXeA/3xapsGBd4D/wOxz7eGfgP/A7HPt4Z+A/ivPIap124D+K88hqnXbgP0b1W2/ymeA/RvVbb/KZ4D8UHGK+X8fgPxQcYr5fx+A/JUHVCHjR4D8lQdUIeNHgP/Jn21fl/uA/8mfbV+X+4D8DjU6i/QjhPwONTqL9COE/jB+IxwkO4T+MH4jHCQ7hPybXNDcuHeE/Jtc0Ny4d4T+/juGmUizhP7+O4aZSLOE/SCEbzF4x4T9IIRvMXjHhP1lGjhZ3O+E/WUaOFnc74T/i2Mc7g0DhP+LYxzuDQOE/amsBYY9F4T9qawFhj0XhP/P9OoabSuE/8/06hptK4T+Ntef1v1nhP4215/W/WeE/ntpaQNhj4T+e2lpA2GPhP6//zYrwbeE/OJIHsPxy4T/AJEHVCHjhP8AkQdUIeOE/Sbd6+hR94T9Jt3r6FH3hP/STmrRRluE/jktHJHal4T+OS0ckdqXhPxbegEmCquE/KAP0k5q04T/T3xNO183hP1tyTXPj0uE/bJfAvfvc4T9sl8C9+9zhPxd04Hc49uE/F3Tgdzj24T+xK43nXAXiP7ErjedcBeI/Or7GDGkK4j86vsYMaQriP9R1c3yNGeI/XAitoZke4j9tLSDssSjiP20tIOyxKOI/f1KTNsoy4j9/UpM2yjLiP5B3BoHiPOI/kHcGgeI84j+hnHnL+kbiP6Gcecv6RuI/THmZhTdg4j9MeZmFN2DiP9QL06pDZeI/XZ4M0E9q4j9uw38aaHTiP27DfxpodOI/f+jyZIB+4j9/6PJkgH7iPwh7LIqMg+I/CHssioyD4j+RDWavmIjiPxmgn9SkjeI/GaCf1KSN4j+iMtn5sJLiP6Iy2fmwkuI/POqFadWh4j886oVp1aHiP00P+bPtq+I/TQ/5s+2r4j9eNGz+BbbiP140bP4FtuI/b1nfSB7A4j9vWd9IHsDiP4B+UpM2yuI/gH5SkzbK4j8aNv8CW9niPxo2/wJb2eI/o8g4KGfe4j+jyDgoZ97iPz2A5ZeL7eI/PYDll4vt4j/FEh+9l/LiP8USH72X8uI/X8rLLLwB4z9fysssvAHjP+hcBVLIBuM/6FwFUsgG4z9w7z531AvjP3DvPnfUC+M/gRSywewV4z+BFLLB7BXjPwqn6+b4GuM/Cqfr5vga4z+kXphWHSrjPyzx0XspL+M/tYMLoTU04z+1gwuhNTTjPz4WRcZBOeM/PhZFxkE54z/o8mSAflLjP+jyZIB+UuM/cYWepYpX4z/6F9jKllzjP4KqEfCiYeM/gqoR8KJh4z8LPUsVr2bjPws9SxWvZuM/pfT3hNN14z+l9PeE03XjPy2HMarfeuM/LYcxqt964z/YY1FkHJTjP9hjUWQclOM/YfaKiSiZ4z9h9oqJKJnjP3Ib/tNAo+M/chv+00Cj4z+DQHEeWa3jP4NAcR5ZreM/DNOqQ2Wy4z8M06pDZbLjP5Rl5Ghxt+M/lGXkaHG34z8d+B2OfbzjPx34HY59vOM/t6/K/aHL4z+3r8r9ocvjP8jUPUi61eM/yNQ9SLrV4z/8Q5cnA/TjP/xDlycD9OM/DWkKchv+4z8NaQpyG/7jP5X7Q5cnA+Q/lftDlycD5D8ejn28MwjkP7hFKixYF+Q/uEUqLFgX5D9A2GNRZBzkP0DYY1FkHOQ/yWqddnAh5D9S/dabfCbkP2MiSuaUMOQ/YyJK5pQw5D/rtIMLoTXkP+u0gwuhNeQ/dEe9MK065D90R70wrTrkP4VsMHvFROQ/hWwwe8VE5D8wSVA1Al7kPzBJUDUCXuQ/QW7Dfxpo5D9BbsN/GmjkP0Fuw38aaOQ/QW7Dfxpo5D9SkzbKMnLkP9slcO8+d+Q/dd0cX2OG5D913RxfY4bkP/1vVoRvi+Q//W9WhG+L5D8PlcnOh5XkPw+Vyc6HleQ/lycD9JOa5D+XJwP0k5rkPyC6PBmgn+Q/ILo8GaCf5D8gujwZoJ/kPzHfr2O4qeQ/Md+vY7ip5D/LllzT3LjkP8uWXNPcuOQ/UymW+Oi95D/cu88d9cLkP2VOCUMByOQ/ZU4JQwHI5D92c3yNGdLkP3ZzfI0Z0uQ//gW2siXX5D/+BbayJdfkPxArKf094eQ/ECsp/T3h5D+YvWIiSubkP5i9YiJK5uQ/IVCcR1br5D8hUJxHVuvkP6ni1Wxi8OQ/qeLVbGLw5D/MLLwBkwTlP1S/9SafCeU/VL/1Jp8J5T/dUS9Mqw7lP91RL0yrDuU/3VEvTKsO5T/dUS9Mqw7lP2bkaHG3E+U/ZuRocbcT5T93Cdy7zx3lP3cJ3LvPHeU//5sV4dsi5T//mxXh2yLlP4guTwboJ+U/iC5PBugn5T+ZU8JQADLlP5lTwlAAMuU/Iub7dQw35T+qeDWbGDzlP6p4NZsYPOU/RDDiCj1L5T9EMOIKPUvlP83CGzBJUOU/zcIbMElQ5T9VVVVVVVXlP1VVVVVVVeU/Z3rIn21f5T9nesifbV/lP+8MAsV5ZOU/ADJ1D5Ju5T8AMnUPkm7lP4nErjSec+U/icSuNJ5z5T+rDpXJzoflP6sOlcnOh+U/NKHO7tqM5T80oc7u2ozlP0XGQTnzluU/RcZBOfOW5T9W67SDC6HlP1brtIMLoeU/333uqBem5T/ffe6oF6blP9997qgXpuU/eTWbGDy15T95NZsYPLXlPwHI1D1IuuU/AcjUPUi65T8ByNQ9SLrlP4paDmNUv+U/iloOY1S/5T8S7UeIYMTlPxLtR4hgxOU/vclnQp3d5T+9yWdCnd3lP0ZcoWep4uU/RlyhZ6ni5T9XgRSywezlP1eBFLLB7OU/4BNO183x5T/gE07XzfHlP4vwbZEKC+Y/i/BtkQoL5j+cFeHbIhXmP5wV4dsiFeY/JagaAS8a5j8lqBoBLxrmP606VCY7H+Y/rTpUJjsf5j/QhDq7azPmP9CEOrtrM+Y/WBd04Hc45j9YF3TgdzjmP+GprQWEPeY/4amtBYQ95j/hqa0FhD3mP+GprQWEPeY/aTznKpBC5j9pPOcqkELmP/LOIFCcR+Y/8s4gUJxH5j8UGQflzFvmPxQZB+XMW+Y/natACtlg5j+dq0AK2WDmPyY+ei/lZeY/Jj56L+Vl5j+u0LNU8WrmP67Qs1TxauY/rtCzVPFq5j9IiGDEFXrmP0iIYMQVeuY/0Rqa6SF/5j9ZrdMOLoTmP1mt0w4uhOY/atJGWUaO5j9q0kZZRo7mP3z3uaNemOY/fPe5o16Y5j8EivPIap3mPwSK88hqneY/nkGgOI+s5j+eQaA4j6zmPzj5TKizu+Y/OPlMqLO75j/Ai4bNv8DmP2topof82eY/a2imh/zZ5j9raKaH/NnmP2topof82eY/fI0Z0hTk5j98jRnSFOTmP46yjBwt7uY/jrKMHC3u5j+f1/9mRfjmP5/X/2ZF+OY/OY+s1mkH5z85j6zWaQfnP8Eh5vt1DOc/0kZZRo4W5z/SRllGjhbnP1vZkmuaG+c/W9mSa5ob5z/1kD/bvirnP/WQP9u+Kuc/fSN5AMsv5z99I3kAyy/nPwa2siXXNOc/BrayJdc05z+PSOxK4znnP49I7ErjOec/S0p/Tzhd5z9LSn9POF3nP+UBLL9cbOc/bZRl5Ghx5z9tlGXkaHHnP22UZeRocec/bZRl5Ghx5z/2Jp8JdXbnPwdMElSNgOc/B0wSVI2A5z+Q3kt5mYXnP5DeS3mZhec/sigyDsqZ5z+yKDIOypnnP7IoMg7Kmec/sigyDsqZ5z87u2sz1p7nP0zg3n3uqOc/TODefe6o5z/Uchij+q3nP9RyGKP6rec/birFEh+95z9uKsUSH73nP/e8/jcrwuc/COJxgkPM5z+zvpE8gOXnP7O+kTyA5ec/O1HLYYzq5z87UcthjOrnP9UIeNGw+ec/1Qh40bD55z9em7H2vP7nP16bsfa8/uc/5i3rG8kD6D/mLesbyQPoP2/AJEHVCOg/b8AkQdUI6D/4Ul5m4Q3oP/hSXmbhDeg/gOWXi+0S6D+A5ZeL7RLoPxqdRPsRIug/Gp1E+xEi6D8rwrdFKizoPyvCt0UqLOg/xXlktU476D9ODJ7aWkDoP9ae1/9mReg/1p7X/2ZF6D9fMRElc0roP18xESVzSug/cFaEb4tU6D+Be/e5o17oP4F797mjXug/Cg4x369j6D8bM6QpyG3oPyxYF3Tgd+g/LFgXdOB36D+16lCZ7HzoP7XqUJnsfOg/xg/E4wSH6D/GD8TjBIfoP0+i/QgRjOg/T6L9CBGM6D/oWap4NZvoP+hZqng1m+g/cezjnUGg6D9x7OOdQaDoP4IRV+hZqug/C6SQDWav6D8LpJANZq/oP5M2yjJytOg/HMkDWH656D8cyQNYfrnoP6VbPX2Kvug/pVs9fYq+6D+lWz19ir7oPy3udqKWw+g/Le52opbD6D+2gLDHosjoP7aAsMeiyOg/PhPq7K7N6D8+E+rsrs3oP084XTfH1+g/TzhdN8fX6D9hXdCB3+HoP2Fd0IHf4eg/DDrwOxz76D8MOvA7HPvoP5TMKWEoAOk/lMwpYSgA6T8dX2OGNAXpPx1fY4Y0Bek/pfGcq0AK6T+l8ZyrQArpPy6E1tBMD+k/LoTW0EwP6T+3FhD2WBTpP7cWEPZYFOk/P6lJG2UZ6T/IO4NAcR7pP8g7g0BxHuk/2WD2ioko6T/ZYPaKiSjpP2LzL7CVLek/YvMvsJUt6T/qhWnVoTLpP+qFadWhMuk/hD0WRcZB6T+EPRZFxkHpP4Q9FkXGQek/hD0WRcZB6T8N0E9q0kbpPw3QT2rSRuk/lWKJj95L6T+VYomP3kvpP6aH/Nn2Vek/ydHibidq6T/J0eJuJ2rpP8nR4m4nauk/ydHibidq6T9RZByUM2/pP1FkHJQzb+k/2vZVuT906T/a9lW5P3TpP2OJj95Leek/Y4mP3kt56T/rG8kDWH7pP+sbyQNYfuk/dK4CKWSD6T90rgIpZIPpP/xAPE5wiOk//EA8TnCI6T/8QDxOcIjpP4XTdXN8jek/hdN1c3yN6T8OZq+YiJLpPw5mr5iIkuk/lvjovZSX6T+W+Oi9lJfpPx+LIuOgnOk/px1cCK2h6T+nHVwIraHpPzCwlS25puk/MLCVLbmm6T+5Qs9SxavpP7lCz1LFq+k/ymdCnd216T/KZ0Kd3bXpP9uMtef1v+k/24y15/W/6T9kH+8MAsXpP2Qf7wwCxek/dURiVxrP6T91RGJXGs/pP4Zp1aEy2ek/hmnVoTLZ6T+XjkjsSuPpP5eOSOxK4+k/ICGCEVfo6T8gIYIRV+jpPzFG9Vtv8uk/MUb1W2/y6T+52C6Be/fpP7nYLoF79+k/Qmtopof86T9Ca2imh/zpP8v9ocuTAeo/y/2hy5MB6j9TkNvwnwbqP1OQ2/CfBuo/ZLVOO7gQ6j9ktU47uBDqP+1HiGDEFeo/7UeIYMQV6j922sGF0BrqP3bawYXQGuo//mz7qtwf6j/+bPuq3B/qP4f/NNDoJOo/h/800Ogk6j+YJKgaAS/qP5gkqBoBL+o/um6OrzFD6j+6bo6vMUPqP0MByNQ9SOo/QwHI1D1I6j9UJjsfVlLqP1QmOx9WUuo/3bh0RGJX6j/duHREYlfqP924dERiV+o/3bh0RGJX6j9lS65pblzqP2VLrmluXOo/7t3njnph6j/u3eeOemHqP4iVlP6ecOo/iJWU/p5w6j8QKM4jq3XqPxAoziOrdeo/mboHSbd66j+ZugdJt3rqP5m6B0m3euo/Ik1BbsN/6j8iTUFuw3/qP6rfepPPhOo/qt96k8+E6j+q33qTz4TqPzNytLjbieo/M3K0uNuJ6j9ElycD9JPqP80pYSgAmeo/3k7Uchij6j/eTtRyGKPqP2bhDZgkqOo/ZuENmCSo6j/vc0e9MK3qP+9zR70wreo/AJm6B0m36j8AmboHSbfqPxG+LVJhweo/Eb4tUmHB6j+aUGd3bcbqP5pQZ3dtxuo/mlBnd23G6j8j46CcecvqPyPjoJx5y+o/q3XawYXQ6j+rddrBhdDqP6t12sGF0Oo/q3XawYXQ6j80CBTnkdXqPzQIFOeR1eo/vJpNDJ7a6j+8mk0MntrqP7yaTQye2uo/RS2HMarf6j9FLYcxqt/qP0UthzGq3+o/RS2HMarf6j/Ov8BWtuTqP86/wFa25Oo/VlL6e8Lp6j9WUvp7wunqP9/kM6HO7uo/3+Qzoc7u6j9nd23G2vPqP2d3bcba8+o/8Amn6+b46j/wCafr5vjqP3mc4BDz/eo/eZzgEPP96j8BLxo2/wLrPwEvGjb/Aus/isFTWwsI6z+KwVNbCwjrPxJUjYAXDes/ElSNgBcN6z+b5salIxLrP5vmxqUjEus/m+bGpSMS6z8jeQDLLxfrPyN5AMsvF+s/rAs68Dsc6z+sCzrwOxzrP6wLOvA7HOs/rAs68Dsc6z81nnMVSCHrPzWecxVIIes/vTCtOlQm6z+9MK06VCbrP1foWap4Nes/V+hZqng16z/xnwYanUTrP/GfBhqdROs/eTJAP6lJ6z95MkA/qUnrPwLFeWS1Tus/AsV5ZLVO6z+LV7OJwVPrP5x8JtTZXes/nHwm1Nld6z8kD2D55WLrPyQPYPnlYus/raGZHvJn6z+toZke8mfrPzY000P+bOs/vsYMaQpy6z++xgxpCnLrP0dZRo4Wd+s/R1lGjhZ36z9YfrnYLoHrP1h+udguges/4RDz/TqG6z/hEPP9OobrP2mjLCNHi+s/aaMsI0eL6z/yNWZIU5DrP/I1ZkhTkOs/esifbV+V6z96yJ9tX5XrPwNb2ZJrmus/A1vZkmua6z+M7RK4d5/rP4ztErh3n+s/JaW/J5yu6z8lpb8nnK7rPzfKMnK0uOs/SO+lvMzC6z9I76W8zMLrP9CB3+HYx+s/0IHf4djH6z/iplIs8dHrP+KmUizx0es/ajmMUf3W6z9qOYxR/dbrP/PLxXYJ3Os/88vFdgnc6z97Xv+bFeHrPwTxOMEh5us/BPE4wSHm6z+Ng3LmLevrP56o5TBG9es/nqjlMEb16z8mOx9WUvrrPyY7H1ZS+us/r81Ye17/6z+vzVh7Xv/rPzhgkqBqBOw/OGCSoGoE7D/A8svFdgnsP0mFBeuCDuw/SYUF64IO7D/RFz8QjxPsP9EXPxCPE+w/Wqp4NZsY7D9aqng1mxjsP+M8slqnHew/4zyyWqcd7D9rz+t/syLsP2vP63+zIuw/9GElpb8n7D/0YSWlvyfsP3z0XsrLLOw/fPReysss7D8Fh5jv1zHsPwWHmO/XMew/jRnSFOQ27D+NGdIU5DbsPxasCzrwO+w/FqwLOvA77D8WrAs68DvsPxasCzrwO+w/nz5FX/xA7D+fPkVf/EDsPyfRfoQIRuw/J9F+hAhG7D+wY7ipFEvsPzj28c4gUOw/OPbxziBQ7D/BiCv0LFXsP8GIK/QsVew/ShtlGTla7D9bQNhjUWTsP1tA2GNRZOw/49IRiV1p7D/j0hGJXWnsP2xlS65pbuw/bGVLrmlu7D99ir74gXjsP32KvviBeOw/Bh34HY597D8GHfgdjn3sP46vMUOaguw/jq8xQ5qC7D8oZ96yvpHsPyhn3rK+kew/OYxR/dab7D85jFH91pvsP8IeiyLjoOw/wh6LIuOg7D/TQ/5s+6rsP1zWN5IHsOw/XNY3kgew7D9c1jeSB7DsP/aN5AEsv+w/9o3kASy/7D9+IB4nOMTsP34gHic4xOw/j0WRcVDO7D+PRZFxUM7sP49FkXFQzuw/GNjKllzT7D8Y2MqWXNPsP6FqBLxo2Ow/oWoEvGjY7D8p/T3hdN3sPyn9PeF03ew/so93BoHi7D+yj3cGgeLsPzoisSuN5+w/OiKxK43n7D9MRyR2pfHsP0xHJHal8ew/1Nldm7H27D/U2V2bsfbsP+X+0OXJAO0/5f7Q5ckA7T9ukQoL1gXtP26RCgvWBe0/9yNEMOIK7T/3I0Qw4grtP3+2fVXuD+0/f7Z9Ve4P7T8ISbd6+hTtPwhJt3r6FO0/kNvwnwYa7T+Q2/CfBhrtP6IAZOoeJO0/ogBk6h4k7T8qk50PKyntPyqTnQ8rKe0/syXXNDcu7T+zJdc0Ny7tPzu4EFpDM+0/O7gQWkMz7T/ESkp/TzjtP8RKSn9POO0/Td2DpFs97T9N3YOkWz3tP9VvvclnQu0/1W+9yWdC7T9eAvfuc0ftP14C9+5zR+0/5pQwFIBM7T/mlDAUgEztP28najmMUe0/bydqOYxR7T/3uaNemFbtP4BM3YOkW+0/gEzdg6Rb7T8J3xapsGDtPwnfFqmwYO0/kXFQzrxl7T+RcVDOvGXtP5FxUM68Ze0/kXFQzrxl7T8aBIrzyGrtPxoEivPIau0/opbDGNVv7T+ilsMY1W/tPysp/T3hdO0/Kyn9PeF07T8rKf094XTtPysp/T3hdO0/Kyn9PeF07T+0uzZj7XntP7S7NmPtee0/tLs2Y+157T88TnCI+X7tPzxOcIj5fu0/PE5wiPl+7T88TnCI+X7tP01z49IRie0/TXPj0hGJ7T/WBR34HY7tP9YFHfgdju0/X5hWHSqT7T9fmFYdKpPtP+cqkEI2mO0/5yqQQjaY7T+B4jyyWqftP4HiPLJap+0/geI8slqn7T8bmukhf7btPxua6SF/tu0/oywjR4u77T+jLCNHi7vtPyy/XGyXwO0/LL9cbJfA7T+1UZaRo8XtP7VRlpGjxe0/tVGWkaPF7T+1UZaRo8XtPz3kz7avyu0/PeTPtq/K7T/Gdgncu8/tP8Z2Cdy7z+0/TglDAcjU7T9OCUMByNTtP9ebfCbU2e0/15t8JtTZ7T/Xm3wm1NntP9ebfCbU2e0/6MDvcOzj7T/owO9w7OPtP/nlYrsE7u0/+eViuwTu7T/55WK7BO7tP/nlYrsE7u0/CwvWBR347T8LC9YFHfjtPwsL1gUd+O0/CwvWBR347T+TnQ8rKf3tP5OdDysp/e0/HDBJUDUC7j8cMElQNQLuP6TCgnVBB+4/pMKCdUEH7j8tVbyaTQzuPy1VvJpNDO4/tuf1v1kR7j8+ei/lZRbuPz56L+VlFu4/xwxpCnIb7j/HDGkKchvuP0+foi9+IO4/T5+iL34g7j/YMdxUiiXuP9gx3FSKJe4/YcQVepYq7j9hxBV6liruP+lWT5+iL+4/6VZPn6Iv7j/pVk+foi/uP+lWT5+iL+4/cumIxK407j9y6YjErjTuP/p7wum6Oe4/+nvC6bo57j+DDvwOxz7uP4MO/A7HPu4/DKE1NNND7j8MoTU000PuP5Qzb1nfSO4/lDNvWd9I7j8dxqh+603uPx3GqH7rTe4/HcaofutN7j8dxqh+603uP6VY4qP3Uu4/pVjio/dS7j8u6xvJA1juPy7rG8kDWO4/tn1V7g9d7j+2fVXuD13uPz8QjxMcYu4/PxCPExxi7j/Iosg4KGfuP8iiyDgoZ+4/UDUCXjRs7j9QNQJeNGzuP2FadahMdu4/YVp1qEx27j/q7K7NWHvuP+rsrs1Ye+4/c3/o8mSA7j9zf+jyZIDuP/sRIhhxhe4/+xEiGHGF7j+EpFs9fYruP4SkWz19iu4/DDeVYomP7j8MN5ViiY/uPx5cCK2hme4/HlwIraGZ7j+m7kHSrZ7uP6buQdKtnu4/L4F797mj7j8vgXv3uaPuP7cTtRzGqO4/txO1HMao7j9Apu5B0q3uP0Cm7kHSre4/yTgoZ96y7j/JOChn3rLuP1HLYYzqt+4/UcthjOq37j/aXZux9rzuP9pdm7H2vO4/YvDU1gLC7j9i8NTWAsLuP+uCDvwOx+4/64IO/A7H7j/rgg78DsfuP+uCDvwOx+4/dBVIIRvM7j90FUghG8zuP3QVSCEbzO4//KeBRifR7j/8p4FGJ9HuP4U6u2sz1u4/hTq7azPW7j8NzfSQP9vuPw3N9JA/2+4/ll8utkvg7j+WXy62S+DuPx/yZ9tX5e4/H/Jn21fl7j+nhKEAZOruP6eEoQBk6u4/MBfbJXDv7j8wF9slcO/uP7ipFEt89O4/uKkUS3z07j9BPE5wiPnuP0E8TnCI+e4/QTxOcIj57j9BPE5wiPnuP8rOh5WU/u4/ys6HlZT+7j/KzoeVlP7uP1JhwbqgA+8/UmHBuqAD7z9SYcG6oAPvP1JhwbqgA+8/2/P636wI7z/b8/rfrAjvP2OGNAW5De8/Y4Y0BbkN7z/sGG4qxRLvP+wYbirFEu8/daunT9EX7z91q6dP0RfvP3Wrp0/RF+8/daunT9EX7z/9PeF03RzvP/094XTdHO8/htAamukh7z+G0Bqa6SHvPw5jVL/1Ju8/DmNUv/Um7z+X9Y3kASzvP5f1jeQBLO8/IIjHCQ4x7z8giMcJDjHvP6gaAS8aNu8/qBoBLxo27z8xrTpUJjvvPzGtOlQmO+8/uT90eTJA7z+5P3R5MkDvP0LSrZ4+Re8/QtKtnj5F7z/LZOfDSkrvP8tk58NKSu8/y2Tnw0pK7z/LZOfDSkrvP1P3IOlWT+8/U/cg6VZP7z/ciVoOY1TvP9yJWg5jVO8/ZByUM29Z7z9kHJQzb1nvP+2uzVh7Xu8/7a7NWHte7z92QQd+h2PvP3ZBB36HY+8/dkEHfodj7z92QQd+h2PvP/7TQKOTaO8//tNAo5No7z+HZnrIn23vP4dmesifbe8/D/mz7aty7z8P+bPtq3LvP5iL7RK4d+8/mIvtErh37z+Yi+0SuHfvP5iL7RK4d+8/IB4nOMR87z8gHic4xHzvPyAeJzjEfO8/IB4nOMR87z+psGBd0IHvP6mwYF3Qge8/MkOagtyG7z8yQ5qC3IbvPzJDmoLchu8/MkOagtyG7z+61dOn6IvvP7rV06foi+8/Q2gNzfSQ7z9DaA3N9JDvP0NoDc30kO8/Q2gNzfSQ7z/L+kbyAJbvP1SNgBcNm+8/VI2AFw2b7z9UjYAXDZvvP1SNgBcNm+8/3R+6PBmg7z/dH7o8GaDvP2Wy82Elpe8/ZbLzYSWl7z/uRC2HMarvP+5ELYcxqu8/7kQthzGq7z/uRC2HMarvP3bXZqw9r+8/dtdmrD2v7z//aaDRSbTvP/9poNFJtO8//2mg0Um07z//aaDRSbTvP4j82fZVue8/iPzZ9lW57z+I/Nn2VbnvP4j82fZVue8/EI8THGK+7z8QjxMcYr7vP5khTUFuw+8/mSFNQW7D7z+ZIU1BbsPvP5khTUFuw+8/IbSGZnrI7z8htIZmesjvPyG0hmZ6yO8/IbSGZnrI7z8htIZmesjvPyG0hmZ6yO8/qkbAi4bN7z+qRsCLhs3vP6pGwIuGze8/qkbAi4bN7z8z2fmwktLvPzPZ+bCS0u8/u2sz1p7X7z+7azPWntfvP0T+bPuq3O8/RP5s+6rc7z/MkKYgt+HvP8yQpiC34e8/zJCmILfh7z/MkKYgt+HvP8yQpiC34e8/zJCmILfh7z/MkKYgt+HvP8yQpiC34e8/zJCmILfh7z/MkKYgt+HvP8yQpiC34e8/zJCmILfh7z9VI+BFw+bvP1Uj4EXD5u8/3rUZa8/r7z/etRlrz+vvP961GWvP6+8/3rUZa8/r7z9mSFOQ2/DvP2ZIU5Db8O8/ZkhTkNvw7z9mSFOQ2/DvP+/ajLXn9e8/79qMtef17z/v2oy15/XvP+/ajLXn9e8/79qMtef17z/v2oy15/XvP+/ajLXn9e8/79qMtef17z/v2oy15/XvP+/ajLXn9e8/79qMtef17z/v2oy15/XvP+/ajLXn9e8/79qMtef17z93bcba8/rvP3dtxtrz+u8/d23G2vP67z93bcba8/rvP3dtxtrz+u8/d23G2vP67z93bcba8/rvP3dtxtrz+u8/d23G2vP67z93bcba8/rvP3dtxtrz+u8/d23G2vP67z93bcba8/rvP3dtxtrz+u8/d23G2vP67z93bcba8/rvP3dtxtrz+u8/d23G2vP67z93bcba8/rvP3dtxtrz+u8/d23G2vP67z93bcba8/rvPwAAAAAAAPA/AAAAAAAA8D8AAAAAAADwPwAAAAAAAPA/AAAAAAAA8D8AAAAAAADwPwAAAAAAAPA/AAAAAAAA8D8AAAAAAADwPwAAAAAAAPA/AAAAAAAA8D8AAAAAAADwPwAAAAAAAPA/AAAAAAAA8D8AAAAAAADwPwAAAAAAAPA/AAAAAAAA8D8AAAAAAADwPwAAAAAAAPA/AAAAAAAA8D8AAAAAAADwPwAAAAAAAPA/AAAAAAAA8D8AAAAAAADwPwAAAAAAAPA/AAAAAAAA8D8AAAAAAADwPwAAAAAAAPA/AAAAAAAA8D8AAAAAAADwPwAAAAAAAPA/AAAAAAAA8D8AAAAAAADwPwAAAAAAAPA/AAAAAAAA8D8AAAAAAADwPwAAAAAAAPA/AAAAAAAA8D8AAAAAAADwPwAAAAAAAPA/AAAAAAAA8D8AAAAAAADwPwAAAAAAAPA/AAAAAAAA8D8AAAAAAADwPwAAAAAAAPA/AAAAAAAA8D8AAAAAAADwPwAAAAAAAPA/AAAAAAAA8D8AAAAAAADwPwAAAAAAAPA/AAAAAAAA8D8AAAAAAADwPwAAAAAAAPA/AAAAAAAA8D8AAAAAAADwPwAAAAAAAPA/AAAAAAAA8D8AAAAAAADwPwAAAAAAAPA/AAAAAAAA8D8AAAAAAADwPwAAAAAAAPA/AAAAAAAA8D8AAAAAAADwPwAAAAAAAPA/AAAAAAAA8D8AAAAAAADwPwAAAAAAAPA/AAAAAAAA8D8AAAAAAADwPwAAAAAAAPA/AAAAAAAA8D8AAAAAAADwPwAAAAAAAPA/AAAAAAAA8D8AAAAAAADwPwAAAAAAAPA/AAAAAAAA8D8AAAAAAADwPwAAAAAAAPA/AAAAAAAA8D8AAAAAAADwPwAAAAAAAPA/AAAAAAAA8D8AAAAAAADwPwAAAAAAAPA/AAAAAAAA8D8AAAAAAADwPwAAAAAAAPA/AAAAAAAA8D8AAAAAAADwPwAAAAAAAPA/AAAAAAAA8D8AAAAAAADwPwAAAAAAAPA/AAAAAAAA8D8AAAAAAADwPwAAAAAAAPA/AAAAAAAA8D8AAAAAAADwPwAAAAAAAPA/AAAAAAAA8D8AAAAAAADwPwAAAAAAAPA/AAAAAAAA8D8AAAAAAADwPwAAAAAAAPA/AAAAAAAA8D8AAAAAAADwPwAAAAAAAPA/AAAAAAAA8D8AAAAAAADwPwAAAAAAAPA/AAAAAAAA8D8AAAAAAADwPwAAAAAAAPA/AAAAAAAA8D8AAAAAAADwPwAAAAAAAPA/AAAAAAAA8D8AAAAAAADwPwAAAAAAAPA/AAAAAAAA8D8AAAAAAADwPwAAAAAAAPA/AAAAAAAA8D8AAAAAAADwPwAAAAAAAPA/\",\"dtype\":\"float64\",\"order\":\"little\",\"shape\":[1479]}},\"selected\":{\"id\":\"1853\"},\"selection_policy\":{\"id\":\"1854\"}},\"id\":\"1801\",\"type\":\"ColumnDataSource\"},{\"attributes\":{},\"id\":\"1818\",\"type\":\"BasicTicker\"},{\"attributes\":{},\"id\":\"1814\",\"type\":\"BasicTicker\"},{\"attributes\":{\"fill_alpha\":{\"value\":0.1},\"fill_color\":{\"value\":\"orange\"},\"line_alpha\":{\"value\":0.1},\"line_color\":{\"value\":\"orange\"},\"size\":{\"units\":\"screen\",\"value\":5},\"x\":{\"field\":\"x_fpr\"},\"y\":{\"field\":\"y_tpr\"}},\"id\":\"1843\",\"type\":\"Circle\"},{\"attributes\":{\"axis\":{\"id\":\"1813\"},\"ticker\":null},\"id\":\"1816\",\"type\":\"Grid\"},{\"attributes\":{\"text\":\"ROC curve\"},\"id\":\"1803\",\"type\":\"Title\"},{\"attributes\":{\"source\":{\"id\":\"1801\"}},\"id\":\"1845\",\"type\":\"CDSView\"},{\"attributes\":{},\"id\":\"1849\",\"type\":\"BasicTickFormatter\"},{\"attributes\":{},\"id\":\"1809\",\"type\":\"LinearScale\"},{\"attributes\":{\"axis\":{\"id\":\"1817\"},\"dimension\":1,\"ticker\":null},\"id\":\"1820\",\"type\":\"Grid\"},{\"attributes\":{\"axis_label\":\"True Positive Rate\",\"formatter\":{\"id\":\"1849\"},\"ticker\":{\"id\":\"1818\"}},\"id\":\"1817\",\"type\":\"LinearAxis\"},{\"attributes\":{},\"id\":\"1853\",\"type\":\"Selection\"},{\"attributes\":{},\"id\":\"1805\",\"type\":\"DataRange1d\"},{\"attributes\":{},\"id\":\"1854\",\"type\":\"UnionRenderers\"},{\"attributes\":{\"label\":{\"value\":\"Area Under Curve:\\n 0.92049\"},\"renderers\":[{\"id\":\"1844\"}]},\"id\":\"1856\",\"type\":\"LegendItem\"},{\"attributes\":{\"source\":{\"id\":\"1801\"}},\"id\":\"1840\",\"type\":\"CDSView\"},{\"attributes\":{},\"id\":\"1811\",\"type\":\"LinearScale\"},{\"attributes\":{\"items\":[{\"id\":\"1856\"}],\"location\":\"bottom_right\"},\"id\":\"1855\",\"type\":\"Legend\"},{\"attributes\":{\"fill_color\":{\"value\":\"orange\"},\"line_color\":{\"value\":\"orange\"},\"size\":{\"units\":\"screen\",\"value\":5},\"x\":{\"field\":\"x_fpr\"},\"y\":{\"field\":\"y_tpr\"}},\"id\":\"1842\",\"type\":\"Circle\"},{\"attributes\":{},\"id\":\"1847\",\"type\":\"BasicTickFormatter\"},{\"attributes\":{\"data_source\":{\"id\":\"1801\"},\"glyph\":{\"id\":\"1842\"},\"hover_glyph\":null,\"muted_glyph\":null,\"name\":\"ROC\",\"nonselection_glyph\":{\"id\":\"1843\"},\"selection_glyph\":null,\"view\":{\"id\":\"1845\"}},\"id\":\"1844\",\"type\":\"GlyphRenderer\"},{\"attributes\":{},\"id\":\"1821\",\"type\":\"PanTool\"},{\"attributes\":{\"line_color\":\"blue\",\"x\":{\"field\":\"x_fpr\"},\"y\":{\"field\":\"y_tpr\"}},\"id\":\"1837\",\"type\":\"Line\"},{\"attributes\":{\"bottom_units\":\"screen\",\"fill_alpha\":0.5,\"fill_color\":\"lightgrey\",\"left_units\":\"screen\",\"level\":\"overlay\",\"line_alpha\":1.0,\"line_color\":\"black\",\"line_dash\":[4,4],\"line_width\":2,\"right_units\":\"screen\",\"top_units\":\"screen\"},\"id\":\"1826\",\"type\":\"BoxAnnotation\"},{\"attributes\":{},\"id\":\"1822\",\"type\":\"WheelZoomTool\"}],\"root_ids\":[\"1802\"]},\"title\":\"Bokeh Application\",\"version\":\"2.2.3\"}};\n",
       "  var render_items = [{\"docid\":\"fff670e6-4d3c-4a2c-a0d4-af6447689507\",\"root_ids\":[\"1802\"],\"roots\":{\"1802\":\"345270b3-bb67-4518-85f4-527df1f5fe98\"}}];\n",
       "  root.Bokeh.embed.embed_items_notebook(docs_json, render_items);\n",
       "\n",
       "  }\n",
       "  if (root.Bokeh !== undefined) {\n",
       "    embed_document(root);\n",
       "  } else {\n",
       "    var attempts = 0;\n",
       "    var timer = setInterval(function(root) {\n",
       "      if (root.Bokeh !== undefined) {\n",
       "        clearInterval(timer);\n",
       "        embed_document(root);\n",
       "      } else {\n",
       "        attempts++;\n",
       "        if (attempts > 100) {\n",
       "          clearInterval(timer);\n",
       "          console.log(\"Bokeh: ERROR: Unable to run BokehJS code because BokehJS library is missing\");\n",
       "        }\n",
       "      }\n",
       "    }, 10, root)\n",
       "  }\n",
       "})(window);"
      ],
      "application/vnd.bokehjs_exec.v0+json": ""
     },
     "metadata": {
      "application/vnd.bokehjs_exec.v0+json": {
       "id": "1802"
      }
     },
     "output_type": "display_data"
    }
   ],
   "source": [
    "from sklearn.metrics import roc_curve, auc\n",
    "\n",
    "\n",
    "# ROC Curve Will Only Be Plotted For Binary Classifiers\n",
    "\n",
    "def plot_roc_curve():\n",
    "    y_preds = trial.tensor('predictions').value(plot_step)\n",
    "    labels = trial.tensor('labels').value(plot_step)\n",
    "    fpr, tpr, thresholds = roc_curve(labels, y_preds)\n",
    "    roc_auc = auc(fpr, tpr)\n",
    "    # PLOT ROC curve\n",
    "    source_ROC = ColumnDataSource(\n",
    "        data=dict(x_fpr=fpr, \n",
    "                  y_tpr=tpr,\n",
    "                  thresh=thresholds,\n",
    "                 )\n",
    "    )\n",
    "    auc_legend = f'Area Under Curve:\\n {(round(roc_auc, 5))}'\n",
    "    TOOLTIPS=[(\"TPR\", \"@y_tpr\"), (\"FPR\", \"@x_fpr\"), (\"Thresh\", \"@thresh\")]\n",
    "    TOOLS=\"pan,wheel_zoom,reset,poly_select,box_zoom\"\n",
    "    p = figure(title=f'ROC curve', tools=TOOLS, tooltips=TOOLTIPS)\n",
    "    p.line('x_fpr', 'y_tpr', line_width=1, color=\"blue\", source=source_ROC)\n",
    "    p.circle('x_fpr', 'y_tpr', size=5, color=\"orange\", legend_label=auc_legend, source=source_ROC, name='ROC')\n",
    "    p.xaxis.axis_label = 'False Positive Rate'\n",
    "    p.yaxis.axis_label = 'True Positive Rate'\n",
    "    p.legend.location = 'bottom_right'\n",
    "    show(p)\n",
    "    \n",
    "if objective_metric in [\"binary:logistic\"]:\n",
    "    if 'labels' in tensor_names and 'predictions' in tensor_names:\n",
    "        plot_roc_curve()\n",
    "    else:\n",
    "        error_message = \"\\n\\\n",
    "        Labels and Predictions are missing in the debugger data output.\\n\\\n",
    "        Please check if labels and predictions are included in your Debugger Hook Config.\\n\\\n",
    "        \"\n",
    "        display(Markdown(error_message))"
   ]
  },
  {
   "cell_type": "code",
   "execution_count": 22,
   "metadata": {
    "execution": {
     "iopub.execute_input": "2025-01-18T23:44:57.177721Z",
     "iopub.status.busy": "2025-01-18T23:44:57.174499Z",
     "iopub.status.idle": "2025-01-18T23:44:57.181516Z",
     "shell.execute_reply": "2025-01-18T23:44:57.181008Z"
    },
    "papermill": {
     "duration": 0.04681,
     "end_time": "2025-01-18T23:44:57.181649",
     "exception": false,
     "start_time": "2025-01-18T23:44:57.134839",
     "status": "completed"
    },
    "tags": [
     "hide-input"
    ]
   },
   "outputs": [
    {
     "data": {
      "text/markdown": [
       "## Distribution of Residuals at the Last Saved Step <a name=\"section6\"></a>\n",
       "\n",
       "The following histogram shows the distribution of residuals captured at the last step by Debugger.\n",
       "\n",
       "The residual is calculated as **predicted minus true** in this visualization. \n",
       "\n",
       "\n",
       "- For **regression**, the distribution should show a normal distribution centered at zero if the model is well trained.\n",
       "- For **classification**, the distribution shows how the number of correct prediction counts (at the zero residual bin) dominates over the number of wrong prediction counts.\n",
       "\n",
       "\n"
      ],
      "text/plain": [
       "<IPython.core.display.Markdown object>"
      ]
     },
     "metadata": {},
     "output_type": "display_data"
    }
   ],
   "source": [
    "from IPython.display import display, Markdown\n",
    "\n",
    "s = '## Distribution of Residuals at the Last Saved Step <a name=\"section6\"></a>\\n\\\n",
    "\\n\\\n",
    "The following histogram shows the distribution of residuals captured at the last step by Debugger.\\n\\\n",
    "\\n\\\n",
    "The residual is calculated as **predicted minus true** in this visualization. \\n\\\n",
    "\\n\\\n",
    "\\n\\\n",
    "- For **regression**, the distribution should show a normal distribution centered at zero if the model is well trained.\\n\\\n",
    "- For **classification**, the distribution shows how the number of correct prediction counts (at the zero residual bin) dominates over the number of wrong prediction counts.\\n\\\n",
    "\\n\\\n",
    "\\n\\\n",
    "'\n",
    "\n",
    "if objective_metric in SUPPORTED_OBJECTIVES:\n",
    "    display(Markdown(s))\n"
   ]
  },
  {
   "cell_type": "code",
   "execution_count": 23,
   "metadata": {
    "execution": {
     "iopub.execute_input": "2025-01-18T23:44:57.262553Z",
     "iopub.status.busy": "2025-01-18T23:44:57.261744Z",
     "iopub.status.idle": "2025-01-18T23:44:57.340284Z",
     "shell.execute_reply": "2025-01-18T23:44:57.339606Z"
    },
    "papermill": {
     "duration": 0.12425,
     "end_time": "2025-01-18T23:44:57.340971",
     "exception": false,
     "start_time": "2025-01-18T23:44:57.216721",
     "status": "completed"
    },
    "tags": [
     "hide-input"
    ]
   },
   "outputs": [
    {
     "data": {
      "text/html": [
       "\n",
       "\n",
       "\n",
       "\n",
       "\n",
       "\n",
       "  <div class=\"bk-root\" id=\"76f53b8a-1467-4ed2-8cdf-a50eff778c84\" data-root-id=\"2020\"></div>\n"
      ]
     },
     "metadata": {},
     "output_type": "display_data"
    },
    {
     "data": {
      "application/javascript": [
       "(function(root) {\n",
       "  function embed_document(root) {\n",
       "    \n",
       "  var docs_json = {\"c66c61f8-8ed2-4d0f-b3f7-6fa995f705a0\":{\"roots\":{\"references\":[{\"attributes\":{\"children\":[{\"id\":\"2019\"},{\"id\":\"2017\"}]},\"id\":\"2020\",\"type\":\"Row\"},{\"attributes\":{},\"id\":\"2014\",\"type\":\"Selection\"},{\"attributes\":{},\"id\":\"2015\",\"type\":\"UnionRenderers\"},{\"attributes\":{\"callback\":null,\"tooltips\":[[\"error\",\"$x\"],[\"count\",\"$y\"]]},\"id\":\"1994\",\"type\":\"HoverTool\"},{\"attributes\":{\"active_drag\":\"auto\",\"active_inspect\":\"auto\",\"active_multi\":null,\"active_scroll\":\"auto\",\"active_tap\":\"auto\",\"tools\":[{\"id\":\"1987\"},{\"id\":\"1988\"},{\"id\":\"1989\"},{\"id\":\"1990\"},{\"id\":\"1991\"},{\"id\":\"1994\"}]},\"id\":\"1995\",\"type\":\"Toolbar\"},{\"attributes\":{},\"id\":\"1971\",\"type\":\"DataRange1d\"},{\"attributes\":{},\"id\":\"1977\",\"type\":\"LinearScale\"},{\"attributes\":{\"below\":[{\"id\":\"1979\"}],\"center\":[{\"id\":\"1982\"},{\"id\":\"1986\"}],\"left\":[{\"id\":\"1983\"}],\"plot_height\":500,\"plot_width\":500,\"renderers\":[{\"id\":\"2005\"}],\"title\":{\"id\":\"1969\"},\"toolbar\":{\"id\":\"1995\"},\"toolbar_location\":null,\"x_range\":{\"id\":\"1971\"},\"x_scale\":{\"id\":\"1975\"},\"y_range\":{\"id\":\"1973\"},\"y_scale\":{\"id\":\"1977\"}},\"id\":\"1968\",\"subtype\":\"Figure\",\"type\":\"Plot\"},{\"attributes\":{\"bottom_units\":\"screen\",\"fill_alpha\":0.5,\"fill_color\":\"lightgrey\",\"left_units\":\"screen\",\"level\":\"overlay\",\"line_alpha\":1.0,\"line_color\":\"black\",\"line_dash\":[4,4],\"line_width\":2,\"right_units\":\"screen\",\"top_units\":\"screen\"},\"id\":\"1993\",\"type\":\"BoxAnnotation\"},{\"attributes\":{\"axis_label\":\"Error Count\",\"formatter\":{\"id\":\"2010\"},\"ticker\":{\"id\":\"1984\"}},\"id\":\"1983\",\"type\":\"LinearAxis\"},{\"attributes\":{},\"id\":\"1975\",\"type\":\"LinearScale\"},{\"attributes\":{\"bottom_units\":\"screen\",\"fill_alpha\":0.5,\"fill_color\":\"lightgrey\",\"left_units\":\"screen\",\"level\":\"overlay\",\"line_alpha\":1.0,\"line_color\":\"black\",\"line_dash\":[4,4],\"line_width\":2,\"right_units\":\"screen\",\"top_units\":\"screen\"},\"id\":\"1992\",\"type\":\"BoxAnnotation\"},{\"attributes\":{\"axis\":{\"id\":\"1979\"},\"grid_line_color\":\"white\",\"ticker\":null},\"id\":\"1982\",\"type\":\"Grid\"},{\"attributes\":{\"data\":{\"left\":{\"__ndarray__\":\"AACAv7dtW79u2za/JUkSv7dt274lSZK+JUkSvgAAAAAlSRI+JUmSPrdt2z4lSRI/bts2P7dtWz8=\",\"dtype\":\"float32\",\"order\":\"little\",\"shape\":[14]},\"right\":{\"__ndarray__\":\"t21bv27bNr8lSRK/t23bviVJkr4lSRK+AAAAACVJEj4lSZI+t23bPiVJEj9u2zY/t21bPwAAgD8=\",\"dtype\":\"float32\",\"order\":\"little\",\"shape\":[14]},\"top\":[555,0,0,0,0,0,0,5621,0,0,0,0,0,336]},\"selected\":{\"id\":\"2014\"},\"selection_policy\":{\"id\":\"2015\"}},\"id\":\"2002\",\"type\":\"ColumnDataSource\"},{\"attributes\":{},\"id\":\"2010\",\"type\":\"BasicTickFormatter\"},{\"attributes\":{\"source\":{\"id\":\"2002\"}},\"id\":\"2006\",\"type\":\"CDSView\"},{\"attributes\":{},\"id\":\"1989\",\"type\":\"ResetTool\"},{\"attributes\":{\"overlay\":{\"id\":\"1992\"}},\"id\":\"1990\",\"type\":\"BoxSelectTool\"},{\"attributes\":{\"overlay\":{\"id\":\"1993\"}},\"id\":\"1991\",\"type\":\"BoxZoomTool\"},{\"attributes\":{\"bottom\":{\"value\":0},\"fill_alpha\":{\"value\":0.1},\"fill_color\":{\"value\":\"navy\"},\"left\":{\"field\":\"left\"},\"line_alpha\":{\"value\":0.1},\"line_color\":{\"value\":\"white\"},\"right\":{\"field\":\"right\"},\"top\":{\"field\":\"top\"}},\"id\":\"2004\",\"type\":\"Quad\"},{\"attributes\":{\"text\":\"Error Distribution at step:995\"},\"id\":\"1969\",\"type\":\"Title\"},{\"attributes\":{\"axis\":{\"id\":\"1983\"},\"dimension\":1,\"grid_line_color\":\"white\",\"ticker\":null},\"id\":\"1986\",\"type\":\"Grid\"},{\"attributes\":{\"dimensions\":\"width\"},\"id\":\"1988\",\"type\":\"WheelZoomTool\"},{\"attributes\":{\"bottom\":{\"value\":0},\"fill_alpha\":{\"value\":0.5},\"fill_color\":{\"value\":\"navy\"},\"left\":{\"field\":\"left\"},\"line_alpha\":{\"value\":0.5},\"line_color\":{\"value\":\"white\"},\"right\":{\"field\":\"right\"},\"top\":{\"field\":\"top\"}},\"id\":\"2003\",\"type\":\"Quad\"},{\"attributes\":{},\"id\":\"1987\",\"type\":\"PanTool\"},{\"attributes\":{\"toolbars\":[{\"id\":\"1995\"}],\"tools\":[{\"id\":\"1987\"},{\"id\":\"1988\"},{\"id\":\"1989\"},{\"id\":\"1990\"},{\"id\":\"1991\"},{\"id\":\"1994\"}]},\"id\":\"2018\",\"type\":\"ProxyToolbar\"},{\"attributes\":{},\"id\":\"1984\",\"type\":\"BasicTicker\"},{\"attributes\":{\"toolbar\":{\"id\":\"2018\"},\"toolbar_location\":\"left\"},\"id\":\"2019\",\"type\":\"ToolbarBox\"},{\"attributes\":{},\"id\":\"1980\",\"type\":\"BasicTicker\"},{\"attributes\":{\"axis_label\":\"Error\",\"formatter\":{\"id\":\"2008\"},\"ticker\":{\"id\":\"1980\"}},\"id\":\"1979\",\"type\":\"LinearAxis\"},{\"attributes\":{\"data_source\":{\"id\":\"2002\"},\"glyph\":{\"id\":\"2003\"},\"hover_glyph\":null,\"muted_glyph\":null,\"nonselection_glyph\":{\"id\":\"2004\"},\"selection_glyph\":null,\"view\":{\"id\":\"2006\"}},\"id\":\"2005\",\"type\":\"GlyphRenderer\"},{\"attributes\":{},\"id\":\"2008\",\"type\":\"BasicTickFormatter\"},{\"attributes\":{\"start\":0},\"id\":\"1973\",\"type\":\"DataRange1d\"},{\"attributes\":{\"children\":[[{\"id\":\"1968\"},0,0]]},\"id\":\"2017\",\"type\":\"GridBox\"}],\"root_ids\":[\"2020\"]},\"title\":\"Bokeh Application\",\"version\":\"2.2.3\"}};\n",
       "  var render_items = [{\"docid\":\"c66c61f8-8ed2-4d0f-b3f7-6fa995f705a0\",\"root_ids\":[\"2020\"],\"roots\":{\"2020\":\"76f53b8a-1467-4ed2-8cdf-a50eff778c84\"}}];\n",
       "  root.Bokeh.embed.embed_items_notebook(docs_json, render_items);\n",
       "\n",
       "  }\n",
       "  if (root.Bokeh !== undefined) {\n",
       "    embed_document(root);\n",
       "  } else {\n",
       "    var attempts = 0;\n",
       "    var timer = setInterval(function(root) {\n",
       "      if (root.Bokeh !== undefined) {\n",
       "        clearInterval(timer);\n",
       "        embed_document(root);\n",
       "      } else {\n",
       "        attempts++;\n",
       "        if (attempts > 100) {\n",
       "          clearInterval(timer);\n",
       "          console.log(\"Bokeh: ERROR: Unable to run BokehJS code because BokehJS library is missing\");\n",
       "        }\n",
       "      }\n",
       "    }, 10, root)\n",
       "  }\n",
       "})(window);"
      ],
      "application/vnd.bokehjs_exec.v0+json": ""
     },
     "metadata": {
      "application/vnd.bokehjs_exec.v0+json": {
       "id": "2020"
      }
     },
     "output_type": "display_data"
    }
   ],
   "source": [
    "import numpy as np\n",
    "import scipy.special\n",
    "\n",
    "from bokeh.layouts import gridplot\n",
    "from bokeh.plotting import figure, output_file, show\n",
    "\n",
    "\n",
    "def make_plot(title, hist, edges, x):\n",
    "    TOOLS=\"pan,xwheel_zoom,reset,box_select,box_zoom\"    \n",
    "    TOOLTIPS = [\n",
    "        (\"error\", \"$x\"),\n",
    "        (\"count\", \"$y\"),\n",
    "    ]\n",
    "    p = figure(\n",
    "        title=title,  \n",
    "        tools=TOOLS,\n",
    "        toolbar_location=\"left\",\n",
    "        tooltips=TOOLTIPS\n",
    "    )\n",
    "    p.quad(top=hist, bottom=0, left=edges[:-1], right=edges[1:],\n",
    "           fill_color=\"navy\", line_color=\"white\", alpha=0.5)\n",
    "    p.y_range.start = 0\n",
    "    p.xaxis.axis_label = 'Error'\n",
    "    p.yaxis.axis_label = 'Error Count'\n",
    "    p.grid.grid_line_color=\"white\"\n",
    "    return p\n",
    "\n",
    "# Normal Distribution\n",
    "from scipy.stats import norm\n",
    "if 'labels' in tensor_names \\\n",
    "    and 'predictions' in tensor_names \\\n",
    "        and objective_metric in SUPPORTED_OBJECTIVES:\n",
    "    pred = trial.tensor('predictions').value(plot_step)\n",
    "    target = trial.tensor('labels').value(plot_step)\n",
    "    if objective_metric in [\"binary:logistic\", \"multi:softmax\"]:\n",
    "        pred = pred.round()\n",
    "        target = target.round()\n",
    "    error = pred-target\n",
    "    hist, edges = np.histogram(error, density=False,bins=\"auto\")\n",
    "    mu, sigma = norm.fit(error)\n",
    "    text_mu = round(mu,5)\n",
    "    text_sigma = round(sigma,5)\n",
    "    x = np.linspace(min(error), max(error))\n",
    "    p1 = make_plot(f\"Error Distribution at step:{plot_step}\", hist, edges, x)\n",
    "    show(gridplot([p1], ncols=2, plot_width=500, plot_height=500, toolbar_location=\"left\"))"
   ]
  },
  {
   "cell_type": "code",
   "execution_count": 24,
   "metadata": {
    "execution": {
     "iopub.execute_input": "2025-01-18T23:44:57.418641Z",
     "iopub.status.busy": "2025-01-18T23:44:57.417514Z",
     "iopub.status.idle": "2025-01-18T23:44:57.420662Z",
     "shell.execute_reply": "2025-01-18T23:44:57.420157Z"
    },
    "papermill": {
     "duration": 0.046504,
     "end_time": "2025-01-18T23:44:57.420803",
     "exception": false,
     "start_time": "2025-01-18T23:44:57.374299",
     "status": "completed"
    },
    "tags": [
     "hide-input"
    ]
   },
   "outputs": [],
   "source": [
    "from IPython.display import display, Markdown\n",
    "\n",
    "s = '## Absolute Validation Error per Label Bin over Iteration <a name=\"section7\"></a>\\n\\\n",
    "The following graph shows the progression of error (or residual) over iterations.\\n\\\n",
    "- The absolute validation error of each bin should reduce over time.\\n\\\n",
    "- Use this graph to identify poorly performing bins.\\n\\\n",
    "- Interact with the graph by toggling different classes by clicking on the legend.\\n\\\n",
    "'\n",
    "if objective_metric in [\"reg:squarederror\"]:\n",
    "    display(Markdown(s))\n"
   ]
  },
  {
   "cell_type": "code",
   "execution_count": 25,
   "metadata": {
    "execution": {
     "iopub.execute_input": "2025-01-18T23:44:57.510293Z",
     "iopub.status.busy": "2025-01-18T23:44:57.509685Z",
     "iopub.status.idle": "2025-01-18T23:44:57.516504Z",
     "shell.execute_reply": "2025-01-18T23:44:57.517211Z"
    },
    "papermill": {
     "duration": 0.060211,
     "end_time": "2025-01-18T23:44:57.517405",
     "exception": false,
     "start_time": "2025-01-18T23:44:57.457194",
     "status": "completed"
    },
    "tags": [
     "hide-input"
    ]
   },
   "outputs": [],
   "source": [
    "from scipy import stats\n",
    "from bokeh.models.tickers import SingleIntervalTicker\n",
    "import random\n",
    "\n",
    "def color_gen():\n",
    "    co=(round(random.random()*250),round(random.random()*250),round(random.random()*250))\n",
    "    return co\n",
    "def plot_abs_validation_error_per_label_bin_over_iteration():\n",
    "    label_steps = trial.tensor('labels').steps()\n",
    "    pred_steps = trial.tensor('predictions').steps()\n",
    "    validation_steps = sorted(list(set(label_steps).intersection(set(pred_steps))))\n",
    "    step_abs_error = []\n",
    "    for step in validation_steps:\n",
    "        label = trial.tensor('labels').value(step)\n",
    "        pred = trial.tensor('predictions').value(step)\n",
    "        abs_err = np.absolute(pred-label)\n",
    "        step_abs_error.append(abs_err)\n",
    "    labels = trial.tensor('labels').value(plot_step)\n",
    "    statistics, bin_edge, bin_num = stats.binned_statistic(labels, step_abs_error, 'mean', bins=10)\n",
    "    TOOLS=\"pan,wheel_zoom,reset,box_select,box_zoom\"\n",
    "    TOOLTIPS = [\n",
    "        (\"step\", \"@steps\"),\n",
    "        (\"bin\", \"$name\"),\n",
    "    ] \n",
    "    bin_names = []\n",
    "    data_list = []\n",
    "    p = figure( \n",
    "        title=f\"Absolute Validation Error Per Label Bin Over Iteration\",\n",
    "        toolbar_location=\"left\", \n",
    "        tools=TOOLS,\n",
    "        tooltips=TOOLTIPS,\n",
    "        plot_height=500,\n",
    "        plot_width=1000\n",
    "    )\n",
    "    for i in range(len(bin_edge)-1):\n",
    "        stat = statistics[:,i]\n",
    "        source = ColumnDataSource(\n",
    "            data=dict(\n",
    "                steps=validation_steps, \n",
    "                stat=stat\n",
    "            )\n",
    "        )\n",
    "        bin_name = str(round(bin_edge[i], 5))+\"-\"+str(round(bin_edge[i+1], 5))\n",
    "        p.line('steps', 'stat', name=bin_name, color=color_gen(), line_width=4, source=source, legend_label=bin_name)\n",
    "    p.legend.location = \"center_right\"\n",
    "    p.legend.click_policy=\"hide\"\n",
    "    p.xgrid.grid_line_color = None\n",
    "    p.xaxis.axis_label = 'Iteration'\n",
    "    p.yaxis.axis_label = 'Error'\n",
    "    p.y_range.start = 0\n",
    "\n",
    "    show(p)\n",
    "\n",
    "avail_steps = trial.steps()\n",
    "obj_names_for_error_plots = [\"reg:squarederror\"]\n",
    "if 'labels' in tensor_names and 'predictions' in tensor_names and objective_metric in obj_names_for_error_plots:\n",
    "    plot_abs_validation_error_per_label_bin_over_iteration()\n",
    "    "
   ]
  },
  {
   "cell_type": "code",
   "execution_count": 26,
   "metadata": {
    "execution": {
     "iopub.execute_input": "2025-01-18T23:44:57.600678Z",
     "iopub.status.busy": "2025-01-18T23:44:57.598778Z",
     "iopub.status.idle": "2025-01-18T23:44:57.601381Z",
     "shell.execute_reply": "2025-01-18T23:44:57.601871Z"
    },
    "papermill": {
     "duration": 0.043301,
     "end_time": "2025-01-18T23:44:57.602033",
     "exception": false,
     "start_time": "2025-01-18T23:44:57.558732",
     "status": "completed"
    },
    "tags": [
     "hide-input"
    ]
   },
   "outputs": [],
   "source": [
    "del trial"
   ]
  }
 ],
 "metadata": {
  "celltoolbar": "Tags",
  "file_extension": ".py",
  "kernelspec": {
   "display_name": "Python3",
   "language": "python",
   "name": "python3"
  },
  "language_info": {
   "codemirror_mode": {
    "name": "ipython",
    "version": 3
   },
   "file_extension": ".py",
   "mimetype": "text/x-python",
   "name": "python",
   "nbconvert_exporter": "python",
   "pygments_lexer": "ipython3",
   "version": "3.7.10"
  },
  "mimetype": "text/x-python",
  "name": "python",
  "nbconvert_exporter": "python",
  "papermill": {
   "duration": 9.152274,
   "end_time": "2025-01-18T23:44:58.250456",
   "environment_variables": {},
   "exception": null,
   "input_path": "/opt/ml/code/xgboost_report.ipynb",
   "output_path": "/opt/ml/processing/output/rule/.sagemaker-ignore/out.tmp",
   "parameters": {
    "path": "/opt/ml/processing/input/tensors",
    "plot_step": 995,
    "s3_path": "s3://sagemaker-us-east-2-905417999094/demo-sagemaker-xgboost-adult-income-prediction/xgboost_model/sagemaker-xgboost-2025-01-18-23-41-46-286/debug-output"
   },
   "start_time": "2025-01-18T23:44:49.098182",
   "version": "2.1.2"
  },
  "pygments_lexer": "ipython3",
  "version": "3.6.10"
 },
 "nbformat": 4,
 "nbformat_minor": 4
}